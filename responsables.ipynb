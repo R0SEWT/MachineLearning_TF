{
 "cells": [
  {
   "cell_type": "code",
   "execution_count": 12,
   "metadata": {},
   "outputs": [
    {
     "data": {
      "application/vnd.microsoft.datawrangler.viewer.v0+json": {
       "columns": [
        {
         "name": "index",
         "rawType": "int64",
         "type": "integer"
        },
        {
         "name": "Tarea",
         "rawType": "object",
         "type": "string"
        },
        {
         "name": "Responsable",
         "rawType": "object",
         "type": "string"
        },
        {
         "name": "Inicio",
         "rawType": "datetime64[ns]",
         "type": "datetime"
        },
        {
         "name": "Duración (h)",
         "rawType": "float64",
         "type": "float"
        },
        {
         "name": "Fin",
         "rawType": "datetime64[ns]",
         "type": "datetime"
        }
       ],
       "ref": "494c9966-2129-46b1-932e-9b981a4fe0c7",
       "rows": [
        [
         "0",
         "Entendimiento del negocio + CRISP-DM",
         "Persona C",
         "2025-07-07 09:00:00",
         "2.0",
         "2025-07-07 11:00:00"
        ],
        [
         "1",
         "Scraping + selección por narrativa",
         "Persona A",
         "2025-07-07 09:00:00",
         "3.0",
         "2025-07-07 12:00:00"
        ],
        [
         "2",
         "Preprocesamiento (limpieza y formateo)",
         "Persona C",
         "2025-07-07 09:00:00",
         "3.0",
         "2025-07-07 12:00:00"
        ],
        [
         "3",
         "EDA (visualización + clusters)",
         "Persona A",
         "2025-07-07 11:00:00",
         "3.0",
         "2025-07-07 14:00:00"
        ],
        [
         "4",
         "EDA (análisis por narrativa)",
         "Persona B",
         "2025-07-07 13:00:00",
         "2.0",
         "2025-07-07 15:00:00"
        ],
        [
         "5",
         "Feature Engineering (RSI, MACD...)",
         "Rody",
         "2025-07-07 13:00:00",
         "3.0",
         "2025-07-07 16:00:00"
        ],
        [
         "6",
         "EDA extra + revisión features",
         "Persona C",
         "2025-07-07 14:00:00",
         "1.5",
         "2025-07-07 15:30:00"
        ],
        [
         "7",
         "Redacción preliminar informe (secciones 1-3)",
         "Persona B",
         "2025-07-07 15:00:00",
         "2.5",
         "2025-07-07 17:30:00"
        ],
        [
         "8",
         "Modelo Predictivo (entrenamiento + métricas)",
         "Persona A",
         "2025-07-08 09:00:00",
         "3.0",
         "2025-07-08 12:00:00"
        ],
        [
         "9",
         "Detección de Anomalías",
         "Rody",
         "2025-07-08 09:00:00",
         "3.5",
         "2025-07-08 12:30:00"
        ],
        [
         "10",
         "Tuning con Optuna",
         "Rody",
         "2025-07-08 12:30:00",
         "2.5",
         "2025-07-08 15:00:00"
        ],
        [
         "11",
         "GUI Básica (Streamlit/Gradio)",
         "Persona B",
         "2025-07-08 10:00:00",
         "3.5",
         "2025-07-08 13:30:00"
        ],
        [
         "12",
         "Informe final (secciones 4-7)",
         "Persona C",
         "2025-07-08 13:00:00",
         "3.0",
         "2025-07-08 16:00:00"
        ],
        [
         "13",
         "Revisión final + GitHub + empaquetado",
         "Todos",
         "2025-07-08 16:00:00",
         "2.0",
         "2025-07-08 18:00:00"
        ]
       ],
       "shape": {
        "columns": 5,
        "rows": 14
       }
      },
      "text/html": [
       "<div>\n",
       "<style scoped>\n",
       "    .dataframe tbody tr th:only-of-type {\n",
       "        vertical-align: middle;\n",
       "    }\n",
       "\n",
       "    .dataframe tbody tr th {\n",
       "        vertical-align: top;\n",
       "    }\n",
       "\n",
       "    .dataframe thead th {\n",
       "        text-align: right;\n",
       "    }\n",
       "</style>\n",
       "<table border=\"1\" class=\"dataframe\">\n",
       "  <thead>\n",
       "    <tr style=\"text-align: right;\">\n",
       "      <th></th>\n",
       "      <th>Tarea</th>\n",
       "      <th>Responsable</th>\n",
       "      <th>Inicio</th>\n",
       "      <th>Duración (h)</th>\n",
       "      <th>Fin</th>\n",
       "    </tr>\n",
       "  </thead>\n",
       "  <tbody>\n",
       "    <tr>\n",
       "      <th>0</th>\n",
       "      <td>Entendimiento del negocio + CRISP-DM</td>\n",
       "      <td>Persona C</td>\n",
       "      <td>2025-07-07 09:00:00</td>\n",
       "      <td>2.0</td>\n",
       "      <td>2025-07-07 11:00:00</td>\n",
       "    </tr>\n",
       "    <tr>\n",
       "      <th>1</th>\n",
       "      <td>Scraping + selección por narrativa</td>\n",
       "      <td>Persona A</td>\n",
       "      <td>2025-07-07 09:00:00</td>\n",
       "      <td>3.0</td>\n",
       "      <td>2025-07-07 12:00:00</td>\n",
       "    </tr>\n",
       "    <tr>\n",
       "      <th>2</th>\n",
       "      <td>Preprocesamiento (limpieza y formateo)</td>\n",
       "      <td>Persona C</td>\n",
       "      <td>2025-07-07 09:00:00</td>\n",
       "      <td>3.0</td>\n",
       "      <td>2025-07-07 12:00:00</td>\n",
       "    </tr>\n",
       "    <tr>\n",
       "      <th>3</th>\n",
       "      <td>EDA (visualización + clusters)</td>\n",
       "      <td>Persona A</td>\n",
       "      <td>2025-07-07 11:00:00</td>\n",
       "      <td>3.0</td>\n",
       "      <td>2025-07-07 14:00:00</td>\n",
       "    </tr>\n",
       "    <tr>\n",
       "      <th>4</th>\n",
       "      <td>EDA (análisis por narrativa)</td>\n",
       "      <td>Persona B</td>\n",
       "      <td>2025-07-07 13:00:00</td>\n",
       "      <td>2.0</td>\n",
       "      <td>2025-07-07 15:00:00</td>\n",
       "    </tr>\n",
       "    <tr>\n",
       "      <th>5</th>\n",
       "      <td>Feature Engineering (RSI, MACD...)</td>\n",
       "      <td>Rody</td>\n",
       "      <td>2025-07-07 13:00:00</td>\n",
       "      <td>3.0</td>\n",
       "      <td>2025-07-07 16:00:00</td>\n",
       "    </tr>\n",
       "    <tr>\n",
       "      <th>6</th>\n",
       "      <td>EDA extra + revisión features</td>\n",
       "      <td>Persona C</td>\n",
       "      <td>2025-07-07 14:00:00</td>\n",
       "      <td>1.5</td>\n",
       "      <td>2025-07-07 15:30:00</td>\n",
       "    </tr>\n",
       "    <tr>\n",
       "      <th>7</th>\n",
       "      <td>Redacción preliminar informe (secciones 1-3)</td>\n",
       "      <td>Persona B</td>\n",
       "      <td>2025-07-07 15:00:00</td>\n",
       "      <td>2.5</td>\n",
       "      <td>2025-07-07 17:30:00</td>\n",
       "    </tr>\n",
       "    <tr>\n",
       "      <th>8</th>\n",
       "      <td>Modelo Predictivo (entrenamiento + métricas)</td>\n",
       "      <td>Persona A</td>\n",
       "      <td>2025-07-08 09:00:00</td>\n",
       "      <td>3.0</td>\n",
       "      <td>2025-07-08 12:00:00</td>\n",
       "    </tr>\n",
       "    <tr>\n",
       "      <th>9</th>\n",
       "      <td>Detección de Anomalías</td>\n",
       "      <td>Rody</td>\n",
       "      <td>2025-07-08 09:00:00</td>\n",
       "      <td>3.5</td>\n",
       "      <td>2025-07-08 12:30:00</td>\n",
       "    </tr>\n",
       "    <tr>\n",
       "      <th>10</th>\n",
       "      <td>Tuning con Optuna</td>\n",
       "      <td>Rody</td>\n",
       "      <td>2025-07-08 12:30:00</td>\n",
       "      <td>2.5</td>\n",
       "      <td>2025-07-08 15:00:00</td>\n",
       "    </tr>\n",
       "    <tr>\n",
       "      <th>11</th>\n",
       "      <td>GUI Básica (Streamlit/Gradio)</td>\n",
       "      <td>Persona B</td>\n",
       "      <td>2025-07-08 10:00:00</td>\n",
       "      <td>3.5</td>\n",
       "      <td>2025-07-08 13:30:00</td>\n",
       "    </tr>\n",
       "    <tr>\n",
       "      <th>12</th>\n",
       "      <td>Informe final (secciones 4-7)</td>\n",
       "      <td>Persona C</td>\n",
       "      <td>2025-07-08 13:00:00</td>\n",
       "      <td>3.0</td>\n",
       "      <td>2025-07-08 16:00:00</td>\n",
       "    </tr>\n",
       "    <tr>\n",
       "      <th>13</th>\n",
       "      <td>Revisión final + GitHub + empaquetado</td>\n",
       "      <td>Todos</td>\n",
       "      <td>2025-07-08 16:00:00</td>\n",
       "      <td>2.0</td>\n",
       "      <td>2025-07-08 18:00:00</td>\n",
       "    </tr>\n",
       "  </tbody>\n",
       "</table>\n",
       "</div>"
      ],
      "text/plain": [
       "                                           Tarea Responsable  \\\n",
       "0           Entendimiento del negocio + CRISP-DM   Persona C   \n",
       "1             Scraping + selección por narrativa   Persona A   \n",
       "2         Preprocesamiento (limpieza y formateo)   Persona C   \n",
       "3                 EDA (visualización + clusters)   Persona A   \n",
       "4                   EDA (análisis por narrativa)   Persona B   \n",
       "5             Feature Engineering (RSI, MACD...)        Rody   \n",
       "6                  EDA extra + revisión features   Persona C   \n",
       "7   Redacción preliminar informe (secciones 1-3)   Persona B   \n",
       "8   Modelo Predictivo (entrenamiento + métricas)   Persona A   \n",
       "9                         Detección de Anomalías        Rody   \n",
       "10                             Tuning con Optuna        Rody   \n",
       "11                 GUI Básica (Streamlit/Gradio)   Persona B   \n",
       "12                 Informe final (secciones 4-7)   Persona C   \n",
       "13         Revisión final + GitHub + empaquetado       Todos   \n",
       "\n",
       "                Inicio  Duración (h)                 Fin  \n",
       "0  2025-07-07 09:00:00           2.0 2025-07-07 11:00:00  \n",
       "1  2025-07-07 09:00:00           3.0 2025-07-07 12:00:00  \n",
       "2  2025-07-07 09:00:00           3.0 2025-07-07 12:00:00  \n",
       "3  2025-07-07 11:00:00           3.0 2025-07-07 14:00:00  \n",
       "4  2025-07-07 13:00:00           2.0 2025-07-07 15:00:00  \n",
       "5  2025-07-07 13:00:00           3.0 2025-07-07 16:00:00  \n",
       "6  2025-07-07 14:00:00           1.5 2025-07-07 15:30:00  \n",
       "7  2025-07-07 15:00:00           2.5 2025-07-07 17:30:00  \n",
       "8  2025-07-08 09:00:00           3.0 2025-07-08 12:00:00  \n",
       "9  2025-07-08 09:00:00           3.5 2025-07-08 12:30:00  \n",
       "10 2025-07-08 12:30:00           2.5 2025-07-08 15:00:00  \n",
       "11 2025-07-08 10:00:00           3.5 2025-07-08 13:30:00  \n",
       "12 2025-07-08 13:00:00           3.0 2025-07-08 16:00:00  \n",
       "13 2025-07-08 16:00:00           2.0 2025-07-08 18:00:00  "
      ]
     },
     "execution_count": 12,
     "metadata": {},
     "output_type": "execute_result"
    }
   ],
   "source": [
    "import pandas as pd\n",
    "import plotly.express as px\n",
    "import matplotlib.pyplot as plt\n",
    "\n",
    "\n",
    "data = [\n",
    "    # Día 1 - Lunes \n",
    "    [\"Entendimiento del negocio + CRISP-DM\", \"Persona C\", \"2025-07-07 09:00\", 2],\n",
    "    [\"Scraping + selección por narrativa\", \"Persona A\", \"2025-07-07 09:00\", 3],\n",
    "    [\"Preprocesamiento (limpieza y formateo)\", \"Persona C\", \"2025-07-07 09:00\", 3],\n",
    "    [\"EDA (visualización + clusters)\", \"Persona A\", \"2025-07-07 11:00\", 3],\n",
    "    [\"EDA (análisis por narrativa)\", \"Persona B\", \"2025-07-07 13:00\", 2],\n",
    "    [\"Feature Engineering (RSI, MACD...)\", \"Rody\", \"2025-07-07 13:00\", 3],\n",
    "    [\"EDA extra + revisión features\", \"Persona C\", \"2025-07-07 14:00\", 1.5],\n",
    "    [\"Redacción preliminar informe (secciones 1-3)\", \"Persona B\", \"2025-07-07 15:00\", 2.5],\n",
    "    \n",
    "    # Día 2 - Martes\n",
    "    [\"Modelo Predictivo (entrenamiento + métricas)\", \"Persona A\", \"2025-07-08 09:00\", 3],\n",
    "    [\"Detección de Anomalías\", \"Rody\", \"2025-07-08 09:00\", 3.5],\n",
    "    [\"Tuning con Optuna\", \"Rody\", \"2025-07-08 12:30\", 2.5],\n",
    "    [\"GUI Básica (Streamlit/Gradio)\", \"Persona B\", \"2025-07-08 10:00\", 3.5],\n",
    "    [\"Informe final (secciones 4-7)\", \"Persona C\", \"2025-07-08 13:00\", 3],\n",
    "    [\"Revisión final + GitHub + empaquetado\", \"Todos\", \"2025-07-08 16:00\", 2],\n",
    "]\n",
    "\n",
    "\n",
    "# Crear DataFrame\n",
    "df = pd.DataFrame(data, columns=[\"Tarea\", \"Responsable\", \"Inicio\", \"Duración (h)\"])\n",
    "df[\"Inicio\"] = pd.to_datetime(df[\"Inicio\"])\n",
    "df[\"Fin\"] = df[\"Inicio\"] + pd.to_timedelta(df[\"Duración (h)\"], unit=\"h\")\n",
    "\n",
    "df\n"
   ]
  },
  {
   "cell_type": "code",
   "execution_count": 13,
   "id": "babe3795",
   "metadata": {},
   "outputs": [
    {
     "data": {
      "application/vnd.plotly.v1+json": {
       "config": {
        "plotlyServerURL": "https://plot.ly"
       },
       "data": [
        {
         "base": [
          "2025-07-07T09:00:00.000000000"
         ],
         "hovertemplate": "Tarea=Entendimiento del negocio + CRISP-DM<br>Inicio=%{base}<br>Fin=%{x}<br>Responsable=%{y}<extra></extra>",
         "legendgroup": "Entendimiento del negocio + CRISP-DM",
         "marker": {
          "color": "#636efa",
          "pattern": {
           "shape": ""
          }
         },
         "name": "Entendimiento del negocio + CRISP-DM",
         "orientation": "h",
         "showlegend": true,
         "textposition": "auto",
         "type": "bar",
         "x": {
          "bdata": "AN1tAA==",
          "dtype": "i4"
         },
         "xaxis": "x",
         "y": [
          "Persona C"
         ],
         "yaxis": "y"
        },
        {
         "base": [
          "2025-07-07T09:00:00.000000000"
         ],
         "hovertemplate": "Tarea=Scraping + selección por narrativa<br>Inicio=%{base}<br>Fin=%{x}<br>Responsable=%{y}<extra></extra>",
         "legendgroup": "Scraping + selección por narrativa",
         "marker": {
          "color": "#EF553B",
          "pattern": {
           "shape": ""
          }
         },
         "name": "Scraping + selección por narrativa",
         "orientation": "h",
         "showlegend": true,
         "textposition": "auto",
         "type": "bar",
         "x": {
          "bdata": "gMukAA==",
          "dtype": "i4"
         },
         "xaxis": "x",
         "y": [
          "Persona A"
         ],
         "yaxis": "y"
        },
        {
         "base": [
          "2025-07-07T09:00:00.000000000"
         ],
         "hovertemplate": "Tarea=Preprocesamiento (limpieza y formateo)<br>Inicio=%{base}<br>Fin=%{x}<br>Responsable=%{y}<extra></extra>",
         "legendgroup": "Preprocesamiento (limpieza y formateo)",
         "marker": {
          "color": "#00cc96",
          "pattern": {
           "shape": ""
          }
         },
         "name": "Preprocesamiento (limpieza y formateo)",
         "orientation": "h",
         "showlegend": true,
         "textposition": "auto",
         "type": "bar",
         "x": {
          "bdata": "gMukAA==",
          "dtype": "i4"
         },
         "xaxis": "x",
         "y": [
          "Persona C"
         ],
         "yaxis": "y"
        },
        {
         "base": [
          "2025-07-07T11:00:00.000000000"
         ],
         "hovertemplate": "Tarea=EDA (visualización + clusters)<br>Inicio=%{base}<br>Fin=%{x}<br>Responsable=%{y}<extra></extra>",
         "legendgroup": "EDA (visualización + clusters)",
         "marker": {
          "color": "#ab63fa",
          "pattern": {
           "shape": ""
          }
         },
         "name": "EDA (visualización + clusters)",
         "orientation": "h",
         "showlegend": true,
         "textposition": "auto",
         "type": "bar",
         "x": {
          "bdata": "gMukAA==",
          "dtype": "i4"
         },
         "xaxis": "x",
         "y": [
          "Persona A"
         ],
         "yaxis": "y"
        },
        {
         "base": [
          "2025-07-07T13:00:00.000000000"
         ],
         "hovertemplate": "Tarea=EDA (análisis por narrativa)<br>Inicio=%{base}<br>Fin=%{x}<br>Responsable=%{y}<extra></extra>",
         "legendgroup": "EDA (análisis por narrativa)",
         "marker": {
          "color": "#FFA15A",
          "pattern": {
           "shape": ""
          }
         },
         "name": "EDA (análisis por narrativa)",
         "orientation": "h",
         "showlegend": true,
         "textposition": "auto",
         "type": "bar",
         "x": {
          "bdata": "AN1tAA==",
          "dtype": "i4"
         },
         "xaxis": "x",
         "y": [
          "Persona B"
         ],
         "yaxis": "y"
        },
        {
         "base": [
          "2025-07-07T13:00:00.000000000"
         ],
         "hovertemplate": "Tarea=Feature Engineering (RSI, MACD...)<br>Inicio=%{base}<br>Fin=%{x}<br>Responsable=%{y}<extra></extra>",
         "legendgroup": "Feature Engineering (RSI, MACD...)",
         "marker": {
          "color": "#19d3f3",
          "pattern": {
           "shape": ""
          }
         },
         "name": "Feature Engineering (RSI, MACD...)",
         "orientation": "h",
         "showlegend": true,
         "textposition": "auto",
         "type": "bar",
         "x": {
          "bdata": "gMukAA==",
          "dtype": "i4"
         },
         "xaxis": "x",
         "y": [
          "Rody"
         ],
         "yaxis": "y"
        },
        {
         "base": [
          "2025-07-07T14:00:00.000000000"
         ],
         "hovertemplate": "Tarea=EDA extra + revisión features<br>Inicio=%{base}<br>Fin=%{x}<br>Responsable=%{y}<extra></extra>",
         "legendgroup": "EDA extra + revisión features",
         "marker": {
          "color": "#FF6692",
          "pattern": {
           "shape": ""
          }
         },
         "name": "EDA extra + revisión features",
         "orientation": "h",
         "showlegend": true,
         "textposition": "auto",
         "type": "bar",
         "x": {
          "bdata": "wGVSAA==",
          "dtype": "i4"
         },
         "xaxis": "x",
         "y": [
          "Persona C"
         ],
         "yaxis": "y"
        },
        {
         "base": [
          "2025-07-07T15:00:00.000000000"
         ],
         "hovertemplate": "Tarea=Redacción preliminar informe (secciones 1-3)<br>Inicio=%{base}<br>Fin=%{x}<br>Responsable=%{y}<extra></extra>",
         "legendgroup": "Redacción preliminar informe (secciones 1-3)",
         "marker": {
          "color": "#B6E880",
          "pattern": {
           "shape": ""
          }
         },
         "name": "Redacción preliminar informe (secciones 1-3)",
         "orientation": "h",
         "showlegend": true,
         "textposition": "auto",
         "type": "bar",
         "x": {
          "bdata": "QFSJAA==",
          "dtype": "i4"
         },
         "xaxis": "x",
         "y": [
          "Persona B"
         ],
         "yaxis": "y"
        },
        {
         "base": [
          "2025-07-08T09:00:00.000000000"
         ],
         "hovertemplate": "Tarea=Modelo Predictivo (entrenamiento + métricas)<br>Inicio=%{base}<br>Fin=%{x}<br>Responsable=%{y}<extra></extra>",
         "legendgroup": "Modelo Predictivo (entrenamiento + métricas)",
         "marker": {
          "color": "#FF97FF",
          "pattern": {
           "shape": ""
          }
         },
         "name": "Modelo Predictivo (entrenamiento + métricas)",
         "orientation": "h",
         "showlegend": true,
         "textposition": "auto",
         "type": "bar",
         "x": {
          "bdata": "gMukAA==",
          "dtype": "i4"
         },
         "xaxis": "x",
         "y": [
          "Persona A"
         ],
         "yaxis": "y"
        },
        {
         "base": [
          "2025-07-08T09:00:00.000000000"
         ],
         "hovertemplate": "Tarea=Detección de Anomalías<br>Inicio=%{base}<br>Fin=%{x}<br>Responsable=%{y}<extra></extra>",
         "legendgroup": "Detección de Anomalías",
         "marker": {
          "color": "#FECB52",
          "pattern": {
           "shape": ""
          }
         },
         "name": "Detección de Anomalías",
         "orientation": "h",
         "showlegend": true,
         "textposition": "auto",
         "type": "bar",
         "x": {
          "bdata": "wELAAA==",
          "dtype": "i4"
         },
         "xaxis": "x",
         "y": [
          "Rody"
         ],
         "yaxis": "y"
        },
        {
         "base": [
          "2025-07-08T12:30:00.000000000"
         ],
         "hovertemplate": "Tarea=Tuning con Optuna<br>Inicio=%{base}<br>Fin=%{x}<br>Responsable=%{y}<extra></extra>",
         "legendgroup": "Tuning con Optuna",
         "marker": {
          "color": "#636efa",
          "pattern": {
           "shape": ""
          }
         },
         "name": "Tuning con Optuna",
         "orientation": "h",
         "showlegend": true,
         "textposition": "auto",
         "type": "bar",
         "x": {
          "bdata": "QFSJAA==",
          "dtype": "i4"
         },
         "xaxis": "x",
         "y": [
          "Rody"
         ],
         "yaxis": "y"
        },
        {
         "base": [
          "2025-07-08T10:00:00.000000000"
         ],
         "hovertemplate": "Tarea=GUI Básica (Streamlit/Gradio)<br>Inicio=%{base}<br>Fin=%{x}<br>Responsable=%{y}<extra></extra>",
         "legendgroup": "GUI Básica (Streamlit/Gradio)",
         "marker": {
          "color": "#EF553B",
          "pattern": {
           "shape": ""
          }
         },
         "name": "GUI Básica (Streamlit/Gradio)",
         "orientation": "h",
         "showlegend": true,
         "textposition": "auto",
         "type": "bar",
         "x": {
          "bdata": "wELAAA==",
          "dtype": "i4"
         },
         "xaxis": "x",
         "y": [
          "Persona B"
         ],
         "yaxis": "y"
        },
        {
         "base": [
          "2025-07-08T13:00:00.000000000"
         ],
         "hovertemplate": "Tarea=Informe final (secciones 4-7)<br>Inicio=%{base}<br>Fin=%{x}<br>Responsable=%{y}<extra></extra>",
         "legendgroup": "Informe final (secciones 4-7)",
         "marker": {
          "color": "#00cc96",
          "pattern": {
           "shape": ""
          }
         },
         "name": "Informe final (secciones 4-7)",
         "orientation": "h",
         "showlegend": true,
         "textposition": "auto",
         "type": "bar",
         "x": {
          "bdata": "gMukAA==",
          "dtype": "i4"
         },
         "xaxis": "x",
         "y": [
          "Persona C"
         ],
         "yaxis": "y"
        },
        {
         "base": [
          "2025-07-08T16:00:00.000000000"
         ],
         "hovertemplate": "Tarea=Revisión final + GitHub + empaquetado<br>Inicio=%{base}<br>Fin=%{x}<br>Responsable=%{y}<extra></extra>",
         "legendgroup": "Revisión final + GitHub + empaquetado",
         "marker": {
          "color": "#ab63fa",
          "pattern": {
           "shape": ""
          }
         },
         "name": "Revisión final + GitHub + empaquetado",
         "orientation": "h",
         "showlegend": true,
         "textposition": "auto",
         "type": "bar",
         "x": {
          "bdata": "AN1tAA==",
          "dtype": "i4"
         },
         "xaxis": "x",
         "y": [
          "Todos"
         ],
         "yaxis": "y"
        }
       ],
       "layout": {
        "barmode": "overlay",
        "legend": {
         "title": {
          "text": "Tarea"
         },
         "tracegroupgap": 0
        },
        "template": {
         "data": {
          "bar": [
           {
            "error_x": {
             "color": "#2a3f5f"
            },
            "error_y": {
             "color": "#2a3f5f"
            },
            "marker": {
             "line": {
              "color": "#E5ECF6",
              "width": 0.5
             },
             "pattern": {
              "fillmode": "overlay",
              "size": 10,
              "solidity": 0.2
             }
            },
            "type": "bar"
           }
          ],
          "barpolar": [
           {
            "marker": {
             "line": {
              "color": "#E5ECF6",
              "width": 0.5
             },
             "pattern": {
              "fillmode": "overlay",
              "size": 10,
              "solidity": 0.2
             }
            },
            "type": "barpolar"
           }
          ],
          "carpet": [
           {
            "aaxis": {
             "endlinecolor": "#2a3f5f",
             "gridcolor": "white",
             "linecolor": "white",
             "minorgridcolor": "white",
             "startlinecolor": "#2a3f5f"
            },
            "baxis": {
             "endlinecolor": "#2a3f5f",
             "gridcolor": "white",
             "linecolor": "white",
             "minorgridcolor": "white",
             "startlinecolor": "#2a3f5f"
            },
            "type": "carpet"
           }
          ],
          "choropleth": [
           {
            "colorbar": {
             "outlinewidth": 0,
             "ticks": ""
            },
            "type": "choropleth"
           }
          ],
          "contour": [
           {
            "colorbar": {
             "outlinewidth": 0,
             "ticks": ""
            },
            "colorscale": [
             [
              0,
              "#0d0887"
             ],
             [
              0.1111111111111111,
              "#46039f"
             ],
             [
              0.2222222222222222,
              "#7201a8"
             ],
             [
              0.3333333333333333,
              "#9c179e"
             ],
             [
              0.4444444444444444,
              "#bd3786"
             ],
             [
              0.5555555555555556,
              "#d8576b"
             ],
             [
              0.6666666666666666,
              "#ed7953"
             ],
             [
              0.7777777777777778,
              "#fb9f3a"
             ],
             [
              0.8888888888888888,
              "#fdca26"
             ],
             [
              1,
              "#f0f921"
             ]
            ],
            "type": "contour"
           }
          ],
          "contourcarpet": [
           {
            "colorbar": {
             "outlinewidth": 0,
             "ticks": ""
            },
            "type": "contourcarpet"
           }
          ],
          "heatmap": [
           {
            "colorbar": {
             "outlinewidth": 0,
             "ticks": ""
            },
            "colorscale": [
             [
              0,
              "#0d0887"
             ],
             [
              0.1111111111111111,
              "#46039f"
             ],
             [
              0.2222222222222222,
              "#7201a8"
             ],
             [
              0.3333333333333333,
              "#9c179e"
             ],
             [
              0.4444444444444444,
              "#bd3786"
             ],
             [
              0.5555555555555556,
              "#d8576b"
             ],
             [
              0.6666666666666666,
              "#ed7953"
             ],
             [
              0.7777777777777778,
              "#fb9f3a"
             ],
             [
              0.8888888888888888,
              "#fdca26"
             ],
             [
              1,
              "#f0f921"
             ]
            ],
            "type": "heatmap"
           }
          ],
          "histogram": [
           {
            "marker": {
             "pattern": {
              "fillmode": "overlay",
              "size": 10,
              "solidity": 0.2
             }
            },
            "type": "histogram"
           }
          ],
          "histogram2d": [
           {
            "colorbar": {
             "outlinewidth": 0,
             "ticks": ""
            },
            "colorscale": [
             [
              0,
              "#0d0887"
             ],
             [
              0.1111111111111111,
              "#46039f"
             ],
             [
              0.2222222222222222,
              "#7201a8"
             ],
             [
              0.3333333333333333,
              "#9c179e"
             ],
             [
              0.4444444444444444,
              "#bd3786"
             ],
             [
              0.5555555555555556,
              "#d8576b"
             ],
             [
              0.6666666666666666,
              "#ed7953"
             ],
             [
              0.7777777777777778,
              "#fb9f3a"
             ],
             [
              0.8888888888888888,
              "#fdca26"
             ],
             [
              1,
              "#f0f921"
             ]
            ],
            "type": "histogram2d"
           }
          ],
          "histogram2dcontour": [
           {
            "colorbar": {
             "outlinewidth": 0,
             "ticks": ""
            },
            "colorscale": [
             [
              0,
              "#0d0887"
             ],
             [
              0.1111111111111111,
              "#46039f"
             ],
             [
              0.2222222222222222,
              "#7201a8"
             ],
             [
              0.3333333333333333,
              "#9c179e"
             ],
             [
              0.4444444444444444,
              "#bd3786"
             ],
             [
              0.5555555555555556,
              "#d8576b"
             ],
             [
              0.6666666666666666,
              "#ed7953"
             ],
             [
              0.7777777777777778,
              "#fb9f3a"
             ],
             [
              0.8888888888888888,
              "#fdca26"
             ],
             [
              1,
              "#f0f921"
             ]
            ],
            "type": "histogram2dcontour"
           }
          ],
          "mesh3d": [
           {
            "colorbar": {
             "outlinewidth": 0,
             "ticks": ""
            },
            "type": "mesh3d"
           }
          ],
          "parcoords": [
           {
            "line": {
             "colorbar": {
              "outlinewidth": 0,
              "ticks": ""
             }
            },
            "type": "parcoords"
           }
          ],
          "pie": [
           {
            "automargin": true,
            "type": "pie"
           }
          ],
          "scatter": [
           {
            "fillpattern": {
             "fillmode": "overlay",
             "size": 10,
             "solidity": 0.2
            },
            "type": "scatter"
           }
          ],
          "scatter3d": [
           {
            "line": {
             "colorbar": {
              "outlinewidth": 0,
              "ticks": ""
             }
            },
            "marker": {
             "colorbar": {
              "outlinewidth": 0,
              "ticks": ""
             }
            },
            "type": "scatter3d"
           }
          ],
          "scattercarpet": [
           {
            "marker": {
             "colorbar": {
              "outlinewidth": 0,
              "ticks": ""
             }
            },
            "type": "scattercarpet"
           }
          ],
          "scattergeo": [
           {
            "marker": {
             "colorbar": {
              "outlinewidth": 0,
              "ticks": ""
             }
            },
            "type": "scattergeo"
           }
          ],
          "scattergl": [
           {
            "marker": {
             "colorbar": {
              "outlinewidth": 0,
              "ticks": ""
             }
            },
            "type": "scattergl"
           }
          ],
          "scattermap": [
           {
            "marker": {
             "colorbar": {
              "outlinewidth": 0,
              "ticks": ""
             }
            },
            "type": "scattermap"
           }
          ],
          "scattermapbox": [
           {
            "marker": {
             "colorbar": {
              "outlinewidth": 0,
              "ticks": ""
             }
            },
            "type": "scattermapbox"
           }
          ],
          "scatterpolar": [
           {
            "marker": {
             "colorbar": {
              "outlinewidth": 0,
              "ticks": ""
             }
            },
            "type": "scatterpolar"
           }
          ],
          "scatterpolargl": [
           {
            "marker": {
             "colorbar": {
              "outlinewidth": 0,
              "ticks": ""
             }
            },
            "type": "scatterpolargl"
           }
          ],
          "scatterternary": [
           {
            "marker": {
             "colorbar": {
              "outlinewidth": 0,
              "ticks": ""
             }
            },
            "type": "scatterternary"
           }
          ],
          "surface": [
           {
            "colorbar": {
             "outlinewidth": 0,
             "ticks": ""
            },
            "colorscale": [
             [
              0,
              "#0d0887"
             ],
             [
              0.1111111111111111,
              "#46039f"
             ],
             [
              0.2222222222222222,
              "#7201a8"
             ],
             [
              0.3333333333333333,
              "#9c179e"
             ],
             [
              0.4444444444444444,
              "#bd3786"
             ],
             [
              0.5555555555555556,
              "#d8576b"
             ],
             [
              0.6666666666666666,
              "#ed7953"
             ],
             [
              0.7777777777777778,
              "#fb9f3a"
             ],
             [
              0.8888888888888888,
              "#fdca26"
             ],
             [
              1,
              "#f0f921"
             ]
            ],
            "type": "surface"
           }
          ],
          "table": [
           {
            "cells": {
             "fill": {
              "color": "#EBF0F8"
             },
             "line": {
              "color": "white"
             }
            },
            "header": {
             "fill": {
              "color": "#C8D4E3"
             },
             "line": {
              "color": "white"
             }
            },
            "type": "table"
           }
          ]
         },
         "layout": {
          "annotationdefaults": {
           "arrowcolor": "#2a3f5f",
           "arrowhead": 0,
           "arrowwidth": 1
          },
          "autotypenumbers": "strict",
          "coloraxis": {
           "colorbar": {
            "outlinewidth": 0,
            "ticks": ""
           }
          },
          "colorscale": {
           "diverging": [
            [
             0,
             "#8e0152"
            ],
            [
             0.1,
             "#c51b7d"
            ],
            [
             0.2,
             "#de77ae"
            ],
            [
             0.3,
             "#f1b6da"
            ],
            [
             0.4,
             "#fde0ef"
            ],
            [
             0.5,
             "#f7f7f7"
            ],
            [
             0.6,
             "#e6f5d0"
            ],
            [
             0.7,
             "#b8e186"
            ],
            [
             0.8,
             "#7fbc41"
            ],
            [
             0.9,
             "#4d9221"
            ],
            [
             1,
             "#276419"
            ]
           ],
           "sequential": [
            [
             0,
             "#0d0887"
            ],
            [
             0.1111111111111111,
             "#46039f"
            ],
            [
             0.2222222222222222,
             "#7201a8"
            ],
            [
             0.3333333333333333,
             "#9c179e"
            ],
            [
             0.4444444444444444,
             "#bd3786"
            ],
            [
             0.5555555555555556,
             "#d8576b"
            ],
            [
             0.6666666666666666,
             "#ed7953"
            ],
            [
             0.7777777777777778,
             "#fb9f3a"
            ],
            [
             0.8888888888888888,
             "#fdca26"
            ],
            [
             1,
             "#f0f921"
            ]
           ],
           "sequentialminus": [
            [
             0,
             "#0d0887"
            ],
            [
             0.1111111111111111,
             "#46039f"
            ],
            [
             0.2222222222222222,
             "#7201a8"
            ],
            [
             0.3333333333333333,
             "#9c179e"
            ],
            [
             0.4444444444444444,
             "#bd3786"
            ],
            [
             0.5555555555555556,
             "#d8576b"
            ],
            [
             0.6666666666666666,
             "#ed7953"
            ],
            [
             0.7777777777777778,
             "#fb9f3a"
            ],
            [
             0.8888888888888888,
             "#fdca26"
            ],
            [
             1,
             "#f0f921"
            ]
           ]
          },
          "colorway": [
           "#636efa",
           "#EF553B",
           "#00cc96",
           "#ab63fa",
           "#FFA15A",
           "#19d3f3",
           "#FF6692",
           "#B6E880",
           "#FF97FF",
           "#FECB52"
          ],
          "font": {
           "color": "#2a3f5f"
          },
          "geo": {
           "bgcolor": "white",
           "lakecolor": "white",
           "landcolor": "#E5ECF6",
           "showlakes": true,
           "showland": true,
           "subunitcolor": "white"
          },
          "hoverlabel": {
           "align": "left"
          },
          "hovermode": "closest",
          "mapbox": {
           "style": "light"
          },
          "paper_bgcolor": "white",
          "plot_bgcolor": "#E5ECF6",
          "polar": {
           "angularaxis": {
            "gridcolor": "white",
            "linecolor": "white",
            "ticks": ""
           },
           "bgcolor": "#E5ECF6",
           "radialaxis": {
            "gridcolor": "white",
            "linecolor": "white",
            "ticks": ""
           }
          },
          "scene": {
           "xaxis": {
            "backgroundcolor": "#E5ECF6",
            "gridcolor": "white",
            "gridwidth": 2,
            "linecolor": "white",
            "showbackground": true,
            "ticks": "",
            "zerolinecolor": "white"
           },
           "yaxis": {
            "backgroundcolor": "#E5ECF6",
            "gridcolor": "white",
            "gridwidth": 2,
            "linecolor": "white",
            "showbackground": true,
            "ticks": "",
            "zerolinecolor": "white"
           },
           "zaxis": {
            "backgroundcolor": "#E5ECF6",
            "gridcolor": "white",
            "gridwidth": 2,
            "linecolor": "white",
            "showbackground": true,
            "ticks": "",
            "zerolinecolor": "white"
           }
          },
          "shapedefaults": {
           "line": {
            "color": "#2a3f5f"
           }
          },
          "ternary": {
           "aaxis": {
            "gridcolor": "white",
            "linecolor": "white",
            "ticks": ""
           },
           "baxis": {
            "gridcolor": "white",
            "linecolor": "white",
            "ticks": ""
           },
           "bgcolor": "#E5ECF6",
           "caxis": {
            "gridcolor": "white",
            "linecolor": "white",
            "ticks": ""
           }
          },
          "title": {
           "x": 0.05
          },
          "xaxis": {
           "automargin": true,
           "gridcolor": "white",
           "linecolor": "white",
           "ticks": "",
           "title": {
            "standoff": 15
           },
           "zerolinecolor": "white",
           "zerolinewidth": 2
          },
          "yaxis": {
           "automargin": true,
           "gridcolor": "white",
           "linecolor": "white",
           "ticks": "",
           "title": {
            "standoff": 15
           },
           "zerolinecolor": "white",
           "zerolinewidth": 2
          }
         }
        },
        "title": {
         "text": "Cronograma Gantt detallado por hora"
        },
        "xaxis": {
         "anchor": "y",
         "domain": [
          0,
          1
         ],
         "title": {
          "text": "Hora"
         },
         "type": "date"
        },
        "yaxis": {
         "anchor": "x",
         "categoryorder": "total ascending",
         "domain": [
          0,
          1
         ],
         "title": {
          "text": "Responsable"
         }
        }
       }
      }
     },
     "metadata": {},
     "output_type": "display_data"
    }
   ],
   "source": [
    "\n",
    "# Gantt\n",
    "fig = px.timeline(df, x_start=\"Inicio\", x_end=\"Fin\", y=\"Responsable\", color=\"Tarea\", title=\"Cronograma Gantt detallado por hora\")\n",
    "fig.update_yaxes(categoryorder=\"total ascending\")\n",
    "fig.update_layout(xaxis_title=\"Hora\", yaxis_title=\"Responsable\")\n",
    "fig.show()\n"
   ]
  },
  {
   "cell_type": "code",
   "execution_count": 14,
   "id": "1fca2b26",
   "metadata": {},
   "outputs": [
    {
     "data": {
      "image/png": "[encoded data removed]",
      "text/plain": [
       "<Figure size 1000x600 with 1 Axes>"
      ]
     },
     "metadata": {},
     "output_type": "display_data"
    }
   ],
   "source": [
    "# Agrupar tareas por persona\n",
    "tareas_grouped = df.groupby(\"Responsable\")[\"Tarea\"].apply(list)\n",
    "\n",
    "# Crear gráfico de texto por persona\n",
    "fig, ax = plt.subplots(figsize=(10, 6))\n",
    "ax.axis(\"off\")\n",
    "ax.set_title(\"Tareas asignadas por persona\", fontsize=14, fontweight=\"bold\")\n",
    "\n",
    "# Posiciones para texto\n",
    "y = 1.0\n",
    "for persona, tareas in tareas_grouped.items():\n",
    "    ax.text(0.01, y, f\"{persona}:\", fontsize=12, fontweight=\"bold\")\n",
    "    for tarea in tareas:\n",
    "        y -= 0.05\n",
    "        ax.text(0.03, y, f\"- {tarea}\", fontsize=11)\n",
    "    y -= 0.05  # espacio entre personas\n",
    "\n",
    "plt.show()\n"
   ]
  },
  {
   "cell_type": "code",
   "execution_count": 15,
   "id": "5a56f98d",
   "metadata": {},
   "outputs": [
    {
     "data": {
      "image/png": "[encoded data removed]",
      "text/plain": [
       "<Figure size 640x480 with 1 Axes>"
      ]
     },
     "metadata": {},
     "output_type": "display_data"
    }
   ],
   "source": [
    "# Horas totales por persona\n",
    "df_sum = df.groupby(\"Responsable\")[\"Duración (h)\"].sum().sort_values()\n",
    "\n",
    "df_sum.plot(kind=\"barh\", title=\"Carga de trabajo por persona\")\n",
    "plt.xlabel(\"Horas estimadas\")\n",
    "plt.tight_layout()\n",
    "plt.show()\n"
   ]
  },
  {
   "cell_type": "code",
   "execution_count": 16,
   "id": "0bb2ba47",
   "metadata": {},
   "outputs": [
    {
     "data": {
      "text/plain": [
       "'TF_Cripto_Graph.png'"
      ]
     },
     "execution_count": 16,
     "metadata": {},
     "output_type": "execute_result"
    }
   ],
   "source": [
    "dot_clean = Digraph(\"TF_Cripto_Clean\", format=\"png\")\n",
    "dot_clean.attr(rankdir='TB', size='8,10')\n",
    "dot_clean.attr('node', shape='box', style='filled', fontname='Helvetica', fontsize='10', fillcolor='#D6EAF8')\n",
    "\n",
    "# Fases del pipeline (basado en CRISP-DM adaptado al proyecto)\n",
    "dot_clean.node(\"NEG\", \"Entendimiento del negocio\")\n",
    "dot_clean.node(\"DAT\", \"Adquisición y\\npreprocesamiento de datos\")\n",
    "dot_clean.node(\"EDA\", \"Análisis exploratorio (EDA)\")\n",
    "dot_clean.node(\"FEAT\", \"Feature engineering\")\n",
    "dot_clean.node(\"MOD\", \"Modelado predictivo\")\n",
    "dot_clean.node(\"ANO\", \"Detección de anomalías\")\n",
    "dot_clean.node(\"TUNE\", \"Optimización de modelos (Optuna)\")\n",
    "dot_clean.node(\"GUI\", \"Despliegue en GUI\")\n",
    "dot_clean.node(\"REP\", \"Informe final y entrega\")\n",
    "\n",
    "# Relaciones entre nodos\n",
    "dot_clean.edges([\n",
    "    (\"NEG\", \"DAT\"),\n",
    "    (\"DAT\", \"EDA\"),\n",
    "    (\"EDA\", \"FEAT\"),\n",
    "    (\"FEAT\", \"MOD\"),\n",
    "    (\"MOD\", \"ANO\"),\n",
    "    (\"ANO\", \"TUNE\"),\n",
    "    (\"TUNE\", \"GUI\"),\n",
    "    (\"GUI\", \"REP\")\n",
    "])\n",
    "\n",
    "dot_clean.render(\"TF_Cripto_Graph\", cleanup=False)\n",
    "\n"
   ]
  },
  {
   "cell_type": "code",
   "execution_count": 17,
   "id": "29d19314",
   "metadata": {},
   "outputs": [
    {
     "name": "stdout",
     "output_type": "stream",
     "text": [
      "Requirement already satisfied: graphviz in /home/rosewt-dell/miniconda3/envs/ML/lib/python3.12/site-packages (0.21)\n"
     ]
    }
   ],
   "source": [
    "!pip install graphviz"
   ]
  },
  {
   "cell_type": "markdown",
   "id": "713e2f6d",
   "metadata": {},
   "source": []
  }
 ],
 "metadata": {
  "kernelspec": {
   "display_name": "ML",
   "language": "python",
   "name": "python3"
  },
  "language_info": {
   "codemirror_mode": {
    "name": "ipython",
    "version": 3
   },
   "file_extension": ".py",
   "mimetype": "text/x-python",
   "name": "python",
   "nbconvert_exporter": "python",
   "pygments_lexer": "ipython3",
   "version": "3.12.9"
  }
 },
 "nbformat": 4,
 "nbformat_minor": 5
}
