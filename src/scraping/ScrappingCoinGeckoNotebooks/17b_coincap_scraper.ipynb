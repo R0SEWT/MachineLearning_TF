{
 "cells": [
  {
   "cell_type": "markdown",
   "id": "0c80b4e7",
   "metadata": {},
   "source": [
    "# 🚀 Crypto Scraper with **CoinCap** (no API‑Key)\n",
    "Descarga hasta 2 000 activos, clasifica por narrativa (AI, Gaming, RWA, Meme) y genera OHLC 1 año."
   ]
  },
  {
   "cell_type": "markdown",
   "id": "20883710",
   "metadata": {},
   "source": [
    "## 0 · Instalar dependencias"
   ]
  },
  {
   "cell_type": "code",
   "execution_count": 1,
   "id": "85f006dc",
   "metadata": {},
   "outputs": [],
   "source": [
    "!python -m pip install -q requests pandas tqdm aiohttp nest_asyncio pyarrow"
   ]
  },
  {
   "cell_type": "markdown",
   "id": "86023e8d",
   "metadata": {},
   "source": [
    "## 1 · Parámetros y regex narrativas"
   ]
  },
  {
   "cell_type": "code",
   "execution_count": 4,
   "id": "57b70797",
   "metadata": {},
   "outputs": [
    {
     "name": "stderr",
     "output_type": "stream",
     "text": [
      "Tickers:   5%|▌         | 1/20 [00:12<03:57, 12.49s/it]"
     ]
    },
    {
     "name": "stdout",
     "output_type": "stream",
     "text": [
      "⚠️  lote 0 saltado: respuesta no-JSON\n"
     ]
    },
    {
     "name": "stderr",
     "output_type": "stream",
     "text": [
      "Tickers:  10%|█         | 2/20 [00:25<03:48, 12.69s/it]"
     ]
    },
    {
     "name": "stdout",
     "output_type": "stream",
     "text": [
      "⚠️  lote 100 saltado: respuesta no-JSON\n"
     ]
    },
    {
     "name": "stderr",
     "output_type": "stream",
     "text": [
      "Tickers:  15%|█▌        | 3/20 [00:37<03:28, 12.26s/it]"
     ]
    },
    {
     "name": "stdout",
     "output_type": "stream",
     "text": [
      "⚠️  lote 200 saltado: respuesta no-JSON\n"
     ]
    },
    {
     "name": "stderr",
     "output_type": "stream",
     "text": [
      "Tickers:  20%|██        | 4/20 [00:48<03:13, 12.07s/it]"
     ]
    },
    {
     "name": "stdout",
     "output_type": "stream",
     "text": [
      "⚠️  lote 300 saltado: respuesta no-JSON\n"
     ]
    },
    {
     "name": "stderr",
     "output_type": "stream",
     "text": [
      "Tickers:  25%|██▌       | 5/20 [01:00<02:59, 11.95s/it]"
     ]
    },
    {
     "name": "stdout",
     "output_type": "stream",
     "text": [
      "⚠️  lote 400 saltado: respuesta no-JSON\n"
     ]
    },
    {
     "name": "stderr",
     "output_type": "stream",
     "text": [
      "Tickers:  30%|███       | 6/20 [01:11<02:44, 11.76s/it]"
     ]
    },
    {
     "name": "stdout",
     "output_type": "stream",
     "text": [
      "⚠️  lote 500 saltado: respuesta no-JSON\n"
     ]
    },
    {
     "name": "stderr",
     "output_type": "stream",
     "text": [
      "Tickers:  35%|███▌      | 7/20 [01:24<02:36, 12.02s/it]"
     ]
    },
    {
     "name": "stdout",
     "output_type": "stream",
     "text": [
      "⚠️  lote 600 saltado: respuesta no-JSON\n"
     ]
    },
    {
     "name": "stderr",
     "output_type": "stream",
     "text": [
      "Tickers:  40%|████      | 8/20 [01:36<02:23, 11.95s/it]"
     ]
    },
    {
     "name": "stdout",
     "output_type": "stream",
     "text": [
      "⚠️  lote 700 saltado: respuesta no-JSON\n"
     ]
    },
    {
     "name": "stderr",
     "output_type": "stream",
     "text": [
      "Tickers:  45%|████▌     | 9/20 [01:48<02:13, 12.09s/it]"
     ]
    },
    {
     "name": "stdout",
     "output_type": "stream",
     "text": [
      "⚠️  lote 800 saltado: respuesta no-JSON\n"
     ]
    },
    {
     "name": "stderr",
     "output_type": "stream",
     "text": [
      "Tickers:  50%|█████     | 10/20 [02:00<01:59, 11.99s/it]"
     ]
    },
    {
     "name": "stdout",
     "output_type": "stream",
     "text": [
      "⚠️  lote 900 saltado: respuesta no-JSON\n"
     ]
    },
    {
     "name": "stderr",
     "output_type": "stream",
     "text": [
      "Tickers:  55%|█████▌    | 11/20 [02:12<01:47, 11.92s/it]"
     ]
    },
    {
     "name": "stdout",
     "output_type": "stream",
     "text": [
      "⚠️  lote 1000 saltado: respuesta no-JSON\n"
     ]
    },
    {
     "name": "stderr",
     "output_type": "stream",
     "text": [
      "Tickers:  60%|██████    | 12/20 [02:24<01:36, 12.03s/it]"
     ]
    },
    {
     "name": "stdout",
     "output_type": "stream",
     "text": [
      "⚠️  lote 1100 saltado: respuesta no-JSON\n"
     ]
    },
    {
     "name": "stderr",
     "output_type": "stream",
     "text": [
      "Tickers:  65%|██████▌   | 13/20 [02:37<01:26, 12.32s/it]"
     ]
    },
    {
     "name": "stdout",
     "output_type": "stream",
     "text": [
      "⚠️  lote 1200 saltado: respuesta no-JSON\n"
     ]
    },
    {
     "name": "stderr",
     "output_type": "stream",
     "text": [
      "Tickers:  70%|███████   | 14/20 [02:49<01:13, 12.31s/it]"
     ]
    },
    {
     "name": "stdout",
     "output_type": "stream",
     "text": [
      "⚠️  lote 1300 saltado: respuesta no-JSON\n"
     ]
    },
    {
     "name": "stderr",
     "output_type": "stream",
     "text": [
      "Tickers:  75%|███████▌  | 15/20 [03:01<01:00, 12.19s/it]"
     ]
    },
    {
     "name": "stdout",
     "output_type": "stream",
     "text": [
      "⚠️  lote 1400 saltado: respuesta no-JSON\n"
     ]
    },
    {
     "name": "stderr",
     "output_type": "stream",
     "text": [
      "Tickers:  80%|████████  | 16/20 [03:14<00:48, 12.23s/it]"
     ]
    },
    {
     "name": "stdout",
     "output_type": "stream",
     "text": [
      "⚠️  lote 1500 saltado: respuesta no-JSON\n"
     ]
    },
    {
     "name": "stderr",
     "output_type": "stream",
     "text": [
      "Tickers:  85%|████████▌ | 17/20 [03:26<00:36, 12.25s/it]"
     ]
    },
    {
     "name": "stdout",
     "output_type": "stream",
     "text": [
      "⚠️  lote 1600 saltado: respuesta no-JSON\n"
     ]
    },
    {
     "name": "stderr",
     "output_type": "stream",
     "text": [
      "Tickers:  90%|█████████ | 18/20 [03:38<00:24, 12.23s/it]"
     ]
    },
    {
     "name": "stdout",
     "output_type": "stream",
     "text": [
      "⚠️  lote 1700 saltado: respuesta no-JSON\n"
     ]
    },
    {
     "name": "stderr",
     "output_type": "stream",
     "text": [
      "Tickers:  95%|█████████▌| 19/20 [03:50<00:12, 12.25s/it]"
     ]
    },
    {
     "name": "stdout",
     "output_type": "stream",
     "text": [
      "⚠️  lote 1800 saltado: respuesta no-JSON\n"
     ]
    },
    {
     "name": "stderr",
     "output_type": "stream",
     "text": [
      "Tickers: 100%|██████████| 20/20 [04:03<00:00, 12.16s/it]"
     ]
    },
    {
     "name": "stdout",
     "output_type": "stream",
     "text": [
      "⚠️  lote 1900 saltado: respuesta no-JSON\n",
      "Total bruto: 0\n"
     ]
    },
    {
     "name": "stderr",
     "output_type": "stream",
     "text": [
      "\n"
     ]
    }
   ],
   "source": [
    "import requests, json, time, tqdm, pandas as pd, re\n",
    "\n",
    "BATCH  = 100\n",
    "MAX_ASSETS = 2000\n",
    "HEADERS = {\n",
    "    \"accept\": \"application/json\",\n",
    "    \"user-agent\": \"Mozilla/5.0 (Windows NT 10.0; Win64; x64)\",\n",
    "}\n",
    "\n",
    "rows  = []\n",
    "for offset in tqdm.tqdm(range(0, MAX_ASSETS, BATCH), desc=\"Tickers\"):\n",
    "    params = dict(limit=BATCH, offset=offset)\n",
    "    for attempt in range(4):\n",
    "        r = requests.get(\n",
    "            \"https://api.coincap.io/v2/assets\",\n",
    "            params=params, headers=HEADERS, timeout=30\n",
    "        )\n",
    "        if \"application/json\" not in r.headers.get(\"content-type\", \"\"):\n",
    "            time.sleep(1 + attempt)               # banner HTML → espera\n",
    "            continue\n",
    "        try:\n",
    "            data = r.json()[\"data\"]\n",
    "            break                                 # JSON ok\n",
    "        except json.JSONDecodeError:\n",
    "            time.sleep(1 + attempt)\n",
    "    else:\n",
    "        print(\"⚠️  lote\", offset, \"saltado: respuesta no-JSON\")\n",
    "        continue\n",
    "    rows.extend(data)\n",
    "    if len(data) < BATCH:                         # fin lista\n",
    "        break\n",
    "\n",
    "print(\"Total bruto:\", len(rows))\n"
   ]
  },
  {
   "cell_type": "markdown",
   "id": "f4b4884e",
   "metadata": {},
   "source": [
    "## 2 · Descargar listado de activos CoinCap"
   ]
  },
  {
   "cell_type": "code",
   "execution_count": 5,
   "id": "eeb8e1ef",
   "metadata": {},
   "outputs": [
    {
     "name": "stderr",
     "output_type": "stream",
     "text": [
      "Tickers:   0%|          | 0/20 [00:00<?, ?it/s]\n"
     ]
    },
    {
     "ename": "JSONDecodeError",
     "evalue": "Extra data: line 1 column 5 (char 4)",
     "output_type": "error",
     "traceback": [
      "\u001b[31m---------------------------------------------------------------------------\u001b[39m",
      "\u001b[31mJSONDecodeError\u001b[39m                           Traceback (most recent call last)",
      "\u001b[36mFile \u001b[39m\u001b[32mc:\\Python313\\Lib\\site-packages\\requests\\models.py:976\u001b[39m, in \u001b[36mResponse.json\u001b[39m\u001b[34m(self, **kwargs)\u001b[39m\n\u001b[32m    975\u001b[39m \u001b[38;5;28;01mtry\u001b[39;00m:\n\u001b[32m--> \u001b[39m\u001b[32m976\u001b[39m     \u001b[38;5;28;01mreturn\u001b[39;00m \u001b[43mcomplexjson\u001b[49m\u001b[43m.\u001b[49m\u001b[43mloads\u001b[49m\u001b[43m(\u001b[49m\u001b[38;5;28;43mself\u001b[39;49m\u001b[43m.\u001b[49m\u001b[43mtext\u001b[49m\u001b[43m,\u001b[49m\u001b[43m \u001b[49m\u001b[43m*\u001b[49m\u001b[43m*\u001b[49m\u001b[43mkwargs\u001b[49m\u001b[43m)\u001b[49m\n\u001b[32m    977\u001b[39m \u001b[38;5;28;01mexcept\u001b[39;00m JSONDecodeError \u001b[38;5;28;01mas\u001b[39;00m e:\n\u001b[32m    978\u001b[39m     \u001b[38;5;66;03m# Catch JSON-related errors and raise as requests.JSONDecodeError\u001b[39;00m\n\u001b[32m    979\u001b[39m     \u001b[38;5;66;03m# This aliases json.JSONDecodeError and simplejson.JSONDecodeError\u001b[39;00m\n",
      "\u001b[36mFile \u001b[39m\u001b[32mc:\\Python313\\Lib\\json\\__init__.py:346\u001b[39m, in \u001b[36mloads\u001b[39m\u001b[34m(s, cls, object_hook, parse_float, parse_int, parse_constant, object_pairs_hook, **kw)\u001b[39m\n\u001b[32m    343\u001b[39m \u001b[38;5;28;01mif\u001b[39;00m (\u001b[38;5;28mcls\u001b[39m \u001b[38;5;129;01mis\u001b[39;00m \u001b[38;5;28;01mNone\u001b[39;00m \u001b[38;5;129;01mand\u001b[39;00m object_hook \u001b[38;5;129;01mis\u001b[39;00m \u001b[38;5;28;01mNone\u001b[39;00m \u001b[38;5;129;01mand\u001b[39;00m\n\u001b[32m    344\u001b[39m         parse_int \u001b[38;5;129;01mis\u001b[39;00m \u001b[38;5;28;01mNone\u001b[39;00m \u001b[38;5;129;01mand\u001b[39;00m parse_float \u001b[38;5;129;01mis\u001b[39;00m \u001b[38;5;28;01mNone\u001b[39;00m \u001b[38;5;129;01mand\u001b[39;00m\n\u001b[32m    345\u001b[39m         parse_constant \u001b[38;5;129;01mis\u001b[39;00m \u001b[38;5;28;01mNone\u001b[39;00m \u001b[38;5;129;01mand\u001b[39;00m object_pairs_hook \u001b[38;5;129;01mis\u001b[39;00m \u001b[38;5;28;01mNone\u001b[39;00m \u001b[38;5;129;01mand\u001b[39;00m \u001b[38;5;129;01mnot\u001b[39;00m kw):\n\u001b[32m--> \u001b[39m\u001b[32m346\u001b[39m     \u001b[38;5;28;01mreturn\u001b[39;00m \u001b[43m_default_decoder\u001b[49m\u001b[43m.\u001b[49m\u001b[43mdecode\u001b[49m\u001b[43m(\u001b[49m\u001b[43ms\u001b[49m\u001b[43m)\u001b[49m\n\u001b[32m    347\u001b[39m \u001b[38;5;28;01mif\u001b[39;00m \u001b[38;5;28mcls\u001b[39m \u001b[38;5;129;01mis\u001b[39;00m \u001b[38;5;28;01mNone\u001b[39;00m:\n",
      "\u001b[36mFile \u001b[39m\u001b[32mc:\\Python313\\Lib\\json\\decoder.py:348\u001b[39m, in \u001b[36mJSONDecoder.decode\u001b[39m\u001b[34m(self, s, _w)\u001b[39m\n\u001b[32m    347\u001b[39m \u001b[38;5;28;01mif\u001b[39;00m end != \u001b[38;5;28mlen\u001b[39m(s):\n\u001b[32m--> \u001b[39m\u001b[32m348\u001b[39m     \u001b[38;5;28;01mraise\u001b[39;00m JSONDecodeError(\u001b[33m\"\u001b[39m\u001b[33mExtra data\u001b[39m\u001b[33m\"\u001b[39m, s, end)\n\u001b[32m    349\u001b[39m \u001b[38;5;28;01mreturn\u001b[39;00m obj\n",
      "\u001b[31mJSONDecodeError\u001b[39m: Extra data: line 1 column 5 (char 4)",
      "\nDuring handling of the above exception, another exception occurred:\n",
      "\u001b[31mJSONDecodeError\u001b[39m                           Traceback (most recent call last)",
      "\u001b[36mCell\u001b[39m\u001b[36m \u001b[39m\u001b[32mIn[5]\u001b[39m\u001b[32m, line 5\u001b[39m\n\u001b[32m      3\u001b[39m \u001b[38;5;28;01mfor\u001b[39;00m offset \u001b[38;5;129;01min\u001b[39;00m tqdm.tqdm(\u001b[38;5;28mrange\u001b[39m(\u001b[32m0\u001b[39m, MAX_ASSETS, BATCH), desc=\u001b[33m\"\u001b[39m\u001b[33mTickers\u001b[39m\u001b[33m\"\u001b[39m):\n\u001b[32m      4\u001b[39m     params=\u001b[38;5;28mdict\u001b[39m(limit=BATCH, offset=offset)\n\u001b[32m----> \u001b[39m\u001b[32m5\u001b[39m     data=\u001b[43mrequests\u001b[49m\u001b[43m.\u001b[49m\u001b[43mget\u001b[49m\u001b[43m(\u001b[49m\u001b[43mbase_url\u001b[49m\u001b[43m,\u001b[49m\u001b[43m \u001b[49m\u001b[43mparams\u001b[49m\u001b[43m=\u001b[49m\u001b[43mparams\u001b[49m\u001b[43m,\u001b[49m\u001b[43m \u001b[49m\u001b[43mtimeout\u001b[49m\u001b[43m=\u001b[49m\u001b[32;43m30\u001b[39;49m\u001b[43m)\u001b[49m\u001b[43m.\u001b[49m\u001b[43mjson\u001b[49m\u001b[43m(\u001b[49m\u001b[43m)\u001b[49m[\u001b[33m\"\u001b[39m\u001b[33mdata\u001b[39m\u001b[33m\"\u001b[39m]\n\u001b[32m      6\u001b[39m     rows.extend(data)\n\u001b[32m      7\u001b[39m     \u001b[38;5;28;01mif\u001b[39;00m \u001b[38;5;28mlen\u001b[39m(data)<BATCH: \u001b[38;5;28;01mbreak\u001b[39;00m  \u001b[38;5;66;03m# fin\u001b[39;00m\n",
      "\u001b[36mFile \u001b[39m\u001b[32mc:\\Python313\\Lib\\site-packages\\requests\\models.py:980\u001b[39m, in \u001b[36mResponse.json\u001b[39m\u001b[34m(self, **kwargs)\u001b[39m\n\u001b[32m    976\u001b[39m     \u001b[38;5;28;01mreturn\u001b[39;00m complexjson.loads(\u001b[38;5;28mself\u001b[39m.text, **kwargs)\n\u001b[32m    977\u001b[39m \u001b[38;5;28;01mexcept\u001b[39;00m JSONDecodeError \u001b[38;5;28;01mas\u001b[39;00m e:\n\u001b[32m    978\u001b[39m     \u001b[38;5;66;03m# Catch JSON-related errors and raise as requests.JSONDecodeError\u001b[39;00m\n\u001b[32m    979\u001b[39m     \u001b[38;5;66;03m# This aliases json.JSONDecodeError and simplejson.JSONDecodeError\u001b[39;00m\n\u001b[32m--> \u001b[39m\u001b[32m980\u001b[39m     \u001b[38;5;28;01mraise\u001b[39;00m RequestsJSONDecodeError(e.msg, e.doc, e.pos)\n",
      "\u001b[31mJSONDecodeError\u001b[39m: Extra data: line 1 column 5 (char 4)"
     ]
    }
   ],
   "source": [
    "base_url = \"https://api.coincap.io/v2/assets\"\n",
    "rows=[]\n",
    "for offset in tqdm.tqdm(range(0, MAX_ASSETS, BATCH), desc=\"Tickers\"):\n",
    "    params=dict(limit=BATCH, offset=offset)\n",
    "    data=requests.get(base_url, params=params, timeout=30).json()[\"data\"]\n",
    "    rows.extend(data)\n",
    "    if len(data)<BATCH: break  # fin\n",
    "print(\"Total filas:\", len(rows))\n",
    "\n",
    "df=pd.DataFrame(rows)\n",
    "df[\"price\"] = pd.to_numeric(df[\"priceUsd\"], errors=\"coerce\")\n",
    "df[\"volume\"] = pd.to_numeric(df[\"volumeUsd24Hr\"], errors=\"coerce\")\n",
    "df[\"market_cap\"] = pd.to_numeric(df[\"marketCapUsd\"], errors=\"coerce\")\n",
    "\n",
    "df[\"narrative\"]= (df[\"id\"]+\" \"+df[\"symbol\"]+\" \"+df[\"name\"]).apply(tag)\n",
    "df=df.dropna(subset=[\"narrative\"]).reset_index(drop=True)\n",
    "\n",
    "print(\"\\nDistribución narrativa:\")\n",
    "print(df[\"narrative\"].value_counts())\n",
    "print(\"Tokens con narrativa:\", len(df))\n",
    "\n",
    "df[[\"id\",\"symbol\",\"name\",\"narrative\",\"price\",\"volume\",\"market_cap\"]].to_csv(OUT_CSV,index=False)\n",
    "print(\"📁 CSV guardado:\", OUT_CSV)\n"
   ]
  },
  {
   "cell_type": "markdown",
   "id": "64a012f2",
   "metadata": {},
   "source": [
    "## 3 · Descargar OHLC histórico 1 año (CoinCap)"
   ]
  },
  {
   "cell_type": "code",
   "execution_count": null,
   "id": "4b771a80",
   "metadata": {},
   "outputs": [],
   "source": [
    "start_ms = int((datetime.datetime.utcnow() - datetime.timedelta(days=DAYS_OHLC)).timestamp()*1000)\n",
    "end_ms   = int(datetime.datetime.utcnow().timestamp()*1000)\n",
    "\n",
    "async def fetch_ohlc(sess, cid):\n",
    "    url=f\"https://api.coincap.io/v2/assets/{cid}/history\"\n",
    "    params=dict(interval=\"d1\", start=start_ms, end=end_ms)\n",
    "    async with sess.get(url, params=params, timeout=25) as r:\n",
    "        if r.status!=200: return []\n",
    "        data=(await r.json())[\"data\"]\n",
    "        return [{'id':cid,\n",
    "                 'date':d['date'][:10],\n",
    "                 'close':float(d['priceUsd'])} for d in data]\n",
    "\n",
    "async def gather_ohlc(ids):\n",
    "    sem=asyncio.Semaphore(CONC_OHLC)\n",
    "    rows=[]\n",
    "    async with aiohttp.ClientSession() as sess:\n",
    "        async def worker(cid):\n",
    "            async with sem:\n",
    "                try: rows.extend(await fetch_ohlc(sess,cid))\n",
    "                except: pass\n",
    "        tasks=[worker(cid) for cid in ids]\n",
    "        for _ in tqdm.tqdm(asyncio.as_completed(tasks), total=len(tasks), desc=\"OHLC\"):\n",
    "            await _\n",
    "    return rows\n",
    "\n",
    "ids=df['id'].tolist()\n",
    "t0=time.time()\n",
    "ohlc_rows=asyncio.get_event_loop().run_until_complete(gather_ohlc(ids))\n",
    "print(f\"⏱️ OHLC descargado en {time.time()-t0:.1f}s — filas {len(ohlc_rows):,}\")\n",
    "\n",
    "df_ohlc=pd.DataFrame(ohlc_rows).set_index(['date','id']).sort_index()\n",
    "df_ohlc.to_parquet(OUT_OHLC)\n",
    "print(\"✅ OHLC guardado:\", OUT_OHLC)\n"
   ]
  }
 ],
 "metadata": {
  "kernelspec": {
   "display_name": "Python 3",
   "language": "python",
   "name": "python3"
  },
  "language_info": {
   "codemirror_mode": {
    "name": "ipython",
    "version": 3
   },
   "file_extension": ".py",
   "mimetype": "text/x-python",
   "name": "python",
   "nbconvert_exporter": "python",
   "pygments_lexer": "ipython3",
   "version": "3.13.5"
  }
 },
 "nbformat": 4,
 "nbformat_minor": 5
}
