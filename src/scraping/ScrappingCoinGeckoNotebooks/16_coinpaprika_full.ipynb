{
 "cells": [
  {
   "cell_type": "markdown",
   "id": "d2453d1c",
   "metadata": {},
   "source": [
    "# 📚 Crypto Scraper – CoinPaprika only (no API‑key)\n",
    "Genera un dataset balanceado (AI, Gaming, RWA, Meme) con >5 000 tokens y su OHLC 1 año."
   ]
  },
  {
   "cell_type": "markdown",
   "id": "002a35e3",
   "metadata": {},
   "source": [
    "## 0 · Instalar dependencias"
   ]
  },
  {
   "cell_type": "code",
   "execution_count": null,
   "id": "08cda56e",
   "metadata": {},
   "outputs": [],
   "source": [
    "!python -m pip install -q aiohttp nest_asyncio pandas tqdm pyarrow"
   ]
  },
  {
   "cell_type": "markdown",
   "id": "41a431b2",
   "metadata": {},
   "source": [
    "## 1 · Parámetros y patrones regex"
   ]
  },
  {
   "cell_type": "code",
   "execution_count": null,
   "id": "6d49af13",
   "metadata": {},
   "outputs": [],
   "source": [
    "import nest_asyncio, asyncio, aiohttp, pandas as pd, time, tqdm, re, datetime, json\n",
    "nest_asyncio.apply()\n",
    "\n",
    "OUT_CSV   = \"cryptos_filtered.csv\"\n",
    "OHLC_FILE = \"ohlc_parrika.parquet\"\n",
    "CONCURRENCY = 15\n",
    "DAYS_OHLC  = 365\n",
    "\n",
    "# regex patrones\n",
    "kw_ai  = r\"(\\bai\\b|artificial|machine learning|deep learning|big data|llm|agent)\"\n",
    "kw_gam = r\"(game|gaming|metaverse|p2e|play to earn|gamefi)\"\n",
    "kw_rwa = r\"(rwa|tokenized|real[- ]world|treasury|bond|asset)\"\n",
    "kw_mem = r\"(meme|doge|pepe|shib|inu|floki|wojak|kabosu)\"\n",
    "\n",
    "def detect(text:str)->str|None:\n",
    "    t=text.lower()\n",
    "    if re.search(kw_mem,t): return \"meme\"\n",
    "    if re.search(kw_gam,t): return \"gaming\"\n",
    "    if re.search(kw_ai,t):  return \"ai\"\n",
    "    if re.search(kw_rwa,t): return \"rwa\"\n",
    "    return None\n"
   ]
  },
  {
   "cell_type": "markdown",
   "id": "e5c12ecd",
   "metadata": {},
   "source": [
    "## 2 · Descargar todos los *tickers* (CoinPaprika)"
   ]
  },
  {
   "cell_type": "code",
   "execution_count": null,
   "id": "63c2984a",
   "metadata": {},
   "outputs": [],
   "source": [
    "import requests, math\n",
    "\n",
    "url = \"https://api.coinpaprika.com/v1/tickers?limit=50000\"  # large limit\n",
    "t0=time.time()\n",
    "tickers = requests.get(url, timeout=60).json()\n",
    "print(f\"⏱️  Descargados {len(tickers):,} tickers en {time.time()-t0:.1f}s\")\n",
    "\n",
    "df = pd.DataFrame(tickers)\n",
    "df = df[df[\"rank\"].notna()]            # descarta sin rank\n",
    "df[\"text_blob\"] = (df[\"name\"].astype(str)+\" \"+df[\"symbol\"].astype(str)+\" \"+df[\"id\"].astype(str)).str.lower()\n",
    "df[\"narrative\"] = df[\"text_blob\"].apply(detect)\n",
    "df = df.dropna(subset=[\"narrative\"]).reset_index(drop=True)\n",
    "\n",
    "# rename columns for consistencia\n",
    "df = df.rename(columns={\"price_usd\":\"price\",\"volume_24h_usd\":\"volume\",\"market_cap_usd\":\"market_cap\"})\n",
    "print(\"\\nDistribución narrativa:\")\n",
    "print(df[\"narrative\"].value_counts(), \"\\n\")\n",
    "print(\"Tokens con narrativa:\", len(df))\n",
    "\n",
    "df[[\"id\",\"symbol\",\"name\",\"narrative\",\"price\",\"volume\",\"market_cap\"]].to_csv(OUT_CSV, index=False)\n",
    "print(f\"📁 CSV guardado → {OUT_CSV}\")\n"
   ]
  },
  {
   "cell_type": "markdown",
   "id": "b3140ed0",
   "metadata": {},
   "source": [
    "## 3 · Descargar OHLC 1 año (CoinPaprika)"
   ]
  },
  {
   "cell_type": "code",
   "execution_count": null,
   "id": "09efe15c",
   "metadata": {},
   "outputs": [],
   "source": [
    "START_DATE = (datetime.date.today() - datetime.timedelta(days=DAYS_OHLC)).isoformat()\n",
    "END_DATE   = datetime.date.today().isoformat()\n",
    "\n",
    "async def fetch_ohlc(sess, cid):\n",
    "    url=f\"https://api.coinpaprika.com/v1/coins/{cid}/ohlcv/historical\"\n",
    "    params=dict(start=START_DATE, end=END_DATE)\n",
    "    async with sess.get(url, params=params, timeout=25) as r:\n",
    "        if r.status!=200:\n",
    "            return []\n",
    "        data = await r.json()\n",
    "        return [{'id':cid,\n",
    "                 'date':d['time_open'][:10],\n",
    "                 'open':d['open'],\n",
    "                 'high':d['high'],\n",
    "                 'low':d['low'],\n",
    "                 'close':d['close'],\n",
    "                 'volume':d['volume']}\n",
    "                for d in data]\n",
    "\n",
    "async def gather_ohlc(ids):\n",
    "    sem = asyncio.Semaphore(CONCURRENCY)\n",
    "    rows=[]\n",
    "    async with aiohttp.ClientSession() as sess:\n",
    "        async def worker(cid):\n",
    "            async with sem:\n",
    "                try: rows.extend(await fetch_ohlc(sess,cid))\n",
    "                except: pass\n",
    "        tasks=[worker(cid) for cid in ids]\n",
    "        for _ in tqdm.tqdm(asyncio.as_completed(tasks), total=len(tasks), desc=\"OHLC\"):\n",
    "            await _\n",
    "    return rows\n",
    "\n",
    "ids = df['id'].tolist()\n",
    "t0=time.time()\n",
    "ohlc_rows = asyncio.get_event_loop().run_until_complete(gather_ohlc(ids))\n",
    "print(f\"⏱️ OHLC completado en {time.time()-t0:.1f}s — filas {len(ohlc_rows):,}\")\n",
    "\n",
    "df_ohlc = pd.DataFrame(ohlc_rows)\n",
    "df_ohlc.to_parquet(OHLC_FILE)\n",
    "print(f\"✅ OHLC guardado → {OHLC_FILE}\")\n"
   ]
  }
 ],
 "metadata": {
  "kernelspec": {
   "display_name": "Python 3",
   "language": "python",
   "name": "python3"
  },
  "language_info": {
   "name": "python",
   "version": "3.13.5"
  }
 },
 "nbformat": 4,
 "nbformat_minor": 5
}
