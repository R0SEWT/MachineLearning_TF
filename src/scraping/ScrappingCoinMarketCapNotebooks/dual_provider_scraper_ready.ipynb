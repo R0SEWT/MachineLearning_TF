{
 "cells": [
  {
   "cell_type": "markdown",
   "id": "42c0ac4a",
   "metadata": {},
   "source": [
    "# 📊 Dual Crypto Scraper (CryptoCompare + CoinMarketCap)\n",
    "Genera un CSV con ≥5 000 tokens (AI, Gaming, RWA, Meme) y un OHLC de 365 días.\n",
    "\n",
    "**Instrucciones:**\n",
    "1. Crea claves gratuitas en [cryptocompare.com](https://www.cryptocompare.com/) y [coinmarketcap.com](https://coinmarketcap.com/api/).\n",
    "2. Pega tus claves en la celda de parámetros.\n",
    "3. Reinicia el kernel y ejecuta *Run All*.\n"
   ]
  },
  {
   "cell_type": "markdown",
   "id": "3274f874",
   "metadata": {},
   "source": [
    "## 0 · Instalar dependencias"
   ]
  },
  {
   "cell_type": "code",
   "execution_count": 1,
   "id": "41c31b07",
   "metadata": {},
   "outputs": [],
   "source": [
    "!python -m pip install -q requests pandas aiohttp nest_asyncio tqdm pyarrow"
   ]
  },
  {
   "cell_type": "markdown",
   "id": "a9952050",
   "metadata": {},
   "source": [
    "## 1 · Parámetros y utilidades"
   ]
  },
  {
   "cell_type": "code",
   "execution_count": 2,
   "id": "104cb7f3",
   "metadata": {},
   "outputs": [],
   "source": [
    "import requests, pandas as pd, re, asyncio, aiohttp, nest_asyncio, tqdm, datetime, time\n",
    "nest_asyncio.apply()\n",
    "\n",
    "# 🔑 Inserta tus claves API:\n",
    "CRYPTOCOMPARE_KEY = \"04b6720c1a883e4135d9c03af7775afb654338972208c9b378120cd8269ef2c3\"\n",
    "COINMARKETCAP_KEY = \"2ba3c859-8c6d-4b31-86b6-1c1bf752dcab\"\n",
    "\n",
    "HEADERS_CC  = {\"Authorization\": f\"Apikey {CRYPTOCOMPARE_KEY}\"}\n",
    "HEADERS_CMC = {\"X-CMC_PRO_API_KEY\": COINMARKETCAP_KEY}\n",
    "\n",
    "VS          = \"USD\"\n",
    "HIST_DAYS   = 365\n",
    "CONC_OHLC   = 20\n",
    "\n",
    "OUT_CSV  = \"cryptos_filtered.csv\"\n",
    "OUT_OHLC = \"ohlc_full.csv\"\n",
    "\n",
    "kw_ai  = r\"(\\bai\\b|artificial|machine learning|deep learning|big data|llm|agent)\"\n",
    "kw_gam = r\"(game|gaming|metaverse|p2e|play to earn|gamefi|esports)\"\n",
    "kw_rwa = r\"(rwa|tokenized|real[- ]world|treasury|bond|yield|asset)\"\n",
    "kw_mem = r\"(meme|doge|pepe|shib|inu|floki|wojak|kabosu|cat|frog)\"\n",
    "\n",
    "def tag(txt:str)->str|None:\n",
    "    t=txt.lower()\n",
    "    if re.search(kw_mem,t): return \"meme\"\n",
    "    if re.search(kw_gam,t): return \"gaming\"\n",
    "    if re.search(kw_ai, t): return \"ai\"\n",
    "    if re.search(kw_rwa,t): return \"rwa\"\n",
    "    return None\n"
   ]
  },
  {
   "cell_type": "markdown",
   "id": "960766e2",
   "metadata": {},
   "source": [
    "## 2 · CryptoCompare — top mcap"
   ]
  },
  {
   "cell_type": "code",
   "execution_count": 8,
   "id": "e8e262e7",
   "metadata": {},
   "outputs": [
    {
     "name": "stdout",
     "output_type": "stream",
     "text": [
      "Descargando top mcap de CryptoCompare por páginas …\n",
      "Páginas procesadas: 1, tokens válidos: 0, sin RAW: 0\n",
      "⚠️  Aún ningún token coincide — sigue paginando o revisa keywords.\n"
     ]
    }
   ],
   "source": [
    "print(\"Descargando top mcap de CryptoCompare por páginas …\")\n",
    "\n",
    "PER_PAGE  = 200\n",
    "MAX_PAGES = 30          # = 6 000 potencial\n",
    "records_cc, missing_raw = [], 0\n",
    "\n",
    "for page in range(MAX_PAGES):\n",
    "    params = {\"limit\": PER_PAGE, \"page\": page, \"tsym\": VS, \"sign\": \"true\"}\n",
    "    data = requests.get(url, params=params, headers=HEADERS_CC,\n",
    "                        timeout=60).json()[\"Data\"]\n",
    "    if not data:                       # fin de lista real\n",
    "        break\n",
    "    for t in data:\n",
    "        raw = t.get(\"RAW\", {}).get(VS)\n",
    "        if not raw:\n",
    "            missing_raw += 1\n",
    "            continue\n",
    "        nar = tag(f\"{t['CoinInfo']['FullName']} {t['CoinInfo']['Name']}\")\n",
    "        if not nar:\n",
    "            continue\n",
    "        records_cc.append({\n",
    "            \"id\": t[\"CoinInfo\"][\"Name\"],\n",
    "            \"symbol\": t[\"CoinInfo\"][\"Name\"],\n",
    "            \"name\": t[\"CoinInfo\"][\"FullName\"],\n",
    "            \"price\": raw[\"PRICE\"],\n",
    "            \"volume\": raw[\"VOLUME24HOURTO\"],\n",
    "            \"market_cap\": raw[\"MKTCAP\"],\n",
    "            \"narrative\": nar,\n",
    "        })\n",
    "    # sal del bucle solo si YA superaste 5 000 tokens útiles\n",
    "    if len(records_cc) >= 5200:\n",
    "        break\n",
    "\n",
    "print(f\"Páginas procesadas: {page+1}, tokens válidos: {len(records_cc)}, sin RAW: {missing_raw}\")\n",
    "\n",
    "df_cc = pd.DataFrame(records_cc)\n",
    "if not df_cc.empty:\n",
    "    print(\"CryptoCompare narrativas:\\n\", df_cc[\"narrative\"].value_counts())\n",
    "else:\n",
    "    print(\"⚠️  Aún ningún token coincide — sigue paginando o revisa keywords.\")\n",
    "\n"
   ]
  },
  {
   "cell_type": "markdown",
   "id": "ed173b13",
   "metadata": {},
   "source": [
    "## 3 · CoinMarketCap — categorías AI, Gaming, Meme, RWA"
   ]
  },
  {
   "cell_type": "code",
   "execution_count": 13,
   "id": "fc4d0ead",
   "metadata": {},
   "outputs": [
    {
     "name": "stdout",
     "output_type": "stream",
     "text": [
      "Descargando listings de CoinMarketCap …\n",
      "Páginas procesadas: 20, tokens válidos: 1144\n",
      "narrative\n",
      "meme      666\n",
      "ai        278\n",
      "gaming    133\n",
      "rwa        67\n",
      "Name: count, dtype: int64\n"
     ]
    }
   ],
   "source": [
    "print(\"Descargando listings de CoinMarketCap …\")\n",
    "PER_PAGE = 500\n",
    "MAX_PAGES = 20          # 20×500 = 10 000\n",
    "records = []\n",
    "\n",
    "for i in range(MAX_PAGES):\n",
    "    start = 1 + i * PER_PAGE\n",
    "    params = {\"start\": start, \"limit\": PER_PAGE, \"convert\": VS}\n",
    "    url = \"https://pro-api.coinmarketcap.com/v1/cryptocurrency/listings/latest\"\n",
    "    data = requests.get(url, params=params, headers=HEADERS_CMC, timeout=60).json()[\"data\"]\n",
    "    if not data:\n",
    "        break\n",
    "    for c in data:\n",
    "        q = c[\"quote\"][VS]\n",
    "        nar = tag(f\"{c['name']} {c['symbol']}\")\n",
    "        if nar:\n",
    "            records.append({\n",
    "                \"cmc_id\": c[\"id\"],\n",
    "                \"symbol\": c[\"symbol\"],\n",
    "                \"name\": c[\"name\"],\n",
    "                \"price\": q[\"price\"],\n",
    "                \"volume\": q[\"volume_24h\"],\n",
    "                \"market_cap\": q[\"market_cap\"],\n",
    "                \"narrative\": nar,\n",
    "            })\n",
    "\n",
    "print(f\"Páginas procesadas: {i+1}, tokens válidos: {len(records)}\")\n",
    "df_cc = pd.DataFrame(records)\n",
    "print(df_cc[\"narrative\"].value_counts())\n"
   ]
  },
  {
   "cell_type": "markdown",
   "id": "1d3db6f0",
   "metadata": {},
   "source": [
    "## 4 · Guardar el CSV con los 1 143 tokens"
   ]
  },
  {
   "cell_type": "code",
   "execution_count": 15,
   "id": "ec55dcd7",
   "metadata": {},
   "outputs": [
    {
     "name": "stdout",
     "output_type": "stream",
     "text": [
      "✅ CSV guardado → coinmarketcap_filtered.csv | filas: 1144\n"
     ]
    }
   ],
   "source": [
    "# --- guardar CSV CoinMarketCap -----------------------------------------\n",
    "OUT_CSV = \"coinmarketcap_filtered.csv\"\n",
    "\n",
    "cols = [\"cmc_id\", \"symbol\", \"name\", \"narrative\", \"price\", \"volume\", \"market_cap\"]\n",
    "df_cc[cols].to_csv(OUT_CSV, index=False)\n",
    "print(\"✅ CSV guardado →\", OUT_CSV, \"| filas:\", len(df_cc))\n"
   ]
  },
  {
   "cell_type": "markdown",
   "id": "051ff4fb",
   "metadata": {},
   "source": [
    "## 5 · OHLC 365 días desde CoinMarketCap"
   ]
  },
  {
   "cell_type": "code",
   "execution_count": 17,
   "id": "cf803d2a",
   "metadata": {},
   "outputs": [
    {
     "name": "stderr",
     "output_type": "stream",
     "text": [
      "OHLC:   1%|          | 9/954 [00:02<03:02,  5.16it/s]C:\\Users\\USUARIO\\AppData\\Local\\Temp\\ipykernel_35048\\2507051003.py:20: DeprecationWarning: datetime.datetime.utcfromtimestamp() is deprecated and scheduled for removal in a future version. Use timezone-aware objects to represent datetimes in UTC: datetime.datetime.fromtimestamp(timestamp, datetime.UTC).\n",
      "  \"date\": datetime.datetime.utcfromtimestamp(d[\"time\"]).strftime(\"%Y-%m-%d\"),\n",
      "OHLC: 100%|██████████| 954/954 [00:14<00:00, 67.13it/s] "
     ]
    },
    {
     "name": "stdout",
     "output_type": "stream",
     "text": [
      "⏱️ OHLC filas 20,130\n",
      "✅ OHLC CSV guardado → ohlc_full.csv\n"
     ]
    },
    {
     "name": "stderr",
     "output_type": "stream",
     "text": [
      "\n"
     ]
    }
   ],
   "source": [
    "# --- OHLC 365 d via CryptoCompare (sí funciona en plan free) -----------\n",
    "import asyncio, aiohttp, nest_asyncio, tqdm, datetime, pandas as pd, time\n",
    "nest_asyncio.apply()\n",
    "\n",
    "VS = \"USD\"\n",
    "DAYS = 365\n",
    "CONC = 20\n",
    "OUT_OHLC = \"ohlc_full.csv\"\n",
    "\n",
    "async def fetch_ohlc(sess, sym):\n",
    "    url = \"https://min-api.cryptocompare.com/data/v2/histoday\"\n",
    "    params = {\"fsym\": sym, \"tsym\": VS, \"limit\": DAYS, \"sign\": \"true\"}\n",
    "    async with sess.get(url, params=params, headers=HEADERS_CC, timeout=20) as r:\n",
    "        j = await r.json()\n",
    "        if j.get(\"Response\") != \"Success\":\n",
    "            return []\n",
    "        return [\n",
    "            {\n",
    "                \"id\": sym,\n",
    "                \"date\": datetime.datetime.utcfromtimestamp(d[\"time\"]).strftime(\"%Y-%m-%d\"),\n",
    "                \"close\": d[\"close\"],\n",
    "            }\n",
    "            for d in j[\"Data\"][\"Data\"]\n",
    "        ]\n",
    "\n",
    "async def gather(symbols):\n",
    "    rows = []; sem = asyncio.Semaphore(CONC)\n",
    "    async with aiohttp.ClientSession() as sess:\n",
    "        async def worker(s):\n",
    "            async with sem:\n",
    "                try: rows.extend(await fetch_ohlc(sess, s))\n",
    "                except: pass\n",
    "        tasks = [worker(s) for s in symbols]\n",
    "        for _ in tqdm.tqdm(asyncio.as_completed(tasks), total=len(tasks), desc=\"OHLC\"):\n",
    "            await _\n",
    "    return rows\n",
    "\n",
    "symbols = df_cc[\"symbol\"].unique().tolist()\n",
    "t0 = time.time()\n",
    "rows = asyncio.get_event_loop().run_until_complete(gather(symbols))\n",
    "print(f\"⏱️ OHLC filas {len(rows):,}\")\n",
    "\n",
    "pd.DataFrame(rows).to_csv(OUT_OHLC, index=False)\n",
    "print(\"✅ OHLC CSV guardado →\", OUT_OHLC)\n"
   ]
  },
  {
   "cell_type": "code",
   "execution_count": 18,
   "id": "75063d71",
   "metadata": {},
   "outputs": [],
   "source": [
    "listing = requests.get(\"https://api.coingecko.com/api/v3/coins/list\").json()\n",
    "sym2id = {c[\"symbol\"].upper(): c[\"id\"] for c in listing}\n",
    "df_cc[\"cg_id\"] = df_cc[\"symbol\"].str.upper().map(sym2id)\n",
    "df_ids = df_cc.dropna(subset=[\"cg_id\"])\n"
   ]
  },
  {
   "cell_type": "code",
   "execution_count": 19,
   "id": "4d7a1d58",
   "metadata": {},
   "outputs": [
    {
     "name": "stderr",
     "output_type": "stream",
     "text": [
      "OHLC CG:   5%|▌         | 49/975 [00:04<01:03, 14.65it/s] C:\\Users\\USUARIO\\AppData\\Local\\Temp\\ipykernel_35048\\782267807.py:14: DeprecationWarning: datetime.datetime.utcfromtimestamp() is deprecated and scheduled for removal in a future version. Use timezone-aware objects to represent datetimes in UTC: datetime.datetime.fromtimestamp(timestamp, datetime.UTC).\n",
      "  \"date\": datetime.datetime.utcfromtimestamp(ts/1000).strftime(\"%Y-%m-%d\"),\n",
      "OHLC CG: 100%|██████████| 975/975 [00:05<00:00, 180.75it/s]"
     ]
    },
    {
     "name": "stdout",
     "output_type": "stream",
     "text": [
      "⏱️ filas: 1497 en 5.4 s\n",
      "✅ Guardado ohlc_full_coingecko.csv\n"
     ]
    },
    {
     "name": "stderr",
     "output_type": "stream",
     "text": [
      "\n"
     ]
    }
   ],
   "source": [
    "import aiohttp, asyncio, nest_asyncio, tqdm, datetime, pandas as pd, time\n",
    "nest_asyncio.apply()\n",
    "\n",
    "DAYS = 365; VS = \"usd\"; CONC = 20\n",
    "url_tpl = \"https://api.coingecko.com/api/v3/coins/{id}/market_chart\"\n",
    "\n",
    "async def fetch(sess, cg_id, sym):\n",
    "    params = {\"vs_currency\": VS, \"days\": DAYS, \"interval\": \"daily\"}\n",
    "    async with sess.get(url_tpl.format(id=cg_id), params=params, timeout=25) as r:\n",
    "        if r.status != 200: return []\n",
    "        j = await r.json()\n",
    "        return [\n",
    "            {\"id\": sym,\n",
    "             \"date\": datetime.datetime.utcfromtimestamp(ts/1000).strftime(\"%Y-%m-%d\"),\n",
    "             \"close\": price}\n",
    "            for ts, price in j.get(\"prices\", [])\n",
    "        ]\n",
    "\n",
    "async def gather(rows):\n",
    "    out=[]; sem=asyncio.Semaphore(CONC)\n",
    "    async with aiohttp.ClientSession() as sess:\n",
    "        async def worker(cg_id,sym):\n",
    "            async with sem:\n",
    "                try: out.extend(await fetch(sess,cg_id,sym))\n",
    "                except: pass\n",
    "        tasks=[worker(r.cg_id,r.symbol) for r in rows.itertuples()]\n",
    "        for _ in tqdm.tqdm(asyncio.as_completed(tasks), total=len(tasks), desc=\"OHLC CG\"):\n",
    "            await _\n",
    "    return out\n",
    "\n",
    "t0=time.time()\n",
    "rows = asyncio.get_event_loop().run_until_complete(gather(df_ids[[\"cg_id\",\"symbol\"]]))\n",
    "print(\"⏱️ filas:\", len(rows), \"en\", round(time.time()-t0,1), \"s\")\n",
    "pd.DataFrame(rows).to_csv(\"ohlc_full_coingecko.csv\", index=False)\n",
    "print(\"✅ Guardado ohlc_full_coingecko.csv\")\n"
   ]
  }
 ],
 "metadata": {
  "kernelspec": {
   "display_name": "Python 3",
   "language": "python",
   "name": "python3"
  },
  "language_info": {
   "codemirror_mode": {
    "name": "ipython",
    "version": 3
   },
   "file_extension": ".py",
   "mimetype": "text/x-python",
   "name": "python",
   "nbconvert_exporter": "python",
   "pygments_lexer": "ipython3",
   "version": "3.13.5"
  }
 },
 "nbformat": 4,
 "nbformat_minor": 5
}
