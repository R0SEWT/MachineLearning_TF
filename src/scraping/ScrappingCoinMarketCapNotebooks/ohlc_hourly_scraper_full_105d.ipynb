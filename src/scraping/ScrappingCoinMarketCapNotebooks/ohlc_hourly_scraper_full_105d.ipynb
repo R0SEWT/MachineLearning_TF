{
 "cells": [
  {
   "cell_type": "markdown",
   "id": "aa758406",
   "metadata": {},
   "source": [
    "# 📊 Scraper OHLC horario (Binance, CryptoCompare, CoinGecko)\n",
    "\n",
    "Genera datos **hora a hora (últimos 105 días)** para todas las monedas listadas en `cryptos_master.csv` utilizando tres proveedores:\n",
    "\n",
    "1. **Binance** – pares *XYZUSDT*.\n",
    "2. **CryptoCompare** – endpoint `histohour`.\n",
    "3. **CoinGecko** – endpoint `/coins/{id}/ohlc`.\n",
    "\n",
    "Cada sección descarga, normaliza y guarda un CSV independiente y finalmente concatena todo en un único archivo `ohlc_hourly_<provider>.csv` dentro de `../../data/`.\n",
    "\n",
    "> **💡 Tip:** Ejecuta cada sección por separado para depurar problemas de rate‑limit.\n"
   ]
  },
  {
   "cell_type": "code",
   "execution_count": 1,
   "id": "c35a9490",
   "metadata": {},
   "outputs": [],
   "source": [
    "# ▸ Instala dependencias (si tu entorno ya las tiene, salta esta celda)\n",
    "!python -m pip install --quiet requests pandas tqdm python-binance"
   ]
  },
  {
   "cell_type": "code",
   "execution_count": 2,
   "id": "d2cbd053",
   "metadata": {},
   "outputs": [
    {
     "name": "stdout",
     "output_type": "stream",
     "text": [
      "Monedas: 2824\n"
     ]
    },
    {
     "name": "stderr",
     "output_type": "stream",
     "text": [
      "c:\\Python313\\Lib\\site-packages\\tqdm\\auto.py:21: TqdmWarning: IProgress not found. Please update jupyter and ipywidgets. See https://ipywidgets.readthedocs.io/en/stable/user_install.html\n",
      "  from .autonotebook import tqdm as notebook_tqdm\n"
     ]
    }
   ],
   "source": [
    "import os, time, pathlib, json, math\n",
    "import pandas as pd, numpy as np\n",
    "import requests\n",
    "from datetime import datetime, timedelta, timezone\n",
    "from tqdm.auto import tqdm\n",
    "\n",
    "# ── Claves API ───────────────────────────────────────────────\n",
    "CRYPTOCOMPARE_KEY = '04b6720c1a883e4135d9c03af7775afb654338972208c9b378120cd8269ef2c3'\n",
    "COINGECKO_BASE = 'https://api.coingecko.com/api/v3'\n",
    "\n",
    "# Binance no requiere key para klines públicos\n",
    "\n",
    "DATA_DIR = pathlib.Path('../../data')\n",
    "DATA_DIR.mkdir(parents=True, exist_ok=True)\n",
    "\n",
    "MASTER_PATH = pathlib.Path('../../data/cryptos_master.csv')\n",
    "assert MASTER_PATH.exists(), f'No se encontró {MASTER_PATH}'\n",
    "coins_df = pd.read_csv(MASTER_PATH)\n",
    "print('Monedas:', len(coins_df))\n"
   ]
  },
  {
   "cell_type": "code",
   "execution_count": 3,
   "id": "f474b889",
   "metadata": {},
   "outputs": [],
   "source": [
    "def unix_ms(dt):\n",
    "    return int(dt.timestamp())\n",
    "\n",
    "def save_df(df, fname):\n",
    "    path = DATA_DIR / fname\n",
    "    df.to_csv(path, index=False)\n",
    "    print('✔️  Guardado', path)\n"
   ]
  },
  {
   "cell_type": "markdown",
   "id": "5bca3d15",
   "metadata": {},
   "source": [
    "## 🔸 CryptoCompare"
   ]
  },
  {
   "cell_type": "code",
   "execution_count": null,
   "id": "f75b5282",
   "metadata": {},
   "outputs": [],
   "source": [
    "def fetch_cc_hourly(symbol, tsym='USDT', days=105):\n",
    "    limit = days*24  # total hours\n",
    "    records = []\n",
    "    url = 'https://min-api.cryptocompare.com/data/v2/histohour'\n",
    "    params = {\n",
    "        'fsym': symbol.upper(),\n",
    "        'tsym': tsym.upper(),\n",
    "        'limit': 2000,  # max per call\n",
    "        'api_key': CRYPTOCOMPARE_KEY\n",
    "    }\n",
    "    remaining = limit\n",
    "    to_ts = int(time.time())\n",
    "    pbar = tqdm(total=limit, desc=f'CC {symbol}')\n",
    "    while remaining>0:\n",
    "        take = min(2000, remaining)-1  # CC returns N+1 rows\n",
    "        params['limit']=take\n",
    "        params['toTs']=to_ts\n",
    "        resp = requests.get(url, params=params, timeout=30)\n",
    "        data = resp.json()['Data']['Data']\n",
    "        if not data:\n",
    "            break\n",
    "        records.extend(data)\n",
    "        remaining -= len(data)\n",
    "        to_ts = data[0]['time']-1\n",
    "        pbar.update(len(data))\n",
    "        time.sleep(0.25)  # rate‑limit cushion\n",
    "    pbar.close()\n",
    "    df = pd.DataFrame(records)\n",
    "    df.rename(columns={'time':'timestamp','volumefrom':'volume'}, inplace=True)\n",
    "    df['symbol']=symbol.upper()\n",
    "    df['source']='cryptocompare'\n",
    "    return df[['timestamp','open','high','low','close','volume','symbol','source']]\n",
    "\n",
    "dfs=[]\n",
    "for sym in coins_df['symbol']:\n",
    "    try:\n",
    "        dfs.append(fetch_cc_hourly(sym))\n",
    "    except Exception as e:\n",
    "        print('❌', sym, e)\n",
    "\n",
    "cc_df = pd.concat(dfs, ignore_index=True)\n",
    "save_df(cc_df, 'ohlc_hourly_cryptocompare.csv')\n"
   ]
  },
  {
   "cell_type": "markdown",
   "id": "ffdd35d5",
   "metadata": {},
   "source": [
    "## 🔸 Binance"
   ]
  },
  {
   "cell_type": "code",
   "execution_count": null,
   "id": "9cb96063",
   "metadata": {},
   "outputs": [],
   "source": [
    "def fetch_binance_hourly(symbol, quote='USDT', days=105):\n",
    "    pair = f'{symbol.upper()}{quote.upper()}'\n",
    "    interval='1h'\n",
    "    limit=1000\n",
    "    end = int(time.time()*1000)\n",
    "    start = int((datetime.utcnow()-timedelta(days=days)).timestamp()*1000)\n",
    "    records=[]\n",
    "    pbar = tqdm(desc=f'BIN {pair}')\n",
    "    while start<end:\n",
    "        params={'symbol':pair,'interval':interval,'limit':limit,'startTime':start,'endTime':min(start+limit*3600*1000,end)}\n",
    "        resp=requests.get('https://api.binance.com/api/v3/klines',params=params,timeout=30)\n",
    "        if resp.status_code!=200:\n",
    "            break\n",
    "        klines=resp.json()\n",
    "        if not klines:\n",
    "            break\n",
    "        for k in klines:\n",
    "            records.append({'timestamp':k[0]//1000,'open':float(k[1]),'high':float(k[2]),'low':float(k[3]),'close':float(k[4]),'volume':float(k[5])})\n",
    "        start = klines[-1][0]+3600*1000\n",
    "        pbar.update(len(klines))\n",
    "        time.sleep(0.2)\n",
    "    pbar.close()\n",
    "    df=pd.DataFrame(records)\n",
    "    if df.empty:\n",
    "        return df\n",
    "    df['symbol']=symbol.upper()\n",
    "    df['source']='binance'\n",
    "    return df[['timestamp','open','high','low','close','volume','symbol','source']]\n",
    "\n",
    "dfs=[]\n",
    "for sym in coins_df['symbol']:\n",
    "    try:\n",
    "        dfs.append(fetch_binance_hourly(sym))\n",
    "    except Exception as e:\n",
    "        print('❌', sym,e)\n",
    "\n",
    "bn_df=pd.concat(dfs, ignore_index=True)\n",
    "save_df(bn_df,'ohlc_hourly_binance.csv')\n"
   ]
  },
  {
   "cell_type": "markdown",
   "id": "69a87b97",
   "metadata": {},
   "source": [
    "## 🔸 CoinGecko"
   ]
  },
  {
   "cell_type": "code",
   "execution_count": null,
   "id": "4e39f769",
   "metadata": {},
   "outputs": [],
   "source": [
    "def fetch_cg_hourly(coin_id, vs='usd', days_total=105):\n",
    "    records=[]\n",
    "    endpoint=f'{COINGECKO_BASE}/coins/{coin_id}/ohlc'\n",
    "    remaining=days_total\n",
    "    pbar=tqdm(desc=f'CG {coin_id}')\n",
    "    while remaining>0:\n",
    "        span=min(90,remaining)\n",
    "        params={'vs_currency':vs,'days':span}\n",
    "        resp=requests.get(endpoint,params=params,timeout=30)\n",
    "        if resp.status_code!=200:\n",
    "            break\n",
    "        data=resp.json()\n",
    "        for ts,o,h,l,c in data:\n",
    "            records.append({'timestamp':ts//1000,'open':o,'high':h,'low':l,'close':c})\n",
    "        remaining-=span\n",
    "        pbar.update(span)\n",
    "        time.sleep(1)\n",
    "    pbar.close()\n",
    "    df=pd.DataFrame(records)\n",
    "    if df.empty:\n",
    "        return df\n",
    "    df['symbol']=coin_id\n",
    "    df['source']='coingecko'\n",
    "    return df[['timestamp','open','high','low','close','symbol','source']]\n",
    "\n",
    "dfs=[]\n",
    "for cid in coins_df['coingecko_id'] if 'coingecko_id' in coins_df.columns else []:\n",
    "    try:\n",
    "        dfs.append(fetch_cg_hourly(cid))\n",
    "    except Exception as e:\n",
    "        print('❌', cid, e)\n",
    "\n",
    "cg_df=pd.concat(dfs, ignore_index=True) if dfs else pd.DataFrame()\n",
    "save_df(cg_df,'ohlc_hourly_coingecko.csv')\n"
   ]
  },
  {
   "cell_type": "markdown",
   "id": "33261365",
   "metadata": {},
   "source": [
    "## 🔸 Unión de los tres proveedores"
   ]
  },
  {
   "cell_type": "code",
   "execution_count": null,
   "id": "ca216322",
   "metadata": {},
   "outputs": [],
   "source": [
    "all_dfs=[df for df in [cc_df,bn_df,cg_df] if not df.empty]\n",
    "master=pd.concat(all_dfs, ignore_index=True)\n",
    "master.sort_values('timestamp', inplace=True)\n",
    "save_df(master,'ohlc_hourly_all_sources.csv')\n",
    "master.head()\n"
   ]
  }
 ],
 "metadata": {
  "kernelspec": {
   "display_name": "Python 3",
   "language": "python",
   "name": "python3"
  },
  "language_info": {
   "codemirror_mode": {
    "name": "ipython",
    "version": 3
   },
   "file_extension": ".py",
   "mimetype": "text/x-python",
   "name": "python",
   "nbconvert_exporter": "python",
   "pygments_lexer": "ipython3",
   "version": "3.13.5"
  }
 },
 "nbformat": 4,
 "nbformat_minor": 5
}
