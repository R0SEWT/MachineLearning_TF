{
 "cells": [
  {
   "cell_type": "markdown",
   "id": "ab7af136",
   "metadata": {},
   "source": [
    "# Model Training Notebook\n",
    "Actualizado para cumplir con los requisitos del proyecto — predicción de **retorno a 30 días** en criptos *low‑cap* (AI, Gaming, RWA, Meme)."
   ]
  },
  {
   "cell_type": "code",
   "execution_count": null,
   "id": "64338fcf",
   "metadata": {},
   "outputs": [
    {
     "name": "stdout",
     "output_type": "stream",
     "text": [
      "Note: you may need to restart the kernel to use updated packages.\n",
      "✅ Paquetes listos — reinicia el kernel si alguno se actualizó\n"
     ]
    }
   ],
   "source": []
  },
  {
   "cell_type": "markdown",
   "id": "8ef30ccc",
   "metadata": {},
   "source": [
    "## 1 · Carga de datos"
   ]
  },
  {
   "cell_type": "code",
   "execution_count": 3,
   "id": "c2c7e35c",
   "metadata": {},
   "outputs": [
    {
     "name": "stdout",
     "output_type": "stream",
     "text": [
      "Columnas: ['narrative', 'market_cap', 'volume', 'ret_7d', 'ret_30d', 'sma_7', 'sma_30', 'bb_width', 'vol_30d', 'cluster_id', 'future_ret_30d']\n",
      "Shape   : (107, 11)\n"
     ]
    },
    {
     "data": {
      "application/vnd.microsoft.datawrangler.viewer.v0+json": {
       "columns": [
        {
         "name": "index",
         "rawType": "int64",
         "type": "integer"
        },
        {
         "name": "narrative",
         "rawType": "object",
         "type": "string"
        },
        {
         "name": "market_cap",
         "rawType": "float64",
         "type": "float"
        },
        {
         "name": "volume",
         "rawType": "float64",
         "type": "float"
        },
        {
         "name": "ret_7d",
         "rawType": "float64",
         "type": "float"
        },
        {
         "name": "ret_30d",
         "rawType": "float64",
         "type": "float"
        },
        {
         "name": "sma_7",
         "rawType": "float64",
         "type": "float"
        },
        {
         "name": "sma_30",
         "rawType": "float64",
         "type": "float"
        },
        {
         "name": "bb_width",
         "rawType": "float64",
         "type": "float"
        },
        {
         "name": "vol_30d",
         "rawType": "float64",
         "type": "float"
        },
        {
         "name": "cluster_id",
         "rawType": "int64",
         "type": "integer"
        },
        {
         "name": "future_ret_30d",
         "rawType": "float64",
         "type": "float"
        }
       ],
       "ref": "a0e8b539-18ea-45c8-8a0a-9c7d33c779ac",
       "rows": [
        [
         "0",
         "ai",
         "6390.7",
         "1.14",
         "0.1431641053722456",
         "0.318811477901523",
         "6.987810114618828e-06",
         "6.413599875909227e-06",
         "0.0525169805432139",
         "0.0649499300600915",
         "0",
         "0.2201983770268885"
        ],
        [
         "1",
         "ai",
         "12580.77",
         "4.97",
         "-0.1799775506155456",
         "0.1542808618614282",
         "3.1261487401578595e-05",
         "2.863185695096942e-05",
         "0.0958812544879466",
         "0.0631849482792543",
         "0",
         "0.6098971933645945"
        ],
        [
         "2",
         "ai",
         "23651.0",
         "6.53",
         "-0.0604145824394168",
         "0.2477156092268586",
         "2.6137728144202598e-05",
         "2.061871368718301e-05",
         "0.1829110066875803",
         "0.0862683054163657",
         "0",
         "0.0515397051666075"
        ],
        [
         "3",
         "ai",
         "1443249.0",
         "6.16",
         "0.4174249565921484",
         "0.7011555206673772",
         "0.0430018530527583",
         "0.0352697411544712",
         "0.1090743802600883",
         "0.0793287892773208",
         "0",
         "-0.4452294077840669"
        ],
        [
         "4",
         "meme",
         "107137.0",
         "107.15",
         "-0.1540554981291609",
         "-0.3889706907268861",
         "2.1004067033558352e-05",
         "2.768429460132756e-05",
         "0.2671495404059933",
         "0.0993688871177078",
         "3",
         "0.7118664200130178"
        ]
       ],
       "shape": {
        "columns": 11,
        "rows": 5
       }
      },
      "text/html": [
       "<div>\n",
       "<style scoped>\n",
       "    .dataframe tbody tr th:only-of-type {\n",
       "        vertical-align: middle;\n",
       "    }\n",
       "\n",
       "    .dataframe tbody tr th {\n",
       "        vertical-align: top;\n",
       "    }\n",
       "\n",
       "    .dataframe thead th {\n",
       "        text-align: right;\n",
       "    }\n",
       "</style>\n",
       "<table border=\"1\" class=\"dataframe\">\n",
       "  <thead>\n",
       "    <tr style=\"text-align: right;\">\n",
       "      <th></th>\n",
       "      <th>narrative</th>\n",
       "      <th>market_cap</th>\n",
       "      <th>volume</th>\n",
       "      <th>ret_7d</th>\n",
       "      <th>ret_30d</th>\n",
       "      <th>sma_7</th>\n",
       "      <th>sma_30</th>\n",
       "      <th>bb_width</th>\n",
       "      <th>vol_30d</th>\n",
       "      <th>cluster_id</th>\n",
       "      <th>future_ret_30d</th>\n",
       "    </tr>\n",
       "  </thead>\n",
       "  <tbody>\n",
       "    <tr>\n",
       "      <th>0</th>\n",
       "      <td>ai</td>\n",
       "      <td>6390.70</td>\n",
       "      <td>1.14</td>\n",
       "      <td>0.143164</td>\n",
       "      <td>0.318811</td>\n",
       "      <td>0.000007</td>\n",
       "      <td>0.000006</td>\n",
       "      <td>0.052517</td>\n",
       "      <td>0.064950</td>\n",
       "      <td>0</td>\n",
       "      <td>0.220198</td>\n",
       "    </tr>\n",
       "    <tr>\n",
       "      <th>1</th>\n",
       "      <td>ai</td>\n",
       "      <td>12580.77</td>\n",
       "      <td>4.97</td>\n",
       "      <td>-0.179978</td>\n",
       "      <td>0.154281</td>\n",
       "      <td>0.000031</td>\n",
       "      <td>0.000029</td>\n",
       "      <td>0.095881</td>\n",
       "      <td>0.063185</td>\n",
       "      <td>0</td>\n",
       "      <td>0.609897</td>\n",
       "    </tr>\n",
       "    <tr>\n",
       "      <th>2</th>\n",
       "      <td>ai</td>\n",
       "      <td>23651.00</td>\n",
       "      <td>6.53</td>\n",
       "      <td>-0.060415</td>\n",
       "      <td>0.247716</td>\n",
       "      <td>0.000026</td>\n",
       "      <td>0.000021</td>\n",
       "      <td>0.182911</td>\n",
       "      <td>0.086268</td>\n",
       "      <td>0</td>\n",
       "      <td>0.051540</td>\n",
       "    </tr>\n",
       "    <tr>\n",
       "      <th>3</th>\n",
       "      <td>ai</td>\n",
       "      <td>1443249.00</td>\n",
       "      <td>6.16</td>\n",
       "      <td>0.417425</td>\n",
       "      <td>0.701156</td>\n",
       "      <td>0.043002</td>\n",
       "      <td>0.035270</td>\n",
       "      <td>0.109074</td>\n",
       "      <td>0.079329</td>\n",
       "      <td>0</td>\n",
       "      <td>-0.445229</td>\n",
       "    </tr>\n",
       "    <tr>\n",
       "      <th>4</th>\n",
       "      <td>meme</td>\n",
       "      <td>107137.00</td>\n",
       "      <td>107.15</td>\n",
       "      <td>-0.154055</td>\n",
       "      <td>-0.388971</td>\n",
       "      <td>0.000021</td>\n",
       "      <td>0.000028</td>\n",
       "      <td>0.267150</td>\n",
       "      <td>0.099369</td>\n",
       "      <td>3</td>\n",
       "      <td>0.711866</td>\n",
       "    </tr>\n",
       "  </tbody>\n",
       "</table>\n",
       "</div>"
      ],
      "text/plain": [
       "  narrative  market_cap  volume    ret_7d   ret_30d     sma_7    sma_30  \\\n",
       "0        ai     6390.70    1.14  0.143164  0.318811  0.000007  0.000006   \n",
       "1        ai    12580.77    4.97 -0.179978  0.154281  0.000031  0.000029   \n",
       "2        ai    23651.00    6.53 -0.060415  0.247716  0.000026  0.000021   \n",
       "3        ai  1443249.00    6.16  0.417425  0.701156  0.043002  0.035270   \n",
       "4      meme   107137.00  107.15 -0.154055 -0.388971  0.000021  0.000028   \n",
       "\n",
       "   bb_width   vol_30d  cluster_id  future_ret_30d  \n",
       "0  0.052517  0.064950           0        0.220198  \n",
       "1  0.095881  0.063185           0        0.609897  \n",
       "2  0.182911  0.086268           0        0.051540  \n",
       "3  0.109074  0.079329           0       -0.445229  \n",
       "4  0.267150  0.099369           3        0.711866  "
      ]
     },
     "execution_count": 3,
     "metadata": {},
     "output_type": "execute_result"
    }
   ],
   "source": [
    "import pandas as pd, pathlib, warnings\n",
    "warnings.filterwarnings('ignore')\n",
    "\n",
    "DATA_PATH = pathlib.Path('../../data/ml_dataset.csv')\n",
    "assert DATA_PATH.exists(), f'No se encontró {DATA_PATH}'\n",
    "\n",
    "# 1⃣  cargamos sin parse_dates para inspeccionar primero\n",
    "df = pd.read_csv(DATA_PATH)\n",
    "print(\"Columnas:\", list(df.columns))\n",
    "print(\"Shape   :\", df.shape)\n",
    "\n",
    "# 2⃣  si existe alguna columna temporal la convertimos:\n",
    "for cand in [\"date\", \"fecha\", \"timestamp\"]:\n",
    "    if cand in df.columns:\n",
    "        df[cand] = pd.to_datetime(df[cand], errors=\"coerce\")\n",
    "        df = df.dropna(subset=[cand])          # opcional: descartar filas sin fecha\n",
    "        break                                  # salimos tras la primera coincidencia\n",
    "\n",
    "df.head()\n"
   ]
  },
  {
   "cell_type": "markdown",
   "id": "870bcce0",
   "metadata": {},
   "source": [
    "## 2 · Features + target"
   ]
  },
  {
   "cell_type": "code",
   "execution_count": 4,
   "id": "72a974d2",
   "metadata": {},
   "outputs": [
    {
     "name": "stdout",
     "output_type": "stream",
     "text": [
      "Num: 8 ['market_cap', 'volume', 'ret_7d', 'ret_30d', 'sma_7', 'sma_30', 'bb_width', 'vol_30d']\n"
     ]
    }
   ],
   "source": [
    "target = 'future_ret_30d'\n",
    "cat_cols = ['narrative','cluster_id']\n",
    "num_cols = [c for c in df.columns if c not in cat_cols + ['id','date',target]]\n",
    "\n",
    "print('Num:', len(num_cols), num_cols[:10])"
   ]
  },
  {
   "cell_type": "markdown",
   "id": "9569ce1a",
   "metadata": {},
   "source": [
    "## 3 · Split (train/val/test 60‑20‑20)"
   ]
  },
  {
   "cell_type": "code",
   "execution_count": 5,
   "id": "e0bd8266",
   "metadata": {},
   "outputs": [
    {
     "name": "stdout",
     "output_type": "stream",
     "text": [
      "(64, 10) (21, 10) (22, 10)\n"
     ]
    }
   ],
   "source": [
    "from sklearn.model_selection import train_test_split\n",
    "X = df[cat_cols + num_cols]\n",
    "y = df[target]\n",
    "\n",
    "X_train, X_temp, y_train, y_temp = train_test_split(X, y, test_size=0.4, random_state=42)\n",
    "X_val, X_test , y_val, y_test  = train_test_split(X_temp, y_temp, test_size=0.5, random_state=42)\n",
    "print(X_train.shape, X_val.shape, X_test.shape)"
   ]
  },
  {
   "cell_type": "markdown",
   "id": "9e6532fc",
   "metadata": {},
   "source": [
    "## 4 · Pipeline de pre‑procesamiento"
   ]
  },
  {
   "cell_type": "code",
   "execution_count": 6,
   "id": "bdeaf3aa",
   "metadata": {},
   "outputs": [],
   "source": [
    "from sklearn.compose import ColumnTransformer\n",
    "from sklearn.pipeline import Pipeline\n",
    "from sklearn.preprocessing import OneHotEncoder, StandardScaler\n",
    "from sklearn.impute import SimpleImputer\n",
    "\n",
    "pre = ColumnTransformer([\n",
    "    ('num', Pipeline([\n",
    "        ('imp', SimpleImputer(strategy='median')),\n",
    "        ('sc', StandardScaler())\n",
    "    ]), num_cols),\n",
    "    ('cat', OneHotEncoder(handle_unknown='ignore', sparse_output=False), cat_cols)\n",
    "])"
   ]
  },
  {
   "cell_type": "markdown",
   "id": "49d1e358",
   "metadata": {},
   "source": [
    "## 5 · Baselines: Ridge & ElasticNet"
   ]
  },
  {
   "cell_type": "code",
   "execution_count": 7,
   "id": "1883801b",
   "metadata": {},
   "outputs": [
    {
     "name": "stdout",
     "output_type": "stream",
     "text": [
      "Ridge  RMSE 1.1565082859676061 R² -16.536970412285974\n",
      "Elastic RMSE 0.35081911370014246 R² -0.6137028497569688\n"
     ]
    }
   ],
   "source": [
    "from sklearn.linear_model import RidgeCV, ElasticNetCV\n",
    "from sklearn.metrics import mean_squared_error, r2_score\n",
    "\n",
    "ridge_pipe = Pipeline([('prep',pre),('reg',RidgeCV(alphas=[0.1,1,10]))])\n",
    "ridge_pipe.fit(X_train,y_train)\n",
    "pred = ridge_pipe.predict(X_val)\n",
    "print('Ridge  RMSE',mean_squared_error(y_val,pred, squared=False),'R²',r2_score(y_val,pred))\n",
    "\n",
    "enet_pipe = Pipeline([('prep',pre),('reg',ElasticNetCV(alphas=[0.01,0.1,1],l1_ratio=[.1,.5,.9],max_iter=5000))])\n",
    "enet_pipe.fit(X_train,y_train)\n",
    "pred2 = enet_pipe.predict(X_val)\n",
    "print('Elastic RMSE',mean_squared_error(y_val,pred2, squared=False),'R²',r2_score(y_val,pred2))"
   ]
  },
  {
   "cell_type": "code",
   "execution_count": 8,
   "id": "83bd4262",
   "metadata": {},
   "outputs": [
    {
     "name": "stdout",
     "output_type": "stream",
     "text": [
      "Requirement already satisfied: xgboost in /home/exodia/miniconda3/envs/ML-TF-G/lib/python3.11/site-packages (3.0.2)\n",
      "Requirement already satisfied: numpy in /home/exodia/miniconda3/envs/ML-TF-G/lib/python3.11/site-packages (from xgboost) (1.26.4)\n",
      "Requirement already satisfied: nvidia-nccl-cu12 in /home/exodia/miniconda3/envs/ML-TF-G/lib/python3.11/site-packages (from xgboost) (2.26.2)\n",
      "Requirement already satisfied: scipy in /home/exodia/miniconda3/envs/ML-TF-G/lib/python3.11/site-packages (from xgboost) (1.16.0)\n"
     ]
    }
   ],
   "source": [
    "!pip install xgboost"
   ]
  },
  {
   "cell_type": "markdown",
   "id": "2a0ce4ed",
   "metadata": {},
   "source": [
    "## 6 · Optuna + XGBoost (GPU)"
   ]
  },
  {
   "cell_type": "code",
   "execution_count": 9,
   "id": "a6fe92b0",
   "metadata": {},
   "outputs": [
    {
     "name": "stderr",
     "output_type": "stream",
     "text": [
      "[I 2025-07-08 10:34:08,044] A new study created in memory with name: no-name-53ab6f4b-8795-4077-975e-d9fbfcb27000\n"
     ]
    },
    {
     "name": "stdout",
     "output_type": "stream",
     "text": [
      "🔍  Optimizando 30 trials …\n"
     ]
    },
    {
     "name": "stderr",
     "output_type": "stream",
     "text": [
      "  0%|          | 0/30 [00:00<?, ?it/s][I 2025-07-08 10:34:08,251] Trial 0 finished with value: 0.3506454784759786 and parameters: {'max_depth': 9, 'lr': 0.001221455372764859, 'subsample': 0.7495542404683255, 'colsample': 0.6023162125645007, 'min_child_weight': 0.0012753031145706219, 'lambda': 0.008365148609245683, 'alpha': 1.4361265376170007}. Best is trial 0 with value: 0.3506454784759786.\n",
      "  3%|▎         | 1/30 [00:00<00:05,  4.86it/s][I 2025-07-08 10:34:08,313] Trial 1 finished with value: 0.36154549759193394 and parameters: {'max_depth': 4, 'lr': 0.025359739714568896, 'subsample': 0.8188330420976231, 'colsample': 0.648713775738792, 'min_child_weight': 0.10130467695599386, 'lambda': 0.0010976027888099915, 'alpha': 0.06191047855864595}. Best is trial 0 with value: 0.3506454784759786.\n",
      "[I 2025-07-08 10:34:08,407] Trial 2 finished with value: 0.35107016462187424 and parameters: {'max_depth': 8, 'lr': 0.002931455050532695, 'subsample': 0.5192718416195483, 'colsample': 0.9210877561929778, 'min_child_weight': 0.018383820294943433, 'lambda': 0.0048695393605271775, 'alpha': 0.005851800814083138}. Best is trial 0 with value: 0.3506454784759786.\n",
      " 10%|█         | 3/30 [00:00<00:03,  8.99it/s][I 2025-07-08 10:34:08,493] Trial 3 finished with value: 0.3508128656952019 and parameters: {'max_depth': 7, 'lr': 0.0014995977779164048, 'subsample': 0.9364426814056799, 'colsample': 0.6088317763341147, 'min_child_weight': 0.3908494806945582, 'lambda': 0.0695382076234859, 'alpha': 0.8433940052828667}. Best is trial 0 with value: 0.3506454784759786.\n",
      "[I 2025-07-08 10:34:08,595] Trial 4 finished with value: 0.35118551424941485 and parameters: {'max_depth': 9, 'lr': 0.0014344919369124573, 'subsample': 0.8341709961538771, 'colsample': 0.9646582483148418, 'min_child_weight': 0.0033377623443054854, 'lambda': 0.0024798341973690636, 'alpha': 0.013665483344823221}. Best is trial 0 with value: 0.3506454784759786.\n",
      " 17%|█▋        | 5/30 [00:00<00:02,  9.78it/s][I 2025-07-08 10:34:08,651] Trial 5 finished with value: 0.3506832488657831 and parameters: {'max_depth': 4, 'lr': 0.0014780968206556623, 'subsample': 0.5098745914728784, 'colsample': 0.5477738819492335, 'min_child_weight': 0.09514455442592998, 'lambda': 0.006003508245128942, 'alpha': 2.7865152682394387}. Best is trial 0 with value: 0.3506454784759786.\n",
      "[I 2025-07-08 10:34:08,730] Trial 6 finished with value: 0.3509623013627281 and parameters: {'max_depth': 6, 'lr': 0.00251497785563705, 'subsample': 0.5091499120811642, 'colsample': 0.9640465190405113, 'min_child_weight': 0.05648573766468256, 'lambda': 0.005794338909123385, 'alpha': 0.07865308359588612}. Best is trial 0 with value: 0.3506454784759786.\n",
      " 23%|██▎       | 7/30 [00:00<00:02, 11.40it/s][I 2025-07-08 10:34:08,828] Trial 7 finished with value: 0.36001127888570905 and parameters: {'max_depth': 9, 'lr': 0.0479276065198826, 'subsample': 0.78925720127203, 'colsample': 0.7816247822119803, 'min_child_weight': 0.0027831618674521524, 'lambda': 0.0443922628007296, 'alpha': 0.03458643690822862}. Best is trial 0 with value: 0.3506454784759786.\n",
      "[I 2025-07-08 10:34:08,977] Trial 8 finished with value: 0.34362631084495354 and parameters: {'max_depth': 5, 'lr': 0.005367209863182553, 'subsample': 0.5736760550321871, 'colsample': 0.7074487730260496, 'min_child_weight': 0.0011114831420069515, 'lambda': 7.570844922120479, 'alpha': 0.12120414124852714}. Best is trial 8 with value: 0.34362631084495354.\n",
      " 30%|███       | 9/30 [00:00<00:02,  9.85it/s][I 2025-07-08 10:34:09,049] Trial 9 finished with value: 0.3491847038905446 and parameters: {'max_depth': 5, 'lr': 0.011093836657190057, 'subsample': 0.9878842564132757, 'colsample': 0.7350159746823869, 'min_child_weight': 0.5545780045258484, 'lambda': 0.004660346741285693, 'alpha': 0.2485463805429081}. Best is trial 8 with value: 0.34362631084495354.\n",
      "[I 2025-07-08 10:34:09,161] Trial 10 finished with value: 0.34101735435552283 and parameters: {'max_depth': 6, 'lr': 0.006946532674372452, 'subsample': 0.6580321279098882, 'colsample': 0.8256299244095119, 'min_child_weight': 8.207194656480228, 'lambda': 9.67887900382292, 'alpha': 0.0011176408267973218}. Best is trial 10 with value: 0.34101735435552283.\n",
      " 37%|███▋      | 11/30 [00:01<00:01, 10.22it/s][I 2025-07-08 10:34:09,284] Trial 11 finished with value: 0.34180830264595985 and parameters: {'max_depth': 6, 'lr': 0.006238908035797146, 'subsample': 0.6399076135219399, 'colsample': 0.8163235527889499, 'min_child_weight': 5.591924943522197, 'lambda': 8.51760559604397, 'alpha': 0.0014434493694957804}. Best is trial 10 with value: 0.34101735435552283.\n",
      "[I 2025-07-08 10:34:09,397] Trial 12 finished with value: 0.34046619012132373 and parameters: {'max_depth': 7, 'lr': 0.007773173499908049, 'subsample': 0.6516922365914811, 'colsample': 0.8459750616519495, 'min_child_weight': 9.446041326071596, 'lambda': 9.100993744448365, 'alpha': 0.001069256571670281}. Best is trial 12 with value: 0.34046619012132373.\n",
      " 43%|████▎     | 13/30 [00:01<00:01,  9.56it/s][I 2025-07-08 10:34:09,483] Trial 13 finished with value: 0.33834181697023863 and parameters: {'max_depth': 7, 'lr': 0.01391953713287768, 'subsample': 0.6719200063919731, 'colsample': 0.8584634665400209, 'min_child_weight': 9.12208915107347, 'lambda': 1.0589694772678884, 'alpha': 0.001116070762786712}. Best is trial 13 with value: 0.33834181697023863.\n",
      "[I 2025-07-08 10:34:09,580] Trial 14 finished with value: 0.34566658380631354 and parameters: {'max_depth': 7, 'lr': 0.014618315776352777, 'subsample': 0.6575084830130297, 'colsample': 0.8811553649502549, 'min_child_weight': 1.5691970392527805, 'lambda': 1.1582811195233869, 'alpha': 0.005816366637567791}. Best is trial 13 with value: 0.33834181697023863.\n",
      " 50%|█████     | 15/30 [00:01<00:01,  9.96it/s][I 2025-07-08 10:34:09,676] Trial 15 finished with value: 0.34616131594592175 and parameters: {'max_depth': 8, 'lr': 0.02279907007096163, 'subsample': 0.7150465199054487, 'colsample': 0.8616518075446787, 'min_child_weight': 2.252908143235874, 'lambda': 1.0069637559945415, 'alpha': 0.0038375354473646674}. Best is trial 13 with value: 0.33834181697023863.\n",
      "[I 2025-07-08 10:34:09,719] Trial 16 finished with value: 0.3508191160876538 and parameters: {'max_depth': 8, 'lr': 0.09363955662962087, 'subsample': 0.6046348232261183, 'colsample': 0.893089204952625, 'min_child_weight': 2.039672702557113, 'lambda': 1.2797394792149064, 'alpha': 9.598283701969455}. Best is trial 13 with value: 0.33834181697023863.\n",
      " 57%|█████▋    | 17/30 [00:01<00:01, 11.04it/s][I 2025-07-08 10:34:09,797] Trial 17 finished with value: 0.3372107937292984 and parameters: {'max_depth': 10, 'lr': 0.020193658869072484, 'subsample': 0.7036606206389683, 'colsample': 0.998189851647681, 'min_child_weight': 8.423058881723613, 'lambda': 0.32196295015742266, 'alpha': 0.0023886307937583577}. Best is trial 17 with value: 0.3372107937292984.\n",
      "[I 2025-07-08 10:34:09,913] Trial 18 finished with value: 0.3589320951905535 and parameters: {'max_depth': 10, 'lr': 0.035219761533876855, 'subsample': 0.8881143891614166, 'colsample': 0.961816364884569, 'min_child_weight': 0.5957498339764878, 'lambda': 0.2847580565628001, 'alpha': 0.01812454906688693}. Best is trial 17 with value: 0.3372107937292984.\n",
      " 63%|██████▎   | 19/30 [00:01<00:01, 10.74it/s][I 2025-07-08 10:34:10,011] Trial 19 finished with value: 0.3472927057320221 and parameters: {'max_depth': 10, 'lr': 0.015434690432589257, 'subsample': 0.7004887700752712, 'colsample': 0.9946602864185207, 'min_child_weight': 2.7190577744593907, 'lambda': 0.22757644751598458, 'alpha': 0.0035439252649195328}. Best is trial 17 with value: 0.3372107937292984.\n",
      "[I 2025-07-08 10:34:10,129] Trial 20 finished with value: 0.36516445722180363 and parameters: {'max_depth': 10, 'lr': 0.07413570749113094, 'subsample': 0.73610555230414, 'colsample': 0.9279678169436265, 'min_child_weight': 0.25558770162540295, 'lambda': 0.027400269531054244, 'alpha': 0.014015688062201331}. Best is trial 17 with value: 0.3372107937292984.\n",
      " 70%|███████   | 21/30 [00:02<00:00, 10.29it/s][I 2025-07-08 10:34:10,258] Trial 21 finished with value: 0.3378248014654247 and parameters: {'max_depth': 7, 'lr': 0.008271722649031237, 'subsample': 0.6781953658369562, 'colsample': 0.8429657028543323, 'min_child_weight': 9.41754006539208, 'lambda': 2.6987713941026565, 'alpha': 0.0010607208152313922}. Best is trial 17 with value: 0.3372107937292984.\n",
      "[I 2025-07-08 10:34:10,336] Trial 22 finished with value: 0.34555883384750097 and parameters: {'max_depth': 7, 'lr': 0.012541795678357434, 'subsample': 0.6958195103476502, 'colsample': 0.774773527854412, 'min_child_weight': 4.250853553745453, 'lambda': 1.9817998204314078, 'alpha': 0.0022853892265284645}. Best is trial 17 with value: 0.3372107937292984.\n",
      " 77%|███████▋  | 23/30 [00:02<00:00, 10.06it/s][I 2025-07-08 10:34:10,439] Trial 23 finished with value: 0.3504367490744326 and parameters: {'max_depth': 8, 'lr': 0.0044224328449536925, 'subsample': 0.580624730883273, 'colsample': 0.7015810264420116, 'min_child_weight': 0.8669265235594407, 'lambda': 0.3885654364615989, 'alpha': 0.00212520281190295}. Best is trial 17 with value: 0.3372107937292984.\n",
      "[I 2025-07-08 10:34:10,519] Trial 24 finished with value: 0.348184437579834 and parameters: {'max_depth': 6, 'lr': 0.02444592188314623, 'subsample': 0.7843555825522783, 'colsample': 0.8045908417582007, 'min_child_weight': 4.229001384579305, 'lambda': 0.5263015184645687, 'alpha': 0.007351489520292616}. Best is trial 17 with value: 0.3372107937292984.\n",
      " 83%|████████▎ | 25/30 [00:02<00:00, 10.34it/s][I 2025-07-08 10:34:10,622] Trial 25 finished with value: 0.34120616265567966 and parameters: {'max_depth': 7, 'lr': 0.018073402793467204, 'subsample': 0.6185709373733977, 'colsample': 0.9998712907013192, 'min_child_weight': 9.569336662086895, 'lambda': 3.098678809651794, 'alpha': 0.0027322613884210095}. Best is trial 17 with value: 0.3372107937292984.\n",
      "[I 2025-07-08 10:34:10,725] Trial 26 finished with value: 0.3476569800960681 and parameters: {'max_depth': 5, 'lr': 0.00932584742473903, 'subsample': 0.6928519493245647, 'colsample': 0.9057076188234789, 'min_child_weight': 1.1871783061275263, 'lambda': 0.1413073651281881, 'alpha': 0.001012530515665464}. Best is trial 17 with value: 0.3372107937292984.\n",
      " 90%|█████████ | 27/30 [00:02<00:00, 10.14it/s][I 2025-07-08 10:34:10,800] Trial 27 finished with value: 0.3467395502922704 and parameters: {'max_depth': 9, 'lr': 0.03860717128154496, 'subsample': 0.7812896719342681, 'colsample': 0.8561049106217987, 'min_child_weight': 4.262050271104748, 'lambda': 3.8773208332433984, 'alpha': 0.025224795663188262}. Best is trial 17 with value: 0.3372107937292984.\n",
      "[I 2025-07-08 10:34:10,957] Trial 28 finished with value: 0.34889803751500914 and parameters: {'max_depth': 8, 'lr': 0.003482340322594706, 'subsample': 0.5736795455719512, 'colsample': 0.5015604323192113, 'min_child_weight': 0.014437093110900806, 'lambda': 0.6714052418610696, 'alpha': 0.004792981322389289}. Best is trial 17 with value: 0.3372107937292984.\n",
      " 97%|█████████▋| 29/30 [00:02<00:00,  9.63it/s][I 2025-07-08 10:34:11,054] Trial 29 finished with value: 0.3519379915400688 and parameters: {'max_depth': 7, 'lr': 0.009283607725995945, 'subsample': 0.7568091009646805, 'colsample': 0.93263552503471, 'min_child_weight': 0.2312764186443307, 'lambda': 0.13585687759172052, 'alpha': 0.0018498788901365484}. Best is trial 17 with value: 0.3372107937292984.\n",
      "100%|██████████| 30/30 [00:03<00:00,  9.97it/s]"
     ]
    },
    {
     "name": "stdout",
     "output_type": "stream",
     "text": [
      "✅  Mejor RMSE: 0.3372\n",
      "Mejores hiperparámetros: {'max_depth': 10, 'lr': 0.020193658869072484, 'subsample': 0.7036606206389683, 'colsample': 0.998189851647681, 'min_child_weight': 8.423058881723613, 'lambda': 0.32196295015742266, 'alpha': 0.0023886307937583577}\n",
      "Final RMSE: 0.339760918760371\n",
      "💾  Modelo guardado en ../../models/xgb_optuna_best.model\n"
     ]
    },
    {
     "name": "stderr",
     "output_type": "stream",
     "text": [
      "\n"
     ]
    }
   ],
   "source": [
    "# %% [markdown]\n",
    "# ## Optuna + XGBoost 2.x (con categorías nativas y early-stopping)\n",
    "\n",
    "# %%\n",
    "import optuna, xgboost as xgb, numpy as np, tqdm\n",
    "from sklearn.metrics import mean_squared_error\n",
    "import pandas as pd\n",
    "\n",
    "# ------------ 1 ▸ preparar DMatrix con categorías -----------------------\n",
    "cat_cols = [\"narrative\", \"cluster_id\"]        # ajusta si cambian\n",
    "def to_dmatrix(X, y):\n",
    "    X_ok = X.copy()\n",
    "    for c in cat_cols:\n",
    "        if c in X_ok.columns:\n",
    "            X_ok[c] = X_ok[c].astype(\"category\")   # -> pandas category\n",
    "    return xgb.DMatrix(\n",
    "        data=X_ok,\n",
    "        label=y.values.astype(np.float32),\n",
    "        enable_categorical=True,\n",
    "        missing=np.nan,\n",
    "    )\n",
    "\n",
    "dtrain = to_dmatrix(X_train, y_train)\n",
    "dval   = to_dmatrix(X_val,   y_val)\n",
    "\n",
    "# ------------ 2 ▸ función objetivo Optuna ------------------------------\n",
    "def objective(trial):\n",
    "    params = {\n",
    "        \"objective\": \"reg:squarederror\",\n",
    "        \"tree_method\": \"hist\",   # GPU => hist + device=cuda\n",
    "        \"device\": \"cuda\",\n",
    "        \"max_depth\":        trial.suggest_int(\"max_depth\", 4, 10),\n",
    "        \"learning_rate\":    trial.suggest_float(\"lr\", 1e-3, 1e-1, log=True),\n",
    "        \"subsample\":        trial.suggest_float(\"subsample\", .5, 1.0),\n",
    "        \"colsample_bytree\": trial.suggest_float(\"colsample\", .5, 1.0),\n",
    "        \"min_child_weight\": trial.suggest_float(\"min_child_weight\", 1e-3, 10, log=True),\n",
    "        \"lambda\":           trial.suggest_float(\"lambda\", 1e-3, 10, log=True),\n",
    "        \"alpha\":            trial.suggest_float(\"alpha\",  1e-3, 10, log=True),\n",
    "        \"seed\": 42,\n",
    "    }\n",
    "\n",
    "    bst = xgb.train(\n",
    "        params,\n",
    "        dtrain,\n",
    "        num_boost_round=2000,\n",
    "        evals=[(dval, \"val\")],\n",
    "        early_stopping_rounds=50,\n",
    "        verbose_eval=False,\n",
    "    )\n",
    "    pred = bst.predict(dval, iteration_range=(0, bst.best_iteration + 1))\n",
    "    return mean_squared_error(y_val, pred, squared=False)\n",
    "\n",
    "# ------------ 3 ▸ lanzar la optimización -------------------------------\n",
    "n_trials = 30\n",
    "print(f\"🔍  Optimizando {n_trials} trials …\")\n",
    "study = optuna.create_study(direction=\"minimize\")\n",
    "for _ in tqdm.tqdm(range(n_trials)):\n",
    "    study.optimize(objective, n_trials=1, catch=(Exception,))\n",
    "\n",
    "print(f\"✅  Mejor RMSE: {study.best_value:.4f}\")\n",
    "print(\"Mejores hiperparámetros:\", study.best_params)\n",
    "\n",
    "# ------------ 4 ▸ entrenar modelo final --------------------------------\n",
    "best_params = {\n",
    "    **study.best_params,\n",
    "    \"objective\": \"reg:squarederror\",\n",
    "    \"tree_method\": \"hist\",\n",
    "    \"device\": \"cuda\",\n",
    "    \"seed\": 42,\n",
    "}\n",
    "\n",
    "best_bst = xgb.train(\n",
    "    best_params,\n",
    "    dtrain,\n",
    "    num_boost_round=2000,\n",
    "    evals=[(dval, \"val\")],\n",
    "    early_stopping_rounds=50,\n",
    "    verbose_eval=False,\n",
    ")\n",
    "\n",
    "# métricas finales\n",
    "y_pred = best_bst.predict(dval, iteration_range=(0, best_bst.best_iteration + 1))\n",
    "print(\"Final RMSE:\", mean_squared_error(y_val, y_pred, squared=False))\n",
    "\n",
    "# ------------ 5 ▸ guardar artefacto ------------------------------------\n",
    "MODEL_PATH = \"../../models/xgb_optuna_best.model\"\n",
    "best_bst.save_model(MODEL_PATH)\n",
    "print(\"💾  Modelo guardado en\", MODEL_PATH)\n"
   ]
  },
  {
   "cell_type": "code",
   "execution_count": 10,
   "id": "ae6054b5",
   "metadata": {},
   "outputs": [
    {
     "name": "stdout",
     "output_type": "stream",
     "text": [
      "⚠️  pre_pipe no está definido — se omitió su guardado.\n",
      "✅  Modelo XGBoost guardado en ../../models/xgb_optuna_best_20250708_103411.json\n",
      "✅  Hiperparámetros guardados en ../../models/xgb_optuna_best_params_20250708_103411.json\n"
     ]
    }
   ],
   "source": [
    "# ▸ Guardado limpio de artefactos\n",
    "import pathlib, json, joblib, os\n",
    "from datetime import datetime\n",
    "\n",
    "# ──────────────────────────────────────────────────────\n",
    "# 1. Carpetas\n",
    "# ──────────────────────────────────────────────────────\n",
    "MODELS_DIR = pathlib.Path(\"../../models\")\n",
    "MODELS_DIR.mkdir(parents=True, exist_ok=True)      # crea recursivamente\n",
    "\n",
    "timestamp   = datetime.now().strftime(\"%Y%m%d_%H%M%S\")\n",
    "model_path  = MODELS_DIR / f\"xgb_optuna_best_{timestamp}.json\"     # formato JSON → ligero\n",
    "params_path = MODELS_DIR / f\"xgb_optuna_best_params_{timestamp}.json\"\n",
    "prep_path   = MODELS_DIR / f\"preprocessor_{timestamp}.joblib\"\n",
    "\n",
    "# ──────────────────────────────────────────────────────\n",
    "# 2. Guardar Booster (árboles) y parámetros Optuna\n",
    "# ──────────────────────────────────────────────────────\n",
    "best_bst.save_model(model_path.as_posix())\n",
    "with params_path.open(\"w\", encoding=\"utf-8\") as f:\n",
    "    json.dump(best_params, f, indent=2)\n",
    "\n",
    "# ──────────────────────────────────────────────────────\n",
    "# 3. (Opcional) Guardar el pre-procesador completo\n",
    "# ──────────────────────────────────────────────────────\n",
    "# Si usaste 'pre_pipe' (ColumnTransformer + OneHotEncoder + etc.):\n",
    "try:\n",
    "    joblib.dump(pre_pipe, prep_path)\n",
    "    print(\"💾  Preprocesador guardado en\", prep_path)\n",
    "except NameError:\n",
    "    print(\"⚠️  pre_pipe no está definido — se omitió su guardado.\")\n",
    "\n",
    "print(\"✅  Modelo XGBoost guardado en\", model_path)\n",
    "print(\"✅  Hiperparámetros guardados en\", params_path)\n"
   ]
  },
  {
   "cell_type": "markdown",
   "id": "c0767b94",
   "metadata": {},
   "source": [
    "## 7 · Evaluación en test"
   ]
  },
  {
   "cell_type": "code",
   "execution_count": 11,
   "id": "987f4cc8",
   "metadata": {},
   "outputs": [
    {
     "ename": "NameError",
     "evalue": "name 'best_xgb' is not defined",
     "output_type": "error",
     "traceback": [
      "\u001b[0;31m---------------------------------------------------------------------------\u001b[0m",
      "\u001b[0;31mNameError\u001b[0m                                 Traceback (most recent call last)",
      "Cell \u001b[0;32mIn[11], line 2\u001b[0m\n\u001b[1;32m      1\u001b[0m \u001b[38;5;28;01mfrom\u001b[39;00m\u001b[38;5;250m \u001b[39m\u001b[38;5;21;01msklearn\u001b[39;00m\u001b[38;5;21;01m.\u001b[39;00m\u001b[38;5;21;01mmetrics\u001b[39;00m\u001b[38;5;250m \u001b[39m\u001b[38;5;28;01mimport\u001b[39;00m mean_absolute_error\n\u001b[0;32m----> 2\u001b[0m pred_test \u001b[38;5;241m=\u001b[39m \u001b[43mbest_xgb\u001b[49m\u001b[38;5;241m.\u001b[39mpredict(X_test)\n\u001b[1;32m      3\u001b[0m rmse \u001b[38;5;241m=\u001b[39m mean_squared_error(y_test, pred_test, squared\u001b[38;5;241m=\u001b[39m\u001b[38;5;28;01mFalse\u001b[39;00m)\n\u001b[1;32m      4\u001b[0m mae  \u001b[38;5;241m=\u001b[39m mean_absolute_error(y_test, pred_test)\n",
      "\u001b[0;31mNameError\u001b[0m: name 'best_xgb' is not defined"
     ]
    }
   ],
   "source": [
    "from sklearn.metrics import mean_absolute_error\n",
    "pred_test = best_xgb.predict(X_test)\n",
    "rmse = mean_squared_error(y_test, pred_test, squared=False)\n",
    "mae  = mean_absolute_error(y_test, pred_test)\n",
    "print('Test RMSE',rmse,'MAE',mae)"
   ]
  },
  {
   "cell_type": "markdown",
   "id": "218f9041",
   "metadata": {},
   "source": [
    "## 8 · Guardar modelo"
   ]
  },
  {
   "cell_type": "code",
   "execution_count": null,
   "id": "a6977f89",
   "metadata": {},
   "outputs": [],
   "source": [
    "import joblib, pathlib, datetime, json\n",
    "OUT_DIR = pathlib.Path('../models'); OUT_DIR.mkdir(exist_ok=True, parents=True)\n",
    "stamp = datetime.datetime.now().strftime('%Y%m%d_%H%M')\n",
    "joblib.dump(best_xgb, OUT_DIR/f'xgb_best_{stamp}.pkl')\n",
    "json.dump(best_params, open(OUT_DIR/f'xgb_params_{stamp}.json','w'))\n",
    "print('✅ Modelo y params guardados')"
   ]
  }
 ],
 "metadata": {
  "kernelspec": {
   "display_name": "ML-TF-G",
   "language": "python",
   "name": "python3"
  },
  "language_info": {
   "codemirror_mode": {
    "name": "ipython",
    "version": 3
   },
   "file_extension": ".py",
   "mimetype": "text/x-python",
   "name": "python",
   "nbconvert_exporter": "python",
   "pygments_lexer": "ipython3",
   "version": "3.11.13"
  }
 },
 "nbformat": 4,
 "nbformat_minor": 5
}
