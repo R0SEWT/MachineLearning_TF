{
 "cells": [
  {
   "cell_type": "markdown",
   "id": "810fe745",
   "metadata": {},
   "source": [
    "# 📊 Dual‑Provider Crypto Scraper (CryptoCompare + CoinMarketCap)\n",
    "\n",
    "*Genera un dataset balanceado (AI, Gaming, RWA, Meme) y su OHLC histórico 1 año.*\n",
    "\n",
    "**Requisitos previos**\n",
    "1. Obtén claves gratuitas:\n",
    "   * **CryptoCompare** ➜ `CRYPTOCOMPARE_KEY`\n",
    "   * **CoinMarketCap** ➜ `COINMARKETCAP_KEY`\n",
    "2. Introduce las claves en la celda de parámetros.\n"
   ]
  },
  {
   "cell_type": "markdown",
   "id": "a171e48f",
   "metadata": {},
   "source": [
    "## 0 · Instalar dependencias"
   ]
  },
  {
   "cell_type": "code",
   "execution_count": 1,
   "id": "bc5ad246",
   "metadata": {},
   "outputs": [],
   "source": [
    "# 🔑🔑 Pega aquí tus claves gratuitas antes de correr\n",
    "CRYPTOCOMPARE_KEY = \"04b6720c1a883e4135d9c03af7775afb654338972208c9b378120cd8269ef2c3\"\n",
    "COINMARKETCAP_KEY = \"2ba3c859-8c6d-4b31-86b6-1c1bf752dcab\"\n",
    "\n",
    "HEADERS_CC  = {\"Authorization\": f\"Apikey {CRYPTOCOMPARE_KEY}\"}\n",
    "HEADERS_CMC = {\"X-CMC_PRO_API_KEY\": COINMARKETCAP_KEY}\n",
    "\n",
    "VS            = \"USD\"\n",
    "HIST_DAYS     = 365\n",
    "CONC_OHLC     = 20\n",
    "OUT_CSV       = \"cryptos_filtered.csv\"\n",
    "OUT_OHLC      = \"ohlc_full.csv\"\n",
    "\n",
    "# Regex narrativas\n",
    "import re\n",
    "kw_ai  = r\"(\\bai\\b|artificial|machine learning|deep learning|big data|llm|agent)\"\n",
    "kw_gam = r\"(game|gaming|metaverse|p2e|play to earn|gamefi|esports)\"\n",
    "kw_rwa = r\"(rwa|tokenized|real[- ]world|treasury|bond|yield|asset)\"\n",
    "kw_mem = r\"(meme|doge|pepe|shib|inu|floki|wojak|kabosu|cat|frog)\"\n",
    "\n",
    "def tag(txt:str)->str|None:\n",
    "    t=txt.lower()\n",
    "    if re.search(kw_mem,t): return \"meme\"\n",
    "    if re.search(kw_gam,t): return \"gaming\"\n",
    "    if re.search(kw_ai,t):  return \"ai\"\n",
    "    if re.search(kw_rwa,t): return \"rwa\"\n",
    "    return None\n"
   ]
  },
  {
   "cell_type": "code",
   "execution_count": 2,
   "id": "54a5393d",
   "metadata": {},
   "outputs": [],
   "source": [
    "!python -m pip install -q requests pandas aiohttp nest_asyncio tqdm pyarrow"
   ]
  },
  {
   "cell_type": "markdown",
   "id": "8ac6309e",
   "metadata": {},
   "source": [
    "## 1 · Tickers de CryptoCompare (top 5 000 mcap)"
   ]
  },
  {
   "cell_type": "code",
   "execution_count": 4,
   "id": "bb0fe674",
   "metadata": {},
   "outputs": [
    {
     "ename": "KeyError",
     "evalue": "'narrative'",
     "output_type": "error",
     "traceback": [
      "\u001b[31m---------------------------------------------------------------------------\u001b[39m",
      "\u001b[31mKeyError\u001b[39m                                  Traceback (most recent call last)",
      "\u001b[36mCell\u001b[39m\u001b[36m \u001b[39m\u001b[32mIn[4]\u001b[39m\u001b[32m, line 28\u001b[39m\n\u001b[32m     25\u001b[39m         records_cc.append(rec)\n\u001b[32m     27\u001b[39m df_cc = pd.DataFrame(records_cc)\n\u001b[32m---> \u001b[39m\u001b[32m28\u001b[39m \u001b[38;5;28mprint\u001b[39m(\u001b[33m\"\u001b[39m\u001b[33mCryptoCompare narrativas:\u001b[39m\u001b[38;5;130;01m\\\\\u001b[39;00m\u001b[33mn\u001b[39m\u001b[33m\"\u001b[39m, \u001b[43mdf_cc\u001b[49m\u001b[43m[\u001b[49m\u001b[33;43m\"\u001b[39;49m\u001b[33;43mnarrative\u001b[39;49m\u001b[33;43m\"\u001b[39;49m\u001b[43m]\u001b[49m.value_counts())\n",
      "\u001b[36mFile \u001b[39m\u001b[32mc:\\Python313\\Lib\\site-packages\\pandas\\core\\frame.py:4107\u001b[39m, in \u001b[36mDataFrame.__getitem__\u001b[39m\u001b[34m(self, key)\u001b[39m\n\u001b[32m   4105\u001b[39m \u001b[38;5;28;01mif\u001b[39;00m \u001b[38;5;28mself\u001b[39m.columns.nlevels > \u001b[32m1\u001b[39m:\n\u001b[32m   4106\u001b[39m     \u001b[38;5;28;01mreturn\u001b[39;00m \u001b[38;5;28mself\u001b[39m._getitem_multilevel(key)\n\u001b[32m-> \u001b[39m\u001b[32m4107\u001b[39m indexer = \u001b[38;5;28;43mself\u001b[39;49m\u001b[43m.\u001b[49m\u001b[43mcolumns\u001b[49m\u001b[43m.\u001b[49m\u001b[43mget_loc\u001b[49m\u001b[43m(\u001b[49m\u001b[43mkey\u001b[49m\u001b[43m)\u001b[49m\n\u001b[32m   4108\u001b[39m \u001b[38;5;28;01mif\u001b[39;00m is_integer(indexer):\n\u001b[32m   4109\u001b[39m     indexer = [indexer]\n",
      "\u001b[36mFile \u001b[39m\u001b[32mc:\\Python313\\Lib\\site-packages\\pandas\\core\\indexes\\range.py:417\u001b[39m, in \u001b[36mRangeIndex.get_loc\u001b[39m\u001b[34m(self, key)\u001b[39m\n\u001b[32m    415\u001b[39m         \u001b[38;5;28;01mraise\u001b[39;00m \u001b[38;5;167;01mKeyError\u001b[39;00m(key) \u001b[38;5;28;01mfrom\u001b[39;00m\u001b[38;5;250m \u001b[39m\u001b[34;01merr\u001b[39;00m\n\u001b[32m    416\u001b[39m \u001b[38;5;28;01mif\u001b[39;00m \u001b[38;5;28misinstance\u001b[39m(key, Hashable):\n\u001b[32m--> \u001b[39m\u001b[32m417\u001b[39m     \u001b[38;5;28;01mraise\u001b[39;00m \u001b[38;5;167;01mKeyError\u001b[39;00m(key)\n\u001b[32m    418\u001b[39m \u001b[38;5;28mself\u001b[39m._check_indexing_error(key)\n\u001b[32m    419\u001b[39m \u001b[38;5;28;01mraise\u001b[39;00m \u001b[38;5;167;01mKeyError\u001b[39;00m(key)\n",
      "\u001b[31mKeyError\u001b[39m: 'narrative'"
     ]
    }
   ],
   "source": [
    "import requests, pandas as pd  #  ← agrega esto si la celda se ejecuta aislada\n",
    "\n",
    "url = \"https://min-api.cryptocompare.com/data/top/mktcapfull\"\n",
    "tickers = requests.get(\n",
    "    url,\n",
    "    params={\"limit\": 5000, \"tsym\": VS},\n",
    "    headers=HEADERS_CC,\n",
    "    timeout=60\n",
    ").json()[\"Data\"]\n",
    "\n",
    "records_cc = []\n",
    "for t in tickers:\n",
    "    info = t[\"CoinInfo\"]\n",
    "    raw  = t[\"RAW\"][VS]\n",
    "    rec = dict(\n",
    "        id         = info[\"Name\"],\n",
    "        symbol     = info[\"Name\"],\n",
    "        name       = info[\"FullName\"],\n",
    "        price      = raw[\"PRICE\"],\n",
    "        volume     = raw[\"VOLUME24HOURTO\"],\n",
    "        market_cap = raw[\"MKTCAP\"],\n",
    "        narrative  = tag(f'{info[\"FullName\"]} {info[\"Name\"]}')\n",
    "    )\n",
    "    if rec[\"narrative\"]:\n",
    "        records_cc.append(rec)\n",
    "\n",
    "df_cc = pd.DataFrame(records_cc)\n",
    "print(\"CryptoCompare narrativas:\\\\n\", df_cc[\"narrative\"].value_counts())\n"
   ]
  },
  {
   "cell_type": "markdown",
   "id": "07be0a52",
   "metadata": {},
   "source": [
    "## 2 · Categorías de CoinMarketCap"
   ]
  },
  {
   "cell_type": "code",
   "execution_count": null,
   "id": "91220dfc",
   "metadata": {},
   "outputs": [],
   "source": [
    "CAT_SLUG = {\n",
    "    \"ai\":\"artificial-intelligence\",\n",
    "    \"gaming\":\"gaming\",\n",
    "    \"meme\":\"memes\",\n",
    "    \"rwa\":\"real-world-assets\"\n",
    "}\n",
    "records_cmc=[]\n",
    "for nar,slug in CAT_SLUG.items():\n",
    "    url=\"https://pro-api.coinmarketcap.com/v1/cryptocurrency/category\"\n",
    "    params={\"slug\":slug,\"limit\":5000}\n",
    "    data=requests.get(url, params=params, headers=HEADERS_CMC, timeout=60).json()[\"data\"][\"coins\"]\n",
    "    for c in data:\n",
    "        rec=dict(id=c[\"symbol\"],symbol=c[\"symbol\"],name=c[\"name\"],price=c[\"quote\"][VS][\"price\"],\n",
    "                 volume=c[\"quote\"][VS][\"volume_24h\"],market_cap=c[\"quote\"][VS][\"market_cap\"], narrative=nar)\n",
    "        records_cmc.append(rec)\n",
    "print(\"CMC total filas:\",len(records_cmc))\n",
    "df_cmc=pd.DataFrame(records_cmc)\n",
    "print(df_cmc[\"narrative\"].value_counts())"
   ]
  },
  {
   "cell_type": "markdown",
   "id": "a4abab92",
   "metadata": {},
   "source": [
    "## 3 · Fusionar, deduplicar y guardar CSV"
   ]
  },
  {
   "cell_type": "code",
   "execution_count": null,
   "id": "779a42b2",
   "metadata": {},
   "outputs": [],
   "source": [
    "df_all = pd.concat([df_cc, df_cmc]).drop_duplicates(\"id\").reset_index(drop=True)\n",
    "print(\"\\nDistribución final:\")\n",
    "print(df_all[\"narrative\"].value_counts())\n",
    "print(\"Tokens finales:\",len(df_all))\n",
    "df_all.to_csv(OUT_CSV,index=False)\n",
    "print(\"✅ guardado\", OUT_CSV)"
   ]
  },
  {
   "cell_type": "markdown",
   "id": "9b72767a",
   "metadata": {},
   "source": [
    "## 4 · OHLC 1 año desde CryptoCompare"
   ]
  },
  {
   "cell_type": "code",
   "execution_count": null,
   "id": "0060e82a",
   "metadata": {},
   "outputs": [],
   "source": [
    "import datetime, asyncio, aiohttp, tqdm\n",
    "\n",
    "async def fetch_ohlc(sess, sym):\n",
    "    url=\"https://min-api.cryptocompare.com/data/v2/histoday\"\n",
    "    params={\"fsym\":sym,\"tsym\":VS,\"limit\":HIST_DAYS}\n",
    "    async with sess.get(url, params=params, headers=HEADERS_CC, timeout=20) as r:\n",
    "        j=await r.json()\n",
    "        if j.get(\"Response\")!=\"Success\":\n",
    "            return []\n",
    "        return [{\"id\":sym,\n",
    "                 \"date\": datetime.datetime.utcfromtimestamp(d[\"time\"]).strftime(\"%Y-%m-%d\"),\n",
    "                 \"close\": d[\"close\"]} for d in j[\"Data\"][\"Data\"]]\n",
    "\n",
    "async def gather_ohlc(symbols):\n",
    "    rows=[]; sem=asyncio.Semaphore(CONC_OHLC)\n",
    "    async with aiohttp.ClientSession() as sess:\n",
    "        async def worker(sym):\n",
    "            async with sem:\n",
    "                try: rows.extend(await fetch_ohlc(sess,sym))\n",
    "                except: pass\n",
    "        tasks=[worker(s) for s in symbols]\n",
    "        for _ in tqdm.tqdm(asyncio.as_completed(tasks), total=len(tasks), desc=\"OHLC\"):\n",
    "            await _\n",
    "    return rows\n",
    "\n",
    "t0=time.time()\n",
    "rows=asyncio.get_event_loop().run_until_complete(gather_ohlc(df_all[\"symbol\"].tolist()))\n",
    "print(f\"⏱️ OHLC filas {len(rows):,} en {time.time()-t0:.1f}s\")\n",
    "\n",
    "pd.DataFrame(rows).to_csv(OUT_OHLC,index=False)\n",
    "print(\"✅ OHLC CSV guardado →\", OUT_OHLC)"
   ]
  }
 ],
 "metadata": {
  "kernelspec": {
   "display_name": "Python 3",
   "language": "python",
   "name": "python3"
  },
  "language_info": {
   "codemirror_mode": {
    "name": "ipython",
    "version": 3
   },
   "file_extension": ".py",
   "mimetype": "text/x-python",
   "name": "python",
   "nbconvert_exporter": "python",
   "pygments_lexer": "ipython3",
   "version": "3.13.5"
  }
 },
 "nbformat": 4,
 "nbformat_minor": 5
}
