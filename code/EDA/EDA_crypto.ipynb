{
 "cells": [
  {
   "cell_type": "markdown",
   "id": "cbf4aa80",
   "metadata": {},
   "source": [
    "\n",
    "# Exploratory Data Analysis (EDA) – Crypto Narratives\n",
    "\n",
    "Este notebook analiza el conjunto **`crypto_ohlc_join.csv`** con el objetivo de:\n",
    "\n",
    "1. Validar la calidad del dataset (filas, duplicados, nulos).\n",
    "2. Entender la distribución de las **narrativas** (AI, Gaming, RWA, Meme).\n",
    "3. Caracterizar capitalización, volumen y precios.\n",
    "4. Derivar *features* temporales (rendimientos, volatilidades).\n",
    "5. Observar correlaciones y clusters preliminares.\n",
    "\n",
    "> **Ruta esperada del CSV:** `./data/crypto_ohlc_join.csv`\n"
   ]
  },
  {
   "cell_type": "code",
   "execution_count": null,
   "id": "a3ab017d",
   "metadata": {},
   "outputs": [],
   "source": [
    "import pandas as pd, numpy as np, matplotlib.pyplot as plt, seaborn as sns, os\n",
    "\n",
    "plt.style.use('classic')\n",
    "sns.set_context('talk')\n",
    "%matplotlib inline\n",
    "\n",
    "DATA_PATH = './data/crypto_ohlc_join.csv'  # ajusta si tu ruta es distinta\n",
    "assert os.path.exists(DATA_PATH), f'No se encontró {DATA_PATH}'\n",
    "df = pd.read_csv(DATA_PATH)\n",
    "print('Shape:', df.shape)\n",
    "df.head()\n"
   ]
  },
  {
   "cell_type": "markdown",
   "id": "a2542758",
   "metadata": {},
   "source": [
    "## 1. Estructura y valores faltantes"
   ]
  },
  {
   "cell_type": "code",
   "execution_count": null,
   "id": "cc4cc449",
   "metadata": {},
   "outputs": [],
   "source": [
    "df.info(show_counts=True)\n",
    "print('\\nValores nulos por columna:')\n",
    "print(df.isna().sum().sort_values())\n"
   ]
  },
  {
   "cell_type": "markdown",
   "id": "e43ced12",
   "metadata": {},
   "source": [
    "## 2. Distribución por narrativa"
   ]
  },
  {
   "cell_type": "code",
   "execution_count": null,
   "id": "73a30cab",
   "metadata": {},
   "outputs": [],
   "source": [
    "ax = df['narrative'].value_counts().plot(kind='bar', figsize=(6,4), title='Tokens por narrativa')\n",
    "ax.set_ylabel('count')\n",
    "plt.show()\n"
   ]
  },
  {
   "cell_type": "markdown",
   "id": "8971ed30",
   "metadata": {},
   "source": [
    "## 3. Estadísticas de capitalización y precio (último close)"
   ]
  },
  {
   "cell_type": "code",
   "execution_count": null,
   "id": "dbb410ac",
   "metadata": {},
   "outputs": [],
   "source": [
    "latest = df.sort_values('date').groupby('id').tail(1)\n",
    "stats = latest.groupby('narrative')['market_cap'].describe(percentiles=[.25,.5,.75])\n",
    "display(stats.style.format('{:,.0f}'))\n"
   ]
  },
  {
   "cell_type": "markdown",
   "id": "a9fbaed4",
   "metadata": {},
   "source": [
    "## 4. Trayectorias de precios (muestra aleatoria)"
   ]
  },
  {
   "cell_type": "code",
   "execution_count": null,
   "id": "34282adc",
   "metadata": {},
   "outputs": [],
   "source": [
    "sample_ids = np.random.choice(df['id'].unique(), size=6, replace=False)\n",
    "fig, ax = plt.subplots(figsize=(10,6))\n",
    "for sid in sample_ids:\n",
    "    sub = df[df['id']==sid]\n",
    "    ax.plot(sub['date'], sub['close'], label=sid, alpha=.7)\n",
    "ax.set_title('Precios (sample)')\n",
    "ax.set_ylabel('close USD')\n",
    "ax.legend()\n",
    "plt.xticks(rotation=45)\n",
    "plt.tight_layout()\n"
   ]
  },
  {
   "cell_type": "markdown",
   "id": "c2076873",
   "metadata": {},
   "source": [
    "## 5. Features temporales – retornos y volatilidad"
   ]
  },
  {
   "cell_type": "code",
   "execution_count": null,
   "id": "15cb6689",
   "metadata": {},
   "outputs": [],
   "source": [
    "df['close_shift'] = df.groupby('id')['close'].shift(1)\n",
    "df['ret_1d'] = df['close']/df['close_shift'] - 1\n",
    "vol = (df.groupby('id')['ret_1d']\n",
    "         .std(min_periods=20)\n",
    "         .reset_index(name='volatility'))\n",
    "\n",
    "vol_narr = vol.merge(df[['id','narrative']].drop_duplicates(), on='id')\n",
    "sns.boxplot(data=vol_narr, x='narrative', y='volatility')\n",
    "plt.title('Volatilidad diaria (~σ) por narrativa')\n",
    "plt.show()\n"
   ]
  },
  {
   "cell_type": "markdown",
   "id": "32d4e3ba",
   "metadata": {},
   "source": [
    "## 6. Correlación entre tokens (últimos 90 días)"
   ]
  },
  {
   "cell_type": "code",
   "execution_count": null,
   "id": "cb743f7f",
   "metadata": {},
   "outputs": [],
   "source": [
    "last90 = df[df['date'] >= df['date'].max() - pd.Timedelta('90D')]\n",
    "pivot = last90.pivot(index='date', columns='id', values='close')\n",
    "corr = pivot.pct_change().corr().fillna(0)\n",
    "sns.heatmap(corr, cmap='coolwarm', cbar=False)\n",
    "plt.title('Correlación 90 días (muestra)')\n",
    "plt.show()\n"
   ]
  }
 ],
 "metadata": {
  "kernelspec": {
   "display_name": "Python 3",
   "language": "python",
   "name": "python3"
  },
  "language_info": {
   "name": "python",
   "version": "3.13.5"
  }
 },
 "nbformat": 4,
 "nbformat_minor": 5
}
