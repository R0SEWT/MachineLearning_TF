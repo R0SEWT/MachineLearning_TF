{
 "cells": [
  {
   "cell_type": "markdown",
   "id": "ab7af136",
   "metadata": {},
   "source": [
    "# Model Training Notebook\n",
    "Actualizado para cumplir con los requisitos del proyecto — predicción de **retorno a 30 días** en criptos *low‑cap* (AI, Gaming, RWA, Meme)."
   ]
  },
  {
   "cell_type": "code",
   "execution_count": 1,
   "id": "64338fcf",
   "metadata": {},
   "outputs": [
    {
     "name": "stdout",
     "output_type": "stream",
     "text": [
      "Note: you may need to restart the kernel to use updated packages.\n",
      "✅ Paquetes listos — reinicia el kernel si alguno se actualizó\n"
     ]
    },
    {
     "name": "stderr",
     "output_type": "stream",
     "text": [
      "El sistema no puede encontrar el archivo especificado.\n"
     ]
    }
   ],
   "source": [
    "# ▸ Instalación / actualización de dependencias\n",
    "#    (ejecuta, espera a que termine y reinicia el kernel)\n",
    "%pip install -q --upgrade     numpy>=2.2     pandas>=2.2     matplotlib seaborn tqdm pyarrow==15.0.2     'scikit-learn>=1.3,<1.5'     optuna     xgboost>=2.0     catboost==1.2.5\n",
    "print('✅ Paquetes listos — reinicia el kernel si alguno se actualizó')"
   ]
  },
  {
   "cell_type": "markdown",
   "id": "8ef30ccc",
   "metadata": {},
   "source": [
    "## 1 · Carga de datos"
   ]
  },
  {
   "cell_type": "code",
   "execution_count": 2,
   "id": "c2c7e35c",
   "metadata": {},
   "outputs": [
    {
     "name": "stdout",
     "output_type": "stream",
     "text": [
      "Columnas: ['narrative', 'market_cap', 'volume', 'ret_7d', 'ret_30d', 'sma_7', 'sma_30', 'bb_width', 'vol_30d', 'cluster_id', 'future_ret_30d']\n",
      "Shape   : (107, 11)\n"
     ]
    },
    {
     "data": {
      "text/html": [
       "<div>\n",
       "<style scoped>\n",
       "    .dataframe tbody tr th:only-of-type {\n",
       "        vertical-align: middle;\n",
       "    }\n",
       "\n",
       "    .dataframe tbody tr th {\n",
       "        vertical-align: top;\n",
       "    }\n",
       "\n",
       "    .dataframe thead th {\n",
       "        text-align: right;\n",
       "    }\n",
       "</style>\n",
       "<table border=\"1\" class=\"dataframe\">\n",
       "  <thead>\n",
       "    <tr style=\"text-align: right;\">\n",
       "      <th></th>\n",
       "      <th>narrative</th>\n",
       "      <th>market_cap</th>\n",
       "      <th>volume</th>\n",
       "      <th>ret_7d</th>\n",
       "      <th>ret_30d</th>\n",
       "      <th>sma_7</th>\n",
       "      <th>sma_30</th>\n",
       "      <th>bb_width</th>\n",
       "      <th>vol_30d</th>\n",
       "      <th>cluster_id</th>\n",
       "      <th>future_ret_30d</th>\n",
       "    </tr>\n",
       "  </thead>\n",
       "  <tbody>\n",
       "    <tr>\n",
       "      <th>0</th>\n",
       "      <td>ai</td>\n",
       "      <td>6390.70</td>\n",
       "      <td>1.14</td>\n",
       "      <td>0.143164</td>\n",
       "      <td>0.318811</td>\n",
       "      <td>0.000007</td>\n",
       "      <td>0.000006</td>\n",
       "      <td>0.052517</td>\n",
       "      <td>0.064950</td>\n",
       "      <td>0</td>\n",
       "      <td>0.220198</td>\n",
       "    </tr>\n",
       "    <tr>\n",
       "      <th>1</th>\n",
       "      <td>ai</td>\n",
       "      <td>12580.77</td>\n",
       "      <td>4.97</td>\n",
       "      <td>-0.179978</td>\n",
       "      <td>0.154281</td>\n",
       "      <td>0.000031</td>\n",
       "      <td>0.000029</td>\n",
       "      <td>0.095881</td>\n",
       "      <td>0.063185</td>\n",
       "      <td>0</td>\n",
       "      <td>0.609897</td>\n",
       "    </tr>\n",
       "    <tr>\n",
       "      <th>2</th>\n",
       "      <td>ai</td>\n",
       "      <td>23651.00</td>\n",
       "      <td>6.53</td>\n",
       "      <td>-0.060415</td>\n",
       "      <td>0.247716</td>\n",
       "      <td>0.000026</td>\n",
       "      <td>0.000021</td>\n",
       "      <td>0.182911</td>\n",
       "      <td>0.086268</td>\n",
       "      <td>0</td>\n",
       "      <td>0.051540</td>\n",
       "    </tr>\n",
       "    <tr>\n",
       "      <th>3</th>\n",
       "      <td>ai</td>\n",
       "      <td>1443249.00</td>\n",
       "      <td>6.16</td>\n",
       "      <td>0.417425</td>\n",
       "      <td>0.701156</td>\n",
       "      <td>0.043002</td>\n",
       "      <td>0.035270</td>\n",
       "      <td>0.109074</td>\n",
       "      <td>0.079329</td>\n",
       "      <td>0</td>\n",
       "      <td>-0.445229</td>\n",
       "    </tr>\n",
       "    <tr>\n",
       "      <th>4</th>\n",
       "      <td>meme</td>\n",
       "      <td>107137.00</td>\n",
       "      <td>107.15</td>\n",
       "      <td>-0.154055</td>\n",
       "      <td>-0.388971</td>\n",
       "      <td>0.000021</td>\n",
       "      <td>0.000028</td>\n",
       "      <td>0.267150</td>\n",
       "      <td>0.099369</td>\n",
       "      <td>3</td>\n",
       "      <td>0.711866</td>\n",
       "    </tr>\n",
       "  </tbody>\n",
       "</table>\n",
       "</div>"
      ],
      "text/plain": [
       "  narrative  market_cap  volume    ret_7d   ret_30d     sma_7    sma_30  \\\n",
       "0        ai     6390.70    1.14  0.143164  0.318811  0.000007  0.000006   \n",
       "1        ai    12580.77    4.97 -0.179978  0.154281  0.000031  0.000029   \n",
       "2        ai    23651.00    6.53 -0.060415  0.247716  0.000026  0.000021   \n",
       "3        ai  1443249.00    6.16  0.417425  0.701156  0.043002  0.035270   \n",
       "4      meme   107137.00  107.15 -0.154055 -0.388971  0.000021  0.000028   \n",
       "\n",
       "   bb_width   vol_30d  cluster_id  future_ret_30d  \n",
       "0  0.052517  0.064950           0        0.220198  \n",
       "1  0.095881  0.063185           0        0.609897  \n",
       "2  0.182911  0.086268           0        0.051540  \n",
       "3  0.109074  0.079329           0       -0.445229  \n",
       "4  0.267150  0.099369           3        0.711866  "
      ]
     },
     "execution_count": 2,
     "metadata": {},
     "output_type": "execute_result"
    }
   ],
   "source": [
    "import pandas as pd, pathlib, warnings\n",
    "warnings.filterwarnings('ignore')\n",
    "\n",
    "DATA_PATH = pathlib.Path('../../data/ml_dataset.csv')\n",
    "assert DATA_PATH.exists(), f'No se encontró {DATA_PATH}'\n",
    "\n",
    "# 1⃣  cargamos sin parse_dates para inspeccionar primero\n",
    "df = pd.read_csv(DATA_PATH)\n",
    "print(\"Columnas:\", list(df.columns))\n",
    "print(\"Shape   :\", df.shape)\n",
    "\n",
    "# 2⃣  si existe alguna columna temporal la convertimos:\n",
    "for cand in [\"date\", \"fecha\", \"timestamp\"]:\n",
    "    if cand in df.columns:\n",
    "        df[cand] = pd.to_datetime(df[cand], errors=\"coerce\")\n",
    "        df = df.dropna(subset=[cand])          # opcional: descartar filas sin fecha\n",
    "        break                                  # salimos tras la primera coincidencia\n",
    "\n",
    "df.head()\n"
   ]
  },
  {
   "cell_type": "markdown",
   "id": "870bcce0",
   "metadata": {},
   "source": [
    "## 2 · Features + target"
   ]
  },
  {
   "cell_type": "code",
   "execution_count": 3,
   "id": "72a974d2",
   "metadata": {},
   "outputs": [
    {
     "name": "stdout",
     "output_type": "stream",
     "text": [
      "Num: 8 ['market_cap', 'volume', 'ret_7d', 'ret_30d', 'sma_7', 'sma_30', 'bb_width', 'vol_30d']\n"
     ]
    }
   ],
   "source": [
    "target = 'future_ret_30d'\n",
    "cat_cols = ['narrative','cluster_id']\n",
    "num_cols = [c for c in df.columns if c not in cat_cols + ['id','date',target]]\n",
    "\n",
    "print('Num:', len(num_cols), num_cols[:10])"
   ]
  },
  {
   "cell_type": "markdown",
   "id": "9569ce1a",
   "metadata": {},
   "source": [
    "## 3 · Split (train/val/test 60‑20‑20)"
   ]
  },
  {
   "cell_type": "code",
   "execution_count": 4,
   "id": "e0bd8266",
   "metadata": {},
   "outputs": [
    {
     "name": "stdout",
     "output_type": "stream",
     "text": [
      "(64, 10) (21, 10) (22, 10)\n"
     ]
    }
   ],
   "source": [
    "from sklearn.model_selection import train_test_split\n",
    "X = df[cat_cols + num_cols]\n",
    "y = df[target]\n",
    "\n",
    "X_train, X_temp, y_train, y_temp = train_test_split(X, y, test_size=0.4, random_state=42)\n",
    "X_val, X_test , y_val, y_test  = train_test_split(X_temp, y_temp, test_size=0.5, random_state=42)\n",
    "print(X_train.shape, X_val.shape, X_test.shape)"
   ]
  },
  {
   "cell_type": "markdown",
   "id": "9e6532fc",
   "metadata": {},
   "source": [
    "## 4 · Pipeline de pre‑procesamiento"
   ]
  },
  {
   "cell_type": "code",
   "execution_count": 5,
   "id": "bdeaf3aa",
   "metadata": {},
   "outputs": [],
   "source": [
    "from sklearn.compose import ColumnTransformer\n",
    "from sklearn.pipeline import Pipeline\n",
    "from sklearn.preprocessing import OneHotEncoder, StandardScaler\n",
    "from sklearn.impute import SimpleImputer\n",
    "\n",
    "pre = ColumnTransformer([\n",
    "    ('num', Pipeline([\n",
    "        ('imp', SimpleImputer(strategy='median')),\n",
    "        ('sc', StandardScaler())\n",
    "    ]), num_cols),\n",
    "    ('cat', OneHotEncoder(handle_unknown='ignore', sparse_output=False), cat_cols)\n",
    "])"
   ]
  },
  {
   "cell_type": "markdown",
   "id": "49d1e358",
   "metadata": {},
   "source": [
    "## 5 · Baselines: Ridge & ElasticNet"
   ]
  },
  {
   "cell_type": "code",
   "execution_count": 6,
   "id": "1883801b",
   "metadata": {},
   "outputs": [
    {
     "name": "stdout",
     "output_type": "stream",
     "text": [
      "Ridge  RMSE 1.1565082859675675 R² -16.536970412284802\n",
      "Elastic RMSE 0.35081911370014246 R² -0.6137028497569688\n"
     ]
    }
   ],
   "source": [
    "from sklearn.linear_model import RidgeCV, ElasticNetCV\n",
    "from sklearn.metrics import mean_squared_error, r2_score\n",
    "\n",
    "ridge_pipe = Pipeline([('prep',pre),('reg',RidgeCV(alphas=[0.1,1,10]))])\n",
    "ridge_pipe.fit(X_train,y_train)\n",
    "pred = ridge_pipe.predict(X_val)\n",
    "print('Ridge  RMSE',mean_squared_error(y_val,pred, squared=False),'R²',r2_score(y_val,pred))\n",
    "\n",
    "enet_pipe = Pipeline([('prep',pre),('reg',ElasticNetCV(alphas=[0.01,0.1,1],l1_ratio=[.1,.5,.9],max_iter=5000))])\n",
    "enet_pipe.fit(X_train,y_train)\n",
    "pred2 = enet_pipe.predict(X_val)\n",
    "print('Elastic RMSE',mean_squared_error(y_val,pred2, squared=False),'R²',r2_score(y_val,pred2))"
   ]
  },
  {
   "cell_type": "code",
   "execution_count": 7,
   "id": "83bd4262",
   "metadata": {},
   "outputs": [
    {
     "name": "stdout",
     "output_type": "stream",
     "text": [
      "Requirement already satisfied: xgboost in c:\\users\\usuario\\appdata\\local\\packages\\pythonsoftwarefoundation.python.3.11_qbz5n2kfra8p0\\localcache\\local-packages\\python311\\site-packages (3.0.2)\n",
      "Requirement already satisfied: numpy in c:\\users\\usuario\\appdata\\local\\packages\\pythonsoftwarefoundation.python.3.11_qbz5n2kfra8p0\\localcache\\local-packages\\python311\\site-packages (from xgboost) (2.1.3)\n",
      "Requirement already satisfied: scipy in c:\\users\\usuario\\appdata\\local\\packages\\pythonsoftwarefoundation.python.3.11_qbz5n2kfra8p0\\localcache\\local-packages\\python311\\site-packages (from xgboost) (1.15.3)\n"
     ]
    }
   ],
   "source": [
    "!pip install xgboost"
   ]
  },
  {
   "cell_type": "markdown",
   "id": "2a0ce4ed",
   "metadata": {},
   "source": [
    "## 6 · Optuna + XGBoost (GPU)"
   ]
  },
  {
   "cell_type": "code",
   "execution_count": 10,
   "id": "a6fe92b0",
   "metadata": {},
   "outputs": [
    {
     "name": "stderr",
     "output_type": "stream",
     "text": [
      "[I 2025-07-08 06:58:39,807] A new study created in memory with name: no-name-66477c14-b281-4e58-a76c-f2161cb7f2fe\n"
     ]
    },
    {
     "name": "stdout",
     "output_type": "stream",
     "text": [
      "🔍  Optimizando 30 trials …\n"
     ]
    },
    {
     "name": "stderr",
     "output_type": "stream",
     "text": [
      "  0%|          | 0/30 [00:00<?, ?it/s][I 2025-07-08 06:58:40,168] Trial 0 finished with value: 0.34243890647768416 and parameters: {'max_depth': 8, 'lr': 0.09665864350970928, 'subsample': 0.6952702660335506, 'colsample': 0.7354918694282495, 'min_child_weight': 0.2334666255338261, 'lambda': 6.471675020686704, 'alpha': 0.5682325027338992}. Best is trial 0 with value: 0.34243890647768416.\n",
      "  3%|▎         | 1/30 [00:00<00:10,  2.77it/s][I 2025-07-08 06:58:40,332] Trial 1 finished with value: 0.3503754560484391 and parameters: {'max_depth': 4, 'lr': 0.03462539767208608, 'subsample': 0.6008212072451321, 'colsample': 0.9348998655985855, 'min_child_weight': 0.04270866950901755, 'lambda': 0.014702441811044666, 'alpha': 0.06272810505108249}. Best is trial 0 with value: 0.34243890647768416.\n",
      "  7%|▋         | 2/30 [00:00<00:06,  4.09it/s][I 2025-07-08 06:58:40,564] Trial 2 finished with value: 0.34468671017654645 and parameters: {'max_depth': 10, 'lr': 0.03949533991734223, 'subsample': 0.5316169655852641, 'colsample': 0.9654782107114264, 'min_child_weight': 0.28548364377920316, 'lambda': 3.123914029540553, 'alpha': 0.007597558781571947}. Best is trial 0 with value: 0.34243890647768416.\n",
      " 10%|█         | 3/30 [00:00<00:06,  4.19it/s][I 2025-07-08 06:58:40,825] Trial 3 finished with value: 0.34559798035726863 and parameters: {'max_depth': 4, 'lr': 0.007035810563383665, 'subsample': 0.7243642814261878, 'colsample': 0.5855282340274409, 'min_child_weight': 0.0011207154732379772, 'lambda': 1.5848555952809487, 'alpha': 0.03533692826941033}. Best is trial 0 with value: 0.34243890647768416.\n",
      " 13%|█▎        | 4/30 [00:01<00:06,  4.04it/s][I 2025-07-08 06:58:41,051] Trial 4 finished with value: 0.35109321431810986 and parameters: {'max_depth': 6, 'lr': 0.0017988753473968577, 'subsample': 0.8707712267247458, 'colsample': 0.9446734622960236, 'min_child_weight': 0.012034710646548858, 'lambda': 0.2296162363788525, 'alpha': 0.002973647004151886}. Best is trial 0 with value: 0.34243890647768416.\n",
      " 17%|█▋        | 5/30 [00:01<00:05,  4.17it/s][I 2025-07-08 06:58:41,212] Trial 5 finished with value: 0.351318298867541 and parameters: {'max_depth': 4, 'lr': 0.021935877831234258, 'subsample': 0.6935772929499853, 'colsample': 0.7682482281484937, 'min_child_weight': 0.0018439660553585574, 'lambda': 1.0614357141369055, 'alpha': 0.5127626705136131}. Best is trial 0 with value: 0.34243890647768416.\n",
      " 20%|██        | 6/30 [00:01<00:05,  4.69it/s][I 2025-07-08 06:58:41,529] Trial 6 finished with value: 0.34818161441493345 and parameters: {'max_depth': 9, 'lr': 0.004982084992971969, 'subsample': 0.9257497476180474, 'colsample': 0.5023799845590416, 'min_child_weight': 0.0010189492073964014, 'lambda': 0.45525178617451645, 'alpha': 2.7763121129987027}. Best is trial 0 with value: 0.34243890647768416.\n",
      " 23%|██▎       | 7/30 [00:01<00:05,  4.05it/s][I 2025-07-08 06:58:41,771] Trial 7 finished with value: 0.35062267544210274 and parameters: {'max_depth': 10, 'lr': 0.007692625256727649, 'subsample': 0.9360604581656007, 'colsample': 0.5833730012196773, 'min_child_weight': 0.11141684277930922, 'lambda': 0.07120715973456655, 'alpha': 0.7397699954790501}. Best is trial 0 with value: 0.34243890647768416.\n",
      " 27%|██▋       | 8/30 [00:01<00:05,  4.07it/s][I 2025-07-08 06:58:42,059] Trial 8 finished with value: 0.34947232919481885 and parameters: {'max_depth': 10, 'lr': 0.002672000224857332, 'subsample': 0.6418401180744495, 'colsample': 0.9908971427715647, 'min_child_weight': 2.0209217438737705, 'lambda': 0.05391772838160888, 'alpha': 0.0011970290174667696}. Best is trial 0 with value: 0.34243890647768416.\n",
      " 30%|███       | 9/30 [00:02<00:05,  3.86it/s][I 2025-07-08 06:58:42,335] Trial 9 finished with value: 0.3491266284791546 and parameters: {'max_depth': 10, 'lr': 0.023282151627320738, 'subsample': 0.568626693763391, 'colsample': 0.7958001167367759, 'min_child_weight': 0.0020478834847621453, 'lambda': 0.007675124640972286, 'alpha': 0.022750418067298585}. Best is trial 0 with value: 0.34243890647768416.\n",
      " 33%|███▎      | 10/30 [00:02<00:05,  3.79it/s][I 2025-07-08 06:58:42,453] Trial 10 finished with value: 0.34904497525664147 and parameters: {'max_depth': 7, 'lr': 0.09118602858370803, 'subsample': 0.8078966877192996, 'colsample': 0.6748350494424807, 'min_child_weight': 6.635783218253143, 'lambda': 6.593168226584727, 'alpha': 8.537697498922924}. Best is trial 0 with value: 0.34243890647768416.\n",
      " 37%|███▋      | 11/30 [00:02<00:04,  4.56it/s][I 2025-07-08 06:58:42,709] Trial 11 finished with value: 0.3394472920367957 and parameters: {'max_depth': 8, 'lr': 0.06918065130151636, 'subsample': 0.5119130994891491, 'colsample': 0.8521328234489646, 'min_child_weight': 0.3968466984809276, 'lambda': 8.566363062364786, 'alpha': 0.008325662819565888}. Best is trial 11 with value: 0.3394472920367957.\n",
      " 40%|████      | 12/30 [00:02<00:04,  4.34it/s][I 2025-07-08 06:58:42,938] Trial 12 finished with value: 0.33188648980873714 and parameters: {'max_depth': 8, 'lr': 0.09880012035206565, 'subsample': 0.5123014073206351, 'colsample': 0.8426406227614185, 'min_child_weight': 0.7574595403979746, 'lambda': 7.91648425032477, 'alpha': 0.44849239033463395}. Best is trial 12 with value: 0.33188648980873714.\n",
      " 43%|████▎     | 13/30 [00:03<00:03,  4.34it/s][I 2025-07-08 06:58:43,186] Trial 13 finished with value: 0.3397783568251569 and parameters: {'max_depth': 7, 'lr': 0.0556188003559812, 'subsample': 0.5141672022282261, 'colsample': 0.8526059193641913, 'min_child_weight': 0.9901460611528071, 'lambda': 9.899833764884185, 'alpha': 0.010874881470600992}. Best is trial 12 with value: 0.33188648980873714.\n",
      " 47%|████▋     | 14/30 [00:03<00:03,  4.25it/s][I 2025-07-08 06:58:43,445] Trial 14 finished with value: 0.3474506366315024 and parameters: {'max_depth': 8, 'lr': 0.021339506558596753, 'subsample': 0.6218223612652849, 'colsample': 0.8560786803096946, 'min_child_weight': 0.9594484833971345, 'lambda': 0.0012053361747903643, 'alpha': 0.11337152102555308}. Best is trial 12 with value: 0.33188648980873714.\n",
      " 50%|█████     | 15/30 [00:03<00:03,  4.12it/s][I 2025-07-08 06:58:43,588] Trial 15 finished with value: 0.33627090659190795 and parameters: {'max_depth': 6, 'lr': 0.057513501508326285, 'subsample': 0.5510915771293635, 'colsample': 0.8489181496119524, 'min_child_weight': 9.77902685116945, 'lambda': 1.0941377220865731, 'alpha': 0.17008857610126388}. Best is trial 12 with value: 0.33188648980873714.\n",
      " 53%|█████▎    | 16/30 [00:03<00:02,  4.70it/s][I 2025-07-08 06:58:43,773] Trial 16 finished with value: 0.34582146187189744 and parameters: {'max_depth': 6, 'lr': 0.014663098461656716, 'subsample': 0.7921953757956386, 'colsample': 0.8925273572916015, 'min_child_weight': 5.95973035805712, 'lambda': 0.6663749327261592, 'alpha': 0.17455757021340498}. Best is trial 12 with value: 0.33188648980873714.\n",
      " 57%|█████▋    | 17/30 [00:03<00:02,  4.90it/s][I 2025-07-08 06:58:43,948] Trial 17 finished with value: 0.3416940064327073 and parameters: {'max_depth': 6, 'lr': 0.044292015760726486, 'subsample': 0.5756725528433653, 'colsample': 0.7092923232971249, 'min_child_weight': 9.21615420861504, 'lambda': 1.9684858510699539, 'alpha': 0.23165485112162845}. Best is trial 12 with value: 0.33188648980873714.\n",
      " 60%|██████    | 18/30 [00:04<00:02,  5.12it/s][I 2025-07-08 06:58:44,130] Trial 18 finished with value: 0.3462027482219532 and parameters: {'max_depth': 5, 'lr': 0.013026194980950095, 'subsample': 0.6521568548324181, 'colsample': 0.8114221573765781, 'min_child_weight': 2.4674412323430173, 'lambda': 0.1355272658899739, 'alpha': 1.8316901815669657}. Best is trial 12 with value: 0.33188648980873714.\n",
      " 63%|██████▎   | 19/30 [00:04<00:02,  5.22it/s][I 2025-07-08 06:58:44,316] Trial 19 finished with value: 0.34649329296345893 and parameters: {'max_depth': 7, 'lr': 0.06079492538275867, 'subsample': 0.5562388171114523, 'colsample': 0.9046212734471604, 'min_child_weight': 0.023450762023042943, 'lambda': 0.3763004434826554, 'alpha': 1.878755044245644}. Best is trial 12 with value: 0.33188648980873714.\n",
      " 67%|██████▋   | 20/30 [00:04<00:01,  5.27it/s][I 2025-07-08 06:58:44,510] Trial 20 finished with value: 0.33989634504354094 and parameters: {'max_depth': 5, 'lr': 0.030604213082960127, 'subsample': 0.5036988185166285, 'colsample': 0.6701533677181952, 'min_child_weight': 2.636913806230817, 'lambda': 3.0622357085629677, 'alpha': 0.34357379200600874}. Best is trial 12 with value: 0.33188648980873714.\n",
      " 70%|███████   | 21/30 [00:04<00:01,  5.23it/s][I 2025-07-08 06:58:44,738] Trial 21 finished with value: 0.34756628439679793 and parameters: {'max_depth': 8, 'lr': 0.07000006383304394, 'subsample': 0.5053364377356302, 'colsample': 0.8387937818845979, 'min_child_weight': 0.515579581056339, 'lambda': 3.524920777265997, 'alpha': 0.07079640971082442}. Best is trial 12 with value: 0.33188648980873714.\n",
      " 73%|███████▎  | 22/30 [00:04<00:01,  4.95it/s][I 2025-07-08 06:58:44,978] Trial 22 finished with value: 0.34161563419072616 and parameters: {'max_depth': 9, 'lr': 0.09407032753487878, 'subsample': 0.5608670595126589, 'colsample': 0.8905778562306502, 'min_child_weight': 0.11236973204896805, 'lambda': 9.196819439144216, 'alpha': 0.016710427923845826}. Best is trial 12 with value: 0.33188648980873714.\n",
      " 77%|███████▋  | 23/30 [00:05<00:01,  4.68it/s][I 2025-07-08 06:58:45,247] Trial 23 finished with value: 0.34125260050965844 and parameters: {'max_depth': 9, 'lr': 0.058722646876704504, 'subsample': 0.6135239925447539, 'colsample': 0.7857435219757888, 'min_child_weight': 0.6076359179850966, 'lambda': 1.4029892019734707, 'alpha': 0.006780211192606382}. Best is trial 12 with value: 0.33188648980873714.\n",
      " 80%|████████  | 24/30 [00:05<00:01,  4.35it/s][I 2025-07-08 06:58:45,509] Trial 24 finished with value: 0.3454606567031633 and parameters: {'max_depth': 8, 'lr': 0.0463140180356276, 'subsample': 0.5453946570976025, 'colsample': 0.8435065701473573, 'min_child_weight': 0.2531265892304959, 'lambda': 3.8576684088710276, 'alpha': 0.045955451471313184}. Best is trial 12 with value: 0.33188648980873714.\n",
      " 83%|████████▎ | 25/30 [00:05<00:01,  4.17it/s][I 2025-07-08 06:58:45,720] Trial 25 finished with value: 0.34951617462717294 and parameters: {'max_depth': 7, 'lr': 0.07328372145271865, 'subsample': 0.6712678667856505, 'colsample': 0.7424657484180922, 'min_child_weight': 3.277523472107236, 'lambda': 0.8784575775931353, 'alpha': 0.13375993080592108}. Best is trial 12 with value: 0.33188648980873714.\n",
      " 87%|████████▋ | 26/30 [00:05<00:00,  4.33it/s][I 2025-07-08 06:58:45,915] Trial 26 finished with value: 0.3480032877888212 and parameters: {'max_depth': 6, 'lr': 0.028326152413146878, 'subsample': 0.5802324518032691, 'colsample': 0.8178817621406627, 'min_child_weight': 1.260675395506236, 'lambda': 3.641422411896299, 'alpha': 0.9518344766995641}. Best is trial 12 with value: 0.33188648980873714.\n",
      " 90%|█████████ | 27/30 [00:06<00:00,  4.54it/s][I 2025-07-08 06:58:46,111] Trial 27 finished with value: 0.3559974440622746 and parameters: {'max_depth': 5, 'lr': 0.01804353067053321, 'subsample': 0.7459244275372829, 'colsample': 0.9058365182478377, 'min_child_weight': 0.06334225074837709, 'lambda': 0.027564000299078083, 'alpha': 0.3046155090191228}. Best is trial 12 with value: 0.33188648980873714.\n",
      " 93%|█████████▎| 28/30 [00:06<00:00,  4.70it/s][I 2025-07-08 06:58:46,390] Trial 28 finished with value: 0.3517395141451024 and parameters: {'max_depth': 9, 'lr': 0.045773963858727694, 'subsample': 0.5028809785219842, 'colsample': 0.8722343625701022, 'min_child_weight': 0.4359938317580019, 'lambda': 0.25489585606075554, 'alpha': 0.0010067538436095934}. Best is trial 12 with value: 0.33188648980873714.\n",
      " 97%|█████████▋| 29/30 [00:06<00:00,  4.29it/s][I 2025-07-08 06:58:46,652] Trial 29 finished with value: 0.3364602415887442 and parameters: {'max_depth': 8, 'lr': 0.07585759318292776, 'subsample': 0.5978997842405296, 'colsample': 0.7144994437070424, 'min_child_weight': 0.1646307314914601, 'lambda': 5.2373076861586165, 'alpha': 0.004229072192451536}. Best is trial 12 with value: 0.33188648980873714.\n",
      "100%|██████████| 30/30 [00:06<00:00,  4.38it/s]\n"
     ]
    },
    {
     "name": "stdout",
     "output_type": "stream",
     "text": [
      "✅  Mejor RMSE: 0.3319\n",
      "Mejores hiperparámetros: {'max_depth': 8, 'lr': 0.09880012035206565, 'subsample': 0.5123014073206351, 'colsample': 0.8426406227614185, 'min_child_weight': 0.7574595403979746, 'lambda': 7.91648425032477, 'alpha': 0.44849239033463395}\n",
      "Final RMSE: 0.31184302070311504\n"
     ]
    },
    {
     "ename": "XGBoostError",
     "evalue": "[06:58:46] C:\\actions-runner\\_work\\xgboost\\xgboost\\dmlc-core\\src\\io\\local_filesys.cc:210: Check failed: allow_null:  LocalFileSystem::Open \"../../models/xgb_optuna_best.model\": No such file or directory",
     "output_type": "error",
     "traceback": [
      "\u001b[1;31m---------------------------------------------------------------------------\u001b[0m",
      "\u001b[1;31mXGBoostError\u001b[0m                              Traceback (most recent call last)",
      "Cell \u001b[1;32mIn[10], line 87\u001b[0m\n\u001b[0;32m     85\u001b[0m \u001b[38;5;66;03m# ------------ 5 ▸ guardar artefacto ------------------------------------\u001b[39;00m\n\u001b[0;32m     86\u001b[0m MODEL_PATH \u001b[38;5;241m=\u001b[39m \u001b[38;5;124m\"\u001b[39m\u001b[38;5;124m../../models/xgb_optuna_best.model\u001b[39m\u001b[38;5;124m\"\u001b[39m\n\u001b[1;32m---> 87\u001b[0m \u001b[43mbest_bst\u001b[49m\u001b[38;5;241;43m.\u001b[39;49m\u001b[43msave_model\u001b[49m\u001b[43m(\u001b[49m\u001b[43mMODEL_PATH\u001b[49m\u001b[43m)\u001b[49m\n\u001b[0;32m     88\u001b[0m \u001b[38;5;28mprint\u001b[39m(\u001b[38;5;124m\"\u001b[39m\u001b[38;5;124m💾  Modelo guardado en\u001b[39m\u001b[38;5;124m\"\u001b[39m, MODEL_PATH)\n",
      "File \u001b[1;32m~\\AppData\\Local\\Packages\\PythonSoftwareFoundation.Python.3.11_qbz5n2kfra8p0\\LocalCache\\local-packages\\Python311\\site-packages\\xgboost\\core.py:2797\u001b[0m, in \u001b[0;36mBooster.save_model\u001b[1;34m(self, fname)\u001b[0m\n\u001b[0;32m   2795\u001b[0m \u001b[38;5;28;01mif\u001b[39;00m \u001b[38;5;28misinstance\u001b[39m(fname, (\u001b[38;5;28mstr\u001b[39m, os\u001b[38;5;241m.\u001b[39mPathLike)):  \u001b[38;5;66;03m# assume file name\u001b[39;00m\n\u001b[0;32m   2796\u001b[0m     fname \u001b[38;5;241m=\u001b[39m os\u001b[38;5;241m.\u001b[39mfspath(os\u001b[38;5;241m.\u001b[39mpath\u001b[38;5;241m.\u001b[39mexpanduser(fname))\n\u001b[1;32m-> 2797\u001b[0m     \u001b[43m_check_call\u001b[49m\u001b[43m(\u001b[49m\u001b[43m_LIB\u001b[49m\u001b[38;5;241;43m.\u001b[39;49m\u001b[43mXGBoosterSaveModel\u001b[49m\u001b[43m(\u001b[49m\u001b[38;5;28;43mself\u001b[39;49m\u001b[38;5;241;43m.\u001b[39;49m\u001b[43mhandle\u001b[49m\u001b[43m,\u001b[49m\u001b[43m \u001b[49m\u001b[43mc_str\u001b[49m\u001b[43m(\u001b[49m\u001b[43mfname\u001b[49m\u001b[43m)\u001b[49m\u001b[43m)\u001b[49m\u001b[43m)\u001b[49m\n\u001b[0;32m   2798\u001b[0m \u001b[38;5;28;01melse\u001b[39;00m:\n\u001b[0;32m   2799\u001b[0m     \u001b[38;5;28;01mraise\u001b[39;00m \u001b[38;5;167;01mTypeError\u001b[39;00m(\u001b[38;5;124m\"\u001b[39m\u001b[38;5;124mfname must be a string or os PathLike\u001b[39m\u001b[38;5;124m\"\u001b[39m)\n",
      "File \u001b[1;32m~\\AppData\\Local\\Packages\\PythonSoftwareFoundation.Python.3.11_qbz5n2kfra8p0\\LocalCache\\local-packages\\Python311\\site-packages\\xgboost\\core.py:310\u001b[0m, in \u001b[0;36m_check_call\u001b[1;34m(ret)\u001b[0m\n\u001b[0;32m    299\u001b[0m \u001b[38;5;250m\u001b[39m\u001b[38;5;124;03m\"\"\"Check the return value of C API call\u001b[39;00m\n\u001b[0;32m    300\u001b[0m \n\u001b[0;32m    301\u001b[0m \u001b[38;5;124;03mThis function will raise exception when error occurs.\u001b[39;00m\n\u001b[1;32m   (...)\u001b[0m\n\u001b[0;32m    307\u001b[0m \u001b[38;5;124;03m    return value from API calls\u001b[39;00m\n\u001b[0;32m    308\u001b[0m \u001b[38;5;124;03m\"\"\"\u001b[39;00m\n\u001b[0;32m    309\u001b[0m \u001b[38;5;28;01mif\u001b[39;00m ret \u001b[38;5;241m!=\u001b[39m \u001b[38;5;241m0\u001b[39m:\n\u001b[1;32m--> 310\u001b[0m     \u001b[38;5;28;01mraise\u001b[39;00m XGBoostError(py_str(_LIB\u001b[38;5;241m.\u001b[39mXGBGetLastError()))\n",
      "\u001b[1;31mXGBoostError\u001b[0m: [06:58:46] C:\\actions-runner\\_work\\xgboost\\xgboost\\dmlc-core\\src\\io\\local_filesys.cc:210: Check failed: allow_null:  LocalFileSystem::Open \"../../models/xgb_optuna_best.model\": No such file or directory"
     ]
    }
   ],
   "source": [
    "# %% [markdown]\n",
    "# ## Optuna + XGBoost 2.x (con categorías nativas y early-stopping)\n",
    "\n",
    "# %%\n",
    "import optuna, xgboost as xgb, numpy as np, tqdm\n",
    "from sklearn.metrics import mean_squared_error\n",
    "import pandas as pd\n",
    "\n",
    "# ------------ 1 ▸ preparar DMatrix con categorías -----------------------\n",
    "cat_cols = [\"narrative\", \"cluster_id\"]        # ajusta si cambian\n",
    "def to_dmatrix(X, y):\n",
    "    X_ok = X.copy()\n",
    "    for c in cat_cols:\n",
    "        if c in X_ok.columns:\n",
    "            X_ok[c] = X_ok[c].astype(\"category\")   # -> pandas category\n",
    "    return xgb.DMatrix(\n",
    "        data=X_ok,\n",
    "        label=y.values.astype(np.float32),\n",
    "        enable_categorical=True,\n",
    "        missing=np.nan,\n",
    "    )\n",
    "\n",
    "dtrain = to_dmatrix(X_train, y_train)\n",
    "dval   = to_dmatrix(X_val,   y_val)\n",
    "\n",
    "# ------------ 2 ▸ función objetivo Optuna ------------------------------\n",
    "def objective(trial):\n",
    "    params = {\n",
    "        \"objective\": \"reg:squarederror\",\n",
    "        \"tree_method\": \"hist\",   # GPU => hist + device=cuda\n",
    "        \"device\": \"cuda\",\n",
    "        \"max_depth\":        trial.suggest_int(\"max_depth\", 4, 10),\n",
    "        \"learning_rate\":    trial.suggest_float(\"lr\", 1e-3, 1e-1, log=True),\n",
    "        \"subsample\":        trial.suggest_float(\"subsample\", .5, 1.0),\n",
    "        \"colsample_bytree\": trial.suggest_float(\"colsample\", .5, 1.0),\n",
    "        \"min_child_weight\": trial.suggest_float(\"min_child_weight\", 1e-3, 10, log=True),\n",
    "        \"lambda\":           trial.suggest_float(\"lambda\", 1e-3, 10, log=True),\n",
    "        \"alpha\":            trial.suggest_float(\"alpha\",  1e-3, 10, log=True),\n",
    "        \"seed\": 42,\n",
    "    }\n",
    "\n",
    "    bst = xgb.train(\n",
    "        params,\n",
    "        dtrain,\n",
    "        num_boost_round=2000,\n",
    "        evals=[(dval, \"val\")],\n",
    "        early_stopping_rounds=50,\n",
    "        verbose_eval=False,\n",
    "    )\n",
    "    pred = bst.predict(dval, iteration_range=(0, bst.best_iteration + 1))\n",
    "    return mean_squared_error(y_val, pred, squared=False)\n",
    "\n",
    "# ------------ 3 ▸ lanzar la optimización -------------------------------\n",
    "n_trials = 30\n",
    "print(f\"🔍  Optimizando {n_trials} trials …\")\n",
    "study = optuna.create_study(direction=\"minimize\")\n",
    "for _ in tqdm.tqdm(range(n_trials)):\n",
    "    study.optimize(objective, n_trials=1, catch=(Exception,))\n",
    "\n",
    "print(f\"✅  Mejor RMSE: {study.best_value:.4f}\")\n",
    "print(\"Mejores hiperparámetros:\", study.best_params)\n",
    "\n",
    "# ------------ 4 ▸ entrenar modelo final --------------------------------\n",
    "best_params = {\n",
    "    **study.best_params,\n",
    "    \"objective\": \"reg:squarederror\",\n",
    "    \"tree_method\": \"hist\",\n",
    "    \"device\": \"cuda\",\n",
    "    \"seed\": 42,\n",
    "}\n",
    "\n",
    "best_bst = xgb.train(\n",
    "    best_params,\n",
    "    dtrain,\n",
    "    num_boost_round=2000,\n",
    "    evals=[(dval, \"val\")],\n",
    "    early_stopping_rounds=50,\n",
    "    verbose_eval=False,\n",
    ")\n",
    "\n",
    "# métricas finales\n",
    "y_pred = best_bst.predict(dval, iteration_range=(0, best_bst.best_iteration + 1))\n",
    "print(\"Final RMSE:\", mean_squared_error(y_val, y_pred, squared=False))\n",
    "\n",
    "# ------------ 5 ▸ guardar artefacto ------------------------------------\n",
    "MODEL_PATH = \"../../models/xgb_optuna_best.model\"\n",
    "best_bst.save_model(MODEL_PATH)\n",
    "print(\"💾  Modelo guardado en\", MODEL_PATH)\n"
   ]
  },
  {
   "cell_type": "code",
   "execution_count": 11,
   "id": "ae6054b5",
   "metadata": {},
   "outputs": [
    {
     "name": "stdout",
     "output_type": "stream",
     "text": [
      "⚠️  pre_pipe no está definido — se omitió su guardado.\n",
      "✅  Modelo XGBoost guardado en ..\\..\\models\\xgb_optuna_best_20250708_070015.json\n",
      "✅  Hiperparámetros guardados en ..\\..\\models\\xgb_optuna_best_params_20250708_070015.json\n"
     ]
    }
   ],
   "source": [
    "# ▸ Guardado limpio de artefactos\n",
    "import pathlib, json, joblib, os\n",
    "from datetime import datetime\n",
    "\n",
    "# ──────────────────────────────────────────────────────\n",
    "# 1. Carpetas\n",
    "# ──────────────────────────────────────────────────────\n",
    "MODELS_DIR = pathlib.Path(\"../../models\")\n",
    "MODELS_DIR.mkdir(parents=True, exist_ok=True)      # crea recursivamente\n",
    "\n",
    "timestamp   = datetime.now().strftime(\"%Y%m%d_%H%M%S\")\n",
    "model_path  = MODELS_DIR / f\"xgb_optuna_best_{timestamp}.json\"     # formato JSON → ligero\n",
    "params_path = MODELS_DIR / f\"xgb_optuna_best_params_{timestamp}.json\"\n",
    "prep_path   = MODELS_DIR / f\"preprocessor_{timestamp}.joblib\"\n",
    "\n",
    "# ──────────────────────────────────────────────────────\n",
    "# 2. Guardar Booster (árboles) y parámetros Optuna\n",
    "# ──────────────────────────────────────────────────────\n",
    "best_bst.save_model(model_path.as_posix())\n",
    "with params_path.open(\"w\", encoding=\"utf-8\") as f:\n",
    "    json.dump(best_params, f, indent=2)\n",
    "\n",
    "# ──────────────────────────────────────────────────────\n",
    "# 3. (Opcional) Guardar el pre-procesador completo\n",
    "# ──────────────────────────────────────────────────────\n",
    "# Si usaste 'pre_pipe' (ColumnTransformer + OneHotEncoder + etc.):\n",
    "try:\n",
    "    joblib.dump(pre_pipe, prep_path)\n",
    "    print(\"💾  Preprocesador guardado en\", prep_path)\n",
    "except NameError:\n",
    "    print(\"⚠️  pre_pipe no está definido — se omitió su guardado.\")\n",
    "\n",
    "print(\"✅  Modelo XGBoost guardado en\", model_path)\n",
    "print(\"✅  Hiperparámetros guardados en\", params_path)\n"
   ]
  },
  {
   "cell_type": "markdown",
   "id": "c0767b94",
   "metadata": {},
   "source": [
    "## 7 · Evaluación en test"
   ]
  },
  {
   "cell_type": "code",
   "execution_count": null,
   "id": "987f4cc8",
   "metadata": {},
   "outputs": [],
   "source": [
    "from sklearn.metrics import mean_absolute_error\n",
    "pred_test = best_xgb.predict(X_test)\n",
    "rmse = mean_squared_error(y_test, pred_test, squared=False)\n",
    "mae  = mean_absolute_error(y_test, pred_test)\n",
    "print('Test RMSE',rmse,'MAE',mae)"
   ]
  },
  {
   "cell_type": "markdown",
   "id": "218f9041",
   "metadata": {},
   "source": [
    "## 8 · Guardar modelo"
   ]
  },
  {
   "cell_type": "code",
   "execution_count": null,
   "id": "a6977f89",
   "metadata": {},
   "outputs": [],
   "source": [
    "import joblib, pathlib, datetime, json\n",
    "OUT_DIR = pathlib.Path('../models'); OUT_DIR.mkdir(exist_ok=True, parents=True)\n",
    "stamp = datetime.datetime.now().strftime('%Y%m%d_%H%M')\n",
    "joblib.dump(best_xgb, OUT_DIR/f'xgb_best_{stamp}.pkl')\n",
    "json.dump(best_params, open(OUT_DIR/f'xgb_params_{stamp}.json','w'))\n",
    "print('✅ Modelo y params guardados')"
   ]
  }
 ],
 "metadata": {
  "kernelspec": {
   "display_name": "Python 3",
   "language": "python",
   "name": "python3"
  },
  "language_info": {
   "codemirror_mode": {
    "name": "ipython",
    "version": 3
   },
   "file_extension": ".py",
   "mimetype": "text/x-python",
   "name": "python",
   "nbconvert_exporter": "python",
   "pygments_lexer": "ipython3",
   "version": "3.11.9"
  }
 },
 "nbformat": 4,
 "nbformat_minor": 5
}
